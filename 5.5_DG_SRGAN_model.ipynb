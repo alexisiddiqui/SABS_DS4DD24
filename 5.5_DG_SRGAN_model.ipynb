{
 "cells": [
  {
   "cell_type": "code",
   "execution_count": 1,
   "metadata": {},
   "outputs": [],
   "source": [
    "# !git clone https://github.com/golmschenk/sr-gan.git\n",
    "# ! git submodule add https://github.com/golmschenk/sr-gan.git srgan"
   ]
  },
  {
   "cell_type": "code",
   "execution_count": 2,
   "metadata": {},
   "outputs": [],
   "source": [
    "# if torch.backends.mps.is_available():\n",
    "#     gpu = torch.device(\"mps\")  # Use MPS on Apple Silicon\n",
    "# elif torch.cuda.is_available():\n",
    "#     gpu = torch.device(\"cuda:0\")  # Use CUDA if available\n",
    "# else:\n",
    "#     gpu = torch.device(\"cpu\")  # Fallback to CPU otherwise\n"
   ]
  },
  {
   "cell_type": "code",
   "execution_count": 3,
   "metadata": {},
   "outputs": [],
   "source": [
    "from srgan.settings import Settings\n",
    "\n",
    "settings = Settings()\n"
   ]
  },
  {
   "cell_type": "code",
   "execution_count": 4,
   "metadata": {},
   "outputs": [
    {
     "name": "stdout",
     "output_type": "stream",
     "text": [
      "rm: logs/quick: No such file or directory\n"
     ]
    }
   ],
   "source": [
    "!rm -r logs/quick\n",
    "settings.trial_name = \"quick\"\n",
    "\n"
   ]
  },
  {
   "cell_type": "code",
   "execution_count": null,
   "metadata": {},
   "outputs": [],
   "source": []
  },
  {
   "cell_type": "markdown",
   "metadata": {},
   "source": []
  },
  {
   "cell_type": "code",
   "execution_count": 5,
   "metadata": {},
   "outputs": [],
   "source": [
    "from srgan.DG_SRGAN.srgan import DG_SRGAN_IC50\n",
    "\n",
    "test = DG_SRGAN_IC50(settings)\n"
   ]
  },
  {
   "cell_type": "markdown",
   "metadata": {},
   "source": []
  },
  {
   "cell_type": "markdown",
   "metadata": {},
   "source": []
  },
  {
   "cell_type": "code",
   "execution_count": 6,
   "metadata": {},
   "outputs": [
    {
     "name": "stdout",
     "output_type": "stream",
     "text": [
      "Preparing trial directory...\n",
      "logs/DG_SRGAN_10_4\n",
      "Preparing summary writers...\n",
      "Preparing datasets and loaders...\n",
      "1912\n",
      "Columns:  ['f_avg_IC50', 'r_avg_IC50']\n",
      "Featurizing smiles to ECFP\n",
      "212\n",
      "Columns:  ['f_avg_IC50', 'r_avg_IC50']\n",
      "Featurizing smiles to ECFP\n",
      "249\n",
      "Columns:  ['f_avg_IC50', 'r_avg_IC50']\n",
      "Featurizing smiles to ECFP\n",
      "Loading SMILES from SDF\n",
      "10000\n",
      "Featurizing smiles to ECFPFinished loading SMILES from SDF for unlabeled dataset\n",
      "torch.Size([10000, 1024])\n",
      "Preparing models...\n",
      "Preparing optimizers...\n",
      "Loading models...\n",
      "Preparing GPU mode...\n",
      "GPU cpu\n",
      "Preparing training mode...\n",
      "Starting training...\n",
      "time start 2024-01-23 11:14:23.426757\n",
      "Step 0, 0:00:00.104214...DNN validation summaries\n",
      "GAN validation summaries\n",
      "test summaries\n",
      "test summaries\n",
      "Step 500, 0:00:30.632379...DNN validation summaries\n",
      "GAN validation summaries\n",
      "test summaries\n",
      "test summaries\n",
      "Step 1000, 0:00:29.312259...DNN validation summaries\n",
      "GAN validation summaries\n",
      "test summaries\n",
      "test summaries\n",
      "Step 1500, 0:00:28.393577...DNN validation summaries\n",
      "GAN validation summaries\n",
      "test summaries\n",
      "test summaries\n",
      "Step 2000, 0:00:28.184525...DNN validation summaries\n",
      "GAN validation summaries\n",
      "test summaries\n",
      "test summaries\n",
      "Step 2500, 0:00:28.718263...DNN validation summaries\n",
      "GAN validation summaries\n",
      "test summaries\n",
      "test summaries\n",
      "Step 3000, 0:00:29.074608...DNN validation summaries\n",
      "GAN validation summaries\n",
      "test summaries\n",
      "test summaries\n",
      "Step 3500, 0:00:27.290080...DNN validation summaries\n",
      "GAN validation summaries\n",
      "test summaries\n",
      "test summaries\n",
      "Step 4000, 0:00:29.594933...DNN validation summaries\n",
      "GAN validation summaries\n",
      "test summaries\n",
      "test summaries\n",
      "Step 4500, 0:00:28.881888...DNN validation summaries\n",
      "GAN validation summaries\n",
      "test summaries\n",
      "test summaries\n",
      "Step 5000, 0:00:27.997344...DNN validation summaries\n",
      "GAN validation summaries\n",
      "test summaries\n",
      "test summaries\n",
      "Step 5500, 0:00:26.559928...DNN validation summaries\n",
      "GAN validation summaries\n",
      "test summaries\n",
      "test summaries\n",
      "Step 6000, 0:00:29.425575...DNN validation summaries\n",
      "GAN validation summaries\n",
      "test summaries\n",
      "test summaries\n",
      "step 6234\r"
     ]
    },
    {
     "ename": "KeyboardInterrupt",
     "evalue": "",
     "output_type": "error",
     "traceback": [
      "\u001b[0;31m---------------------------------------------------------------------------\u001b[0m",
      "\u001b[0;31mKeyboardInterrupt\u001b[0m                         Traceback (most recent call last)",
      "Cell \u001b[0;32mIn[6], line 9\u001b[0m\n\u001b[1;32m      6\u001b[0m settings\u001b[38;5;241m.\u001b[39msteps_to_run \u001b[38;5;241m=\u001b[39m \u001b[38;5;241m10\u001b[39m\u001b[38;5;241m*\u001b[39m\u001b[38;5;241m*\u001b[39m\u001b[38;5;241m4\u001b[39m\n\u001b[1;32m      7\u001b[0m test \u001b[38;5;241m=\u001b[39m DG_SRGAN_IC50(settings)\n\u001b[0;32m----> 9\u001b[0m \u001b[43mtest\u001b[49m\u001b[38;5;241;43m.\u001b[39;49m\u001b[43mtrain\u001b[49m\u001b[43m(\u001b[49m\u001b[43m)\u001b[49m\n",
      "File \u001b[0;32m~/Documents/SABS_DS4DD24/srgan/srgan.py:90\u001b[0m, in \u001b[0;36mExperiment.train\u001b[0;34m(self)\u001b[0m\n\u001b[1;32m     87\u001b[0m \u001b[38;5;28mself\u001b[39m\u001b[38;5;241m.\u001b[39mtrain_mode()\n\u001b[1;32m     89\u001b[0m \u001b[38;5;28mprint\u001b[39m(\u001b[38;5;124m\"\u001b[39m\u001b[38;5;124mStarting training...\u001b[39m\u001b[38;5;124m\"\u001b[39m)\n\u001b[0;32m---> 90\u001b[0m \u001b[38;5;28;43mself\u001b[39;49m\u001b[38;5;241;43m.\u001b[39;49m\u001b[43mtraining_loop\u001b[49m\u001b[43m(\u001b[49m\u001b[43m)\u001b[49m\n\u001b[1;32m     92\u001b[0m \u001b[38;5;28mprint\u001b[39m(\u001b[38;5;124m'\u001b[39m\u001b[38;5;124mCompleted \u001b[39m\u001b[38;5;132;01m{}\u001b[39;00m\u001b[38;5;124m'\u001b[39m\u001b[38;5;241m.\u001b[39mformat(\u001b[38;5;28mself\u001b[39m\u001b[38;5;241m.\u001b[39mtrial_directory))\n\u001b[1;32m     93\u001b[0m \u001b[38;5;28;01mif\u001b[39;00m \u001b[38;5;28mself\u001b[39m\u001b[38;5;241m.\u001b[39msettings\u001b[38;5;241m.\u001b[39mshould_save_models:\n",
      "File \u001b[0;32m~/Documents/SABS_DS4DD24/srgan/srgan.py:135\u001b[0m, in \u001b[0;36mExperiment.training_loop\u001b[0;34m(self)\u001b[0m\n\u001b[1;32m    130\u001b[0m \u001b[38;5;66;03m# print(\"unlabeled_examples size\", unlabeled_examples.size())\u001b[39;00m\n\u001b[1;32m    131\u001b[0m \u001b[38;5;66;03m# unlabeled_examples = unlabeled_examples[0]\u001b[39;00m\n\u001b[1;32m    132\u001b[0m \u001b[38;5;66;03m# print(\"unlabeled_examples size\", unlabeled_examples.size())\u001b[39;00m\n\u001b[1;32m    134\u001b[0m unlabeled_examples \u001b[38;5;241m=\u001b[39m unlabeled_examples\u001b[38;5;241m.\u001b[39mto(gpu)\n\u001b[0;32m--> 135\u001b[0m \u001b[38;5;28;43mself\u001b[39;49m\u001b[38;5;241;43m.\u001b[39;49m\u001b[43mgan_training_step\u001b[49m\u001b[43m(\u001b[49m\u001b[43mlabeled_examples\u001b[49m\u001b[43m,\u001b[49m\u001b[43m \u001b[49m\u001b[43mlabels\u001b[49m\u001b[43m,\u001b[49m\u001b[43m \u001b[49m\u001b[43munlabeled_examples\u001b[49m\u001b[43m,\u001b[49m\u001b[43m \u001b[49m\u001b[43mstep\u001b[49m\u001b[43m)\u001b[49m\n\u001b[1;32m    137\u001b[0m \u001b[38;5;28;01mif\u001b[39;00m \u001b[38;5;28mself\u001b[39m\u001b[38;5;241m.\u001b[39mgan_summary_writer\u001b[38;5;241m.\u001b[39mis_summary_step() \u001b[38;5;129;01mor\u001b[39;00m step \u001b[38;5;241m==\u001b[39m \u001b[38;5;28mself\u001b[39m\u001b[38;5;241m.\u001b[39msettings\u001b[38;5;241m.\u001b[39msteps_to_run \u001b[38;5;241m-\u001b[39m \u001b[38;5;241m1\u001b[39m:\n\u001b[1;32m    138\u001b[0m     \u001b[38;5;28mprint\u001b[39m(\u001b[38;5;124m'\u001b[39m\u001b[38;5;130;01m\\r\u001b[39;00m\u001b[38;5;124mStep \u001b[39m\u001b[38;5;132;01m{}\u001b[39;00m\u001b[38;5;124m, \u001b[39m\u001b[38;5;132;01m{}\u001b[39;00m\u001b[38;5;124m...\u001b[39m\u001b[38;5;124m'\u001b[39m\u001b[38;5;241m.\u001b[39mformat(step, datetime\u001b[38;5;241m.\u001b[39mdatetime\u001b[38;5;241m.\u001b[39mnow() \u001b[38;5;241m-\u001b[39m step_time_start), end\u001b[38;5;241m=\u001b[39m\u001b[38;5;124m'\u001b[39m\u001b[38;5;124m'\u001b[39m)\n",
      "File \u001b[0;32m~/Documents/SABS_DS4DD24/srgan/srgan.py:316\u001b[0m, in \u001b[0;36mExperiment.gan_training_step\u001b[0;34m(self, labeled_examples, labels, unlabeled_examples, step)\u001b[0m\n\u001b[1;32m    309\u001b[0m fake_examples \u001b[38;5;241m=\u001b[39m \u001b[38;5;28mself\u001b[39m\u001b[38;5;241m.\u001b[39mG(z)\n\u001b[1;32m    310\u001b[0m \u001b[38;5;66;03m# print(\"Gan Training Step\")\u001b[39;00m\n\u001b[1;32m    311\u001b[0m \u001b[38;5;66;03m# print(\"Fake size\", fake_examples.size())\u001b[39;00m\n\u001b[1;32m    312\u001b[0m \u001b[38;5;66;03m# print(\"Unlabeled size\", unlabeled_examples.size())\u001b[39;00m\n\u001b[1;32m    313\u001b[0m \u001b[38;5;66;03m# unlabeled_examples = unlabeled_examples.unsqueeze(1)\u001b[39;00m\n\u001b[1;32m    314\u001b[0m \u001b[38;5;66;03m# print(\"Unlabeled size\", unlabeled_examples.size())\u001b[39;00m\n\u001b[0;32m--> 316\u001b[0m fake_loss \u001b[38;5;241m=\u001b[39m \u001b[38;5;28;43mself\u001b[39;49m\u001b[38;5;241;43m.\u001b[39;49m\u001b[43mfake_loss_calculation\u001b[49m\u001b[43m(\u001b[49m\u001b[43munlabeled_examples\u001b[49m\u001b[43m,\u001b[49m\u001b[43m \u001b[49m\u001b[43mfake_examples\u001b[49m\u001b[43m)\u001b[49m\n\u001b[1;32m    317\u001b[0m fake_loss\u001b[38;5;241m.\u001b[39mbackward()\n\u001b[1;32m    318\u001b[0m \u001b[38;5;66;03m# Gradient penalty.\u001b[39;00m\n",
      "File \u001b[0;32m~/Documents/SABS_DS4DD24/srgan/srgan.py:377\u001b[0m, in \u001b[0;36mExperiment.fake_loss_calculation\u001b[0;34m(self, unlabeled_examples, fake_examples)\u001b[0m\n\u001b[1;32m    375\u001b[0m _ \u001b[38;5;241m=\u001b[39m \u001b[38;5;28mself\u001b[39m\u001b[38;5;241m.\u001b[39mD(unlabeled_examples)\n\u001b[1;32m    376\u001b[0m \u001b[38;5;28mself\u001b[39m\u001b[38;5;241m.\u001b[39munlabeled_features \u001b[38;5;241m=\u001b[39m \u001b[38;5;28mself\u001b[39m\u001b[38;5;241m.\u001b[39mD\u001b[38;5;241m.\u001b[39mfeatures\n\u001b[0;32m--> 377\u001b[0m _ \u001b[38;5;241m=\u001b[39m \u001b[38;5;28;43mself\u001b[39;49m\u001b[38;5;241;43m.\u001b[39;49m\u001b[43mD\u001b[49m\u001b[43m(\u001b[49m\u001b[43mfake_examples\u001b[49m\u001b[38;5;241;43m.\u001b[39;49m\u001b[43mdetach\u001b[49m\u001b[43m(\u001b[49m\u001b[43m)\u001b[49m\u001b[43m)\u001b[49m\n\u001b[1;32m    378\u001b[0m \u001b[38;5;28mself\u001b[39m\u001b[38;5;241m.\u001b[39mfake_features \u001b[38;5;241m=\u001b[39m \u001b[38;5;28mself\u001b[39m\u001b[38;5;241m.\u001b[39mD\u001b[38;5;241m.\u001b[39mfeatures\n\u001b[1;32m    379\u001b[0m fake_loss \u001b[38;5;241m=\u001b[39m \u001b[38;5;28mself\u001b[39m\u001b[38;5;241m.\u001b[39mfeature_distance_loss(\u001b[38;5;28mself\u001b[39m\u001b[38;5;241m.\u001b[39munlabeled_features, \u001b[38;5;28mself\u001b[39m\u001b[38;5;241m.\u001b[39mfake_features,\n\u001b[1;32m    380\u001b[0m                                        distance_function\u001b[38;5;241m=\u001b[39m\u001b[38;5;28mself\u001b[39m\u001b[38;5;241m.\u001b[39msettings\u001b[38;5;241m.\u001b[39mcontrasting_distance_function)\n",
      "File \u001b[0;32m~/miniconda/envs/DS4DD/lib/python3.10/site-packages/torch/nn/modules/module.py:1518\u001b[0m, in \u001b[0;36mModule._wrapped_call_impl\u001b[0;34m(self, *args, **kwargs)\u001b[0m\n\u001b[1;32m   1516\u001b[0m     \u001b[38;5;28;01mreturn\u001b[39;00m \u001b[38;5;28mself\u001b[39m\u001b[38;5;241m.\u001b[39m_compiled_call_impl(\u001b[38;5;241m*\u001b[39margs, \u001b[38;5;241m*\u001b[39m\u001b[38;5;241m*\u001b[39mkwargs)  \u001b[38;5;66;03m# type: ignore[misc]\u001b[39;00m\n\u001b[1;32m   1517\u001b[0m \u001b[38;5;28;01melse\u001b[39;00m:\n\u001b[0;32m-> 1518\u001b[0m     \u001b[38;5;28;01mreturn\u001b[39;00m \u001b[38;5;28;43mself\u001b[39;49m\u001b[38;5;241;43m.\u001b[39;49m\u001b[43m_call_impl\u001b[49m\u001b[43m(\u001b[49m\u001b[38;5;241;43m*\u001b[39;49m\u001b[43margs\u001b[49m\u001b[43m,\u001b[49m\u001b[43m \u001b[49m\u001b[38;5;241;43m*\u001b[39;49m\u001b[38;5;241;43m*\u001b[39;49m\u001b[43mkwargs\u001b[49m\u001b[43m)\u001b[49m\n",
      "File \u001b[0;32m~/miniconda/envs/DS4DD/lib/python3.10/site-packages/torch/nn/modules/module.py:1527\u001b[0m, in \u001b[0;36mModule._call_impl\u001b[0;34m(self, *args, **kwargs)\u001b[0m\n\u001b[1;32m   1522\u001b[0m \u001b[38;5;66;03m# If we don't have any hooks, we want to skip the rest of the logic in\u001b[39;00m\n\u001b[1;32m   1523\u001b[0m \u001b[38;5;66;03m# this function, and just call forward.\u001b[39;00m\n\u001b[1;32m   1524\u001b[0m \u001b[38;5;28;01mif\u001b[39;00m \u001b[38;5;129;01mnot\u001b[39;00m (\u001b[38;5;28mself\u001b[39m\u001b[38;5;241m.\u001b[39m_backward_hooks \u001b[38;5;129;01mor\u001b[39;00m \u001b[38;5;28mself\u001b[39m\u001b[38;5;241m.\u001b[39m_backward_pre_hooks \u001b[38;5;129;01mor\u001b[39;00m \u001b[38;5;28mself\u001b[39m\u001b[38;5;241m.\u001b[39m_forward_hooks \u001b[38;5;129;01mor\u001b[39;00m \u001b[38;5;28mself\u001b[39m\u001b[38;5;241m.\u001b[39m_forward_pre_hooks\n\u001b[1;32m   1525\u001b[0m         \u001b[38;5;129;01mor\u001b[39;00m _global_backward_pre_hooks \u001b[38;5;129;01mor\u001b[39;00m _global_backward_hooks\n\u001b[1;32m   1526\u001b[0m         \u001b[38;5;129;01mor\u001b[39;00m _global_forward_hooks \u001b[38;5;129;01mor\u001b[39;00m _global_forward_pre_hooks):\n\u001b[0;32m-> 1527\u001b[0m     \u001b[38;5;28;01mreturn\u001b[39;00m \u001b[43mforward_call\u001b[49m\u001b[43m(\u001b[49m\u001b[38;5;241;43m*\u001b[39;49m\u001b[43margs\u001b[49m\u001b[43m,\u001b[49m\u001b[43m \u001b[49m\u001b[38;5;241;43m*\u001b[39;49m\u001b[38;5;241;43m*\u001b[39;49m\u001b[43mkwargs\u001b[49m\u001b[43m)\u001b[49m\n\u001b[1;32m   1529\u001b[0m \u001b[38;5;28;01mtry\u001b[39;00m:\n\u001b[1;32m   1530\u001b[0m     result \u001b[38;5;241m=\u001b[39m \u001b[38;5;28;01mNone\u001b[39;00m\n",
      "File \u001b[0;32m~/Documents/SABS_DS4DD24/srgan/DG_SRGAN/models.py:28\u001b[0m, in \u001b[0;36mR_DNN.forward\u001b[0;34m(self, x)\u001b[0m\n\u001b[1;32m     26\u001b[0m \u001b[38;5;28;01mdef\u001b[39;00m \u001b[38;5;21mforward\u001b[39m(\u001b[38;5;28mself\u001b[39m, x):\n\u001b[1;32m     27\u001b[0m     \u001b[38;5;28;01mfor\u001b[39;00m idx, layer \u001b[38;5;129;01min\u001b[39;00m \u001b[38;5;28menumerate\u001b[39m(\u001b[38;5;28mself\u001b[39m\u001b[38;5;241m.\u001b[39mhidden):\n\u001b[0;32m---> 28\u001b[0m         x \u001b[38;5;241m=\u001b[39m F\u001b[38;5;241m.\u001b[39mrelu(\u001b[43mlayer\u001b[49m\u001b[43m(\u001b[49m\u001b[43mx\u001b[49m\u001b[43m)\u001b[49m)\n\u001b[1;32m     29\u001b[0m         x \u001b[38;5;241m=\u001b[39m F\u001b[38;5;241m.\u001b[39mdropout(x, \u001b[38;5;28mself\u001b[39m\u001b[38;5;241m.\u001b[39mdropout, training\u001b[38;5;241m=\u001b[39m\u001b[38;5;28mself\u001b[39m\u001b[38;5;241m.\u001b[39mtraining)\n\u001b[1;32m     30\u001b[0m         \u001b[38;5;28;01mif\u001b[39;00m idx \u001b[38;5;241m==\u001b[39m \u001b[38;5;28mlen\u001b[39m(\u001b[38;5;28mself\u001b[39m\u001b[38;5;241m.\u001b[39mhidden) \u001b[38;5;241m-\u001b[39m \u001b[38;5;241m1\u001b[39m:  \u001b[38;5;66;03m# Last hidden layer\u001b[39;00m\n",
      "File \u001b[0;32m~/miniconda/envs/DS4DD/lib/python3.10/site-packages/torch/nn/modules/module.py:1518\u001b[0m, in \u001b[0;36mModule._wrapped_call_impl\u001b[0;34m(self, *args, **kwargs)\u001b[0m\n\u001b[1;32m   1516\u001b[0m     \u001b[38;5;28;01mreturn\u001b[39;00m \u001b[38;5;28mself\u001b[39m\u001b[38;5;241m.\u001b[39m_compiled_call_impl(\u001b[38;5;241m*\u001b[39margs, \u001b[38;5;241m*\u001b[39m\u001b[38;5;241m*\u001b[39mkwargs)  \u001b[38;5;66;03m# type: ignore[misc]\u001b[39;00m\n\u001b[1;32m   1517\u001b[0m \u001b[38;5;28;01melse\u001b[39;00m:\n\u001b[0;32m-> 1518\u001b[0m     \u001b[38;5;28;01mreturn\u001b[39;00m \u001b[38;5;28;43mself\u001b[39;49m\u001b[38;5;241;43m.\u001b[39;49m\u001b[43m_call_impl\u001b[49m\u001b[43m(\u001b[49m\u001b[38;5;241;43m*\u001b[39;49m\u001b[43margs\u001b[49m\u001b[43m,\u001b[49m\u001b[43m \u001b[49m\u001b[38;5;241;43m*\u001b[39;49m\u001b[38;5;241;43m*\u001b[39;49m\u001b[43mkwargs\u001b[49m\u001b[43m)\u001b[49m\n",
      "File \u001b[0;32m~/miniconda/envs/DS4DD/lib/python3.10/site-packages/torch/nn/modules/module.py:1527\u001b[0m, in \u001b[0;36mModule._call_impl\u001b[0;34m(self, *args, **kwargs)\u001b[0m\n\u001b[1;32m   1522\u001b[0m \u001b[38;5;66;03m# If we don't have any hooks, we want to skip the rest of the logic in\u001b[39;00m\n\u001b[1;32m   1523\u001b[0m \u001b[38;5;66;03m# this function, and just call forward.\u001b[39;00m\n\u001b[1;32m   1524\u001b[0m \u001b[38;5;28;01mif\u001b[39;00m \u001b[38;5;129;01mnot\u001b[39;00m (\u001b[38;5;28mself\u001b[39m\u001b[38;5;241m.\u001b[39m_backward_hooks \u001b[38;5;129;01mor\u001b[39;00m \u001b[38;5;28mself\u001b[39m\u001b[38;5;241m.\u001b[39m_backward_pre_hooks \u001b[38;5;129;01mor\u001b[39;00m \u001b[38;5;28mself\u001b[39m\u001b[38;5;241m.\u001b[39m_forward_hooks \u001b[38;5;129;01mor\u001b[39;00m \u001b[38;5;28mself\u001b[39m\u001b[38;5;241m.\u001b[39m_forward_pre_hooks\n\u001b[1;32m   1525\u001b[0m         \u001b[38;5;129;01mor\u001b[39;00m _global_backward_pre_hooks \u001b[38;5;129;01mor\u001b[39;00m _global_backward_hooks\n\u001b[1;32m   1526\u001b[0m         \u001b[38;5;129;01mor\u001b[39;00m _global_forward_hooks \u001b[38;5;129;01mor\u001b[39;00m _global_forward_pre_hooks):\n\u001b[0;32m-> 1527\u001b[0m     \u001b[38;5;28;01mreturn\u001b[39;00m \u001b[43mforward_call\u001b[49m\u001b[43m(\u001b[49m\u001b[38;5;241;43m*\u001b[39;49m\u001b[43margs\u001b[49m\u001b[43m,\u001b[49m\u001b[43m \u001b[49m\u001b[38;5;241;43m*\u001b[39;49m\u001b[38;5;241;43m*\u001b[39;49m\u001b[43mkwargs\u001b[49m\u001b[43m)\u001b[49m\n\u001b[1;32m   1529\u001b[0m \u001b[38;5;28;01mtry\u001b[39;00m:\n\u001b[1;32m   1530\u001b[0m     result \u001b[38;5;241m=\u001b[39m \u001b[38;5;28;01mNone\u001b[39;00m\n",
      "File \u001b[0;32m~/miniconda/envs/DS4DD/lib/python3.10/site-packages/torch/nn/modules/linear.py:114\u001b[0m, in \u001b[0;36mLinear.forward\u001b[0;34m(self, input)\u001b[0m\n\u001b[1;32m    113\u001b[0m \u001b[38;5;28;01mdef\u001b[39;00m \u001b[38;5;21mforward\u001b[39m(\u001b[38;5;28mself\u001b[39m, \u001b[38;5;28minput\u001b[39m: Tensor) \u001b[38;5;241m-\u001b[39m\u001b[38;5;241m>\u001b[39m Tensor:\n\u001b[0;32m--> 114\u001b[0m     \u001b[38;5;28;01mreturn\u001b[39;00m \u001b[43mF\u001b[49m\u001b[38;5;241;43m.\u001b[39;49m\u001b[43mlinear\u001b[49m\u001b[43m(\u001b[49m\u001b[38;5;28;43minput\u001b[39;49m\u001b[43m,\u001b[49m\u001b[43m \u001b[49m\u001b[38;5;28;43mself\u001b[39;49m\u001b[38;5;241;43m.\u001b[39;49m\u001b[43mweight\u001b[49m\u001b[43m,\u001b[49m\u001b[43m \u001b[49m\u001b[38;5;28;43mself\u001b[39;49m\u001b[38;5;241;43m.\u001b[39;49m\u001b[43mbias\u001b[49m\u001b[43m)\u001b[49m\n",
      "\u001b[0;31mKeyboardInterrupt\u001b[0m: "
     ]
    }
   ],
   "source": [
    "\n",
    "!rm -r logs/DG_SRGAN_10_4\n",
    "settings.trial_name = \"DG_SRGAN_10_4\"\n",
    "\n",
    "\n",
    "settings.batch_size = 100\n",
    "settings.steps_to_run = 10**4\n",
    "test = DG_SRGAN_IC50(settings)\n",
    "\n",
    "test.train()"
   ]
  },
  {
   "cell_type": "code",
   "execution_count": null,
   "metadata": {},
   "outputs": [
    {
     "ename": "SyntaxError",
     "evalue": "'break' outside loop (668683560.py, line 1)",
     "output_type": "error",
     "traceback": [
      "\u001b[0;36m  Cell \u001b[0;32mIn[7], line 1\u001b[0;36m\u001b[0m\n\u001b[0;31m    break\u001b[0m\n\u001b[0m    ^\u001b[0m\n\u001b[0;31mSyntaxError\u001b[0m\u001b[0;31m:\u001b[0m 'break' outside loop\n"
     ]
    }
   ],
   "source": [
    "break"
   ]
  },
  {
   "cell_type": "markdown",
   "metadata": {},
   "source": []
  },
  {
   "cell_type": "code",
   "execution_count": null,
   "metadata": {},
   "outputs": [
    {
     "name": "stdout",
     "output_type": "stream",
     "text": [
      "Preparing trial directory...\n",
      "logs/full_unl_test\n",
      "Preparing summary writers...\n",
      "Preparing datasets and loaders...\n",
      "1912\n",
      "Featurizing smiles to ECFP\n",
      "212\n",
      "Featurizing smiles to ECFP\n",
      "249\n",
      "Featurizing smiles to ECFP\n",
      "Loading SMILES from SDF\n"
     ]
    },
    {
     "name": "stderr",
     "output_type": "stream",
     "text": [
      "[13:46:53] WARNING: not removing hydrogen atom without neighbors\n",
      "[13:46:53] WARNING: not removing hydrogen atom without neighbors\n",
      "[13:46:53] Explicit valence for atom # 0 I, 6, is greater than permitted\n",
      "[13:46:53] ERROR: Could not sanitize molecule ending on line 21889\n",
      "[13:46:53] ERROR: Explicit valence for atom # 0 I, 6, is greater than permitted\n",
      "[13:46:58] Explicit valence for atom # 0 Cl, 2, is greater than permitted\n",
      "[13:46:58] ERROR: Could not sanitize molecule ending on line 1925660\n",
      "[13:46:58] ERROR: Explicit valence for atom # 0 Cl, 2, is greater than permitted\n",
      "[13:46:58] Explicit valence for atom # 0 Cl, 3, is greater than permitted\n",
      "[13:46:58] ERROR: Could not sanitize molecule ending on line 1925733\n",
      "[13:46:58] ERROR: Explicit valence for atom # 0 Cl, 3, is greater than permitted\n",
      "[13:46:58] Explicit valence for atom # 0 Cl, 7, is greater than permitted\n",
      "[13:46:58] ERROR: Could not sanitize molecule ending on line 1925823\n",
      "[13:46:58] ERROR: Explicit valence for atom # 0 Cl, 7, is greater than permitted\n",
      "[13:46:58] Explicit valence for atom # 0 Cl, 5, is greater than permitted\n",
      "[13:46:58] ERROR: Could not sanitize molecule ending on line 1925884\n",
      "[13:46:58] ERROR: Explicit valence for atom # 0 Cl, 5, is greater than permitted\n",
      "[13:46:58] Explicit valence for atom # 0 Cl, 3, is greater than permitted\n",
      "[13:46:58] ERROR: Could not sanitize molecule ending on line 1925921\n",
      "[13:46:58] ERROR: Explicit valence for atom # 0 Cl, 3, is greater than permitted\n",
      "[13:46:58] Explicit valence for atom # 0 Cl, 3, is greater than permitted\n",
      "[13:46:58] ERROR: Could not sanitize molecule ending on line 1925966\n",
      "[13:46:58] ERROR: Explicit valence for atom # 0 Cl, 3, is greater than permitted\n",
      "[13:46:58] Explicit valence for atom # 0 Cl, 3, is greater than permitted\n",
      "[13:46:58] ERROR: Could not sanitize molecule ending on line 1925996\n",
      "[13:46:58] ERROR: Explicit valence for atom # 0 Cl, 3, is greater than permitted\n",
      "[13:46:58] Explicit valence for atom # 0 Cl, 3, is greater than permitted\n",
      "[13:46:58] ERROR: Could not sanitize molecule ending on line 1926016\n",
      "[13:46:58] ERROR: Explicit valence for atom # 0 Cl, 3, is greater than permitted\n",
      "[13:46:58] Explicit valence for atom # 0 Cl, 3, is greater than permitted\n",
      "[13:46:58] ERROR: Could not sanitize molecule ending on line 1926086\n",
      "[13:46:58] ERROR: Explicit valence for atom # 0 Cl, 3, is greater than permitted\n",
      "[13:46:58] Explicit valence for atom # 0 Cl, 3, is greater than permitted\n",
      "[13:46:58] ERROR: Could not sanitize molecule ending on line 1926112\n",
      "[13:46:58] ERROR: Explicit valence for atom # 0 Cl, 3, is greater than permitted\n",
      "[13:46:58] Explicit valence for atom # 0 Cl, 3, is greater than permitted\n",
      "[13:46:58] ERROR: Could not sanitize molecule ending on line 1926587\n",
      "[13:46:58] ERROR: Explicit valence for atom # 0 Cl, 3, is greater than permitted\n",
      "[13:46:58] Explicit valence for atom # 0 Cl, 3, is greater than permitted\n",
      "[13:46:58] ERROR: Could not sanitize molecule ending on line 1926643\n",
      "[13:46:58] ERROR: Explicit valence for atom # 0 Cl, 3, is greater than permitted\n",
      "[13:47:16] Explicit valence for atom # 1 Cl, 3, is greater than permitted\n",
      "[13:47:16] ERROR: Could not sanitize molecule ending on line 7722024\n",
      "[13:47:16] ERROR: Explicit valence for atom # 1 Cl, 3, is greater than permitted\n"
     ]
    },
    {
     "name": "stdout",
     "output_type": "stream",
     "text": [
      "347717\n",
      "Featurizing smiles to ECFP"
     ]
    },
    {
     "name": "stderr",
     "output_type": "stream",
     "text": [
      "[13:47:58] WARNING: not removing hydrogen atom without neighbors\n",
      "[13:47:58] WARNING: not removing hydrogen atom without neighbors\n"
     ]
    },
    {
     "ename": "KeyboardInterrupt",
     "evalue": "",
     "output_type": "error",
     "traceback": [
      "\u001b[0;31m---------------------------------------------------------------------------\u001b[0m",
      "\u001b[0;31mKeyboardInterrupt\u001b[0m                         Traceback (most recent call last)",
      "Cell \u001b[0;32mIn[8], line 10\u001b[0m\n\u001b[1;32m      7\u001b[0m settings\u001b[38;5;241m.\u001b[39msteps_to_run \u001b[38;5;241m=\u001b[39m \u001b[38;5;241m10\u001b[39m\u001b[38;5;241m*\u001b[39m\u001b[38;5;241m*\u001b[39m\u001b[38;5;241m4\u001b[39m\n\u001b[1;32m      8\u001b[0m test \u001b[38;5;241m=\u001b[39m SRGAN_IC50(settings)\n\u001b[0;32m---> 10\u001b[0m \u001b[43mtest\u001b[49m\u001b[38;5;241;43m.\u001b[39;49m\u001b[43mtrain\u001b[49m\u001b[43m(\u001b[49m\u001b[43m)\u001b[49m\n",
      "File \u001b[0;32m~/Documents/SABS_DS4DD24/srgan/srgan.py:77\u001b[0m, in \u001b[0;36mExperiment.train\u001b[0;34m(self)\u001b[0m\n\u001b[1;32m     75\u001b[0m seed_all(\u001b[38;5;241m0\u001b[39m)\n\u001b[1;32m     76\u001b[0m \u001b[38;5;28mprint\u001b[39m(\u001b[38;5;124m\"\u001b[39m\u001b[38;5;124mPreparing datasets and loaders...\u001b[39m\u001b[38;5;124m\"\u001b[39m)\n\u001b[0;32m---> 77\u001b[0m \u001b[38;5;28;43mself\u001b[39;49m\u001b[38;5;241;43m.\u001b[39;49m\u001b[43mdataset_setup\u001b[49m\u001b[43m(\u001b[49m\u001b[43m)\u001b[49m\n\u001b[1;32m     78\u001b[0m \u001b[38;5;28mprint\u001b[39m(\u001b[38;5;124m\"\u001b[39m\u001b[38;5;124mPreparing models...\u001b[39m\u001b[38;5;124m\"\u001b[39m)\n\u001b[1;32m     79\u001b[0m \u001b[38;5;28mself\u001b[39m\u001b[38;5;241m.\u001b[39mmodel_setup()\n",
      "File \u001b[0;32m~/Documents/SABS_DS4DD24/srgan/DG_SRGAN/srgan.py:39\u001b[0m, in \u001b[0;36mSRGAN_IC50.dataset_setup\u001b[0;34m(self)\u001b[0m\n\u001b[1;32m     36\u001b[0m \u001b[38;5;28;01mdef\u001b[39;00m \u001b[38;5;21mdataset_setup\u001b[39m(\u001b[38;5;28mself\u001b[39m):\n\u001b[1;32m     37\u001b[0m     settings \u001b[38;5;241m=\u001b[39m \u001b[38;5;28mself\u001b[39m\u001b[38;5;241m.\u001b[39msettings\n\u001b[0;32m---> 39\u001b[0m     \u001b[38;5;28;43mself\u001b[39;49m\u001b[38;5;241;43m.\u001b[39;49m\u001b[43mload_raw_data\u001b[49m\u001b[43m(\u001b[49m\u001b[43m)\u001b[49m\n\u001b[1;32m     41\u001b[0m     \u001b[38;5;28mself\u001b[39m\u001b[38;5;241m.\u001b[39mtrain_dataset_loader \u001b[38;5;241m=\u001b[39m DataLoader(\u001b[38;5;28mself\u001b[39m\u001b[38;5;241m.\u001b[39mtrain_dataset, batch_size\u001b[38;5;241m=\u001b[39msettings\u001b[38;5;241m.\u001b[39mbatch_size,\n\u001b[1;32m     42\u001b[0m                                            pin_memory\u001b[38;5;241m=\u001b[39m\u001b[38;5;28mself\u001b[39m\u001b[38;5;241m.\u001b[39msettings\u001b[38;5;241m.\u001b[39mpin_memory,\n\u001b[1;32m     43\u001b[0m                                            num_workers\u001b[38;5;241m=\u001b[39msettings\u001b[38;5;241m.\u001b[39mnumber_of_data_workers)\n\u001b[1;32m     44\u001b[0m     \u001b[38;5;28mself\u001b[39m\u001b[38;5;241m.\u001b[39mvalidation_dataset_loader \u001b[38;5;241m=\u001b[39m DataLoader(\u001b[38;5;28mself\u001b[39m\u001b[38;5;241m.\u001b[39mvalidation_dataset, batch_size\u001b[38;5;241m=\u001b[39msettings\u001b[38;5;241m.\u001b[39mbatch_size,\n\u001b[1;32m     45\u001b[0m                                                 pin_memory\u001b[38;5;241m=\u001b[39m\u001b[38;5;28mself\u001b[39m\u001b[38;5;241m.\u001b[39msettings\u001b[38;5;241m.\u001b[39mpin_memory,\n\u001b[1;32m     46\u001b[0m                                                 num_workers\u001b[38;5;241m=\u001b[39msettings\u001b[38;5;241m.\u001b[39mnumber_of_data_workers)\n",
      "File \u001b[0;32m~/Documents/SABS_DS4DD24/srgan/DG_SRGAN/srgan.py:33\u001b[0m, in \u001b[0;36mSRGAN_IC50.load_raw_data\u001b[0;34m(self)\u001b[0m\n\u001b[1;32m     26\u001b[0m \u001b[38;5;28mself\u001b[39m\u001b[38;5;241m.\u001b[39mvalidation_dataset \u001b[38;5;241m=\u001b[39m LabelledDataset(csv_path\u001b[38;5;241m=\u001b[39msettings\u001b[38;5;241m.\u001b[39mvalidation_dataset_path,\n\u001b[1;32m     27\u001b[0m                                     seed\u001b[38;5;241m=\u001b[39msettings\u001b[38;5;241m.\u001b[39mlabeled_dataset_seed)\n\u001b[1;32m     30\u001b[0m \u001b[38;5;28mself\u001b[39m\u001b[38;5;241m.\u001b[39mtest_dataset \u001b[38;5;241m=\u001b[39m LabelledDataset(csv_path\u001b[38;5;241m=\u001b[39msettings\u001b[38;5;241m.\u001b[39mtest_dataset_path,\n\u001b[1;32m     31\u001b[0m                                     seed\u001b[38;5;241m=\u001b[39msettings\u001b[38;5;241m.\u001b[39mlabeled_dataset_seed)\n\u001b[0;32m---> 33\u001b[0m \u001b[38;5;28mself\u001b[39m\u001b[38;5;241m.\u001b[39munlabeled_dataset \u001b[38;5;241m=\u001b[39m \u001b[43mUnlabelledDataset\u001b[49m\u001b[43m(\u001b[49m\u001b[43msdf_path\u001b[49m\u001b[38;5;241;43m=\u001b[39;49m\u001b[43msettings\u001b[49m\u001b[38;5;241;43m.\u001b[39;49m\u001b[43munlabeled_dataset_path\u001b[49m\u001b[43m,\u001b[49m\n\u001b[1;32m     34\u001b[0m \u001b[43m                                    \u001b[49m\u001b[43mseed\u001b[49m\u001b[38;5;241;43m=\u001b[39;49m\u001b[43msettings\u001b[49m\u001b[38;5;241;43m.\u001b[39;49m\u001b[43mlabeled_dataset_seed\u001b[49m\u001b[43m)\u001b[49m\n",
      "File \u001b[0;32m~/Documents/SABS_DS4DD24/srgan/DNN_only/data.py:156\u001b[0m, in \u001b[0;36mUnlabelledDataset.__init__\u001b[0;34m(self, sdf_path, seed)\u001b[0m\n\u001b[1;32m    154\u001b[0m \u001b[38;5;28mself\u001b[39m\u001b[38;5;241m.\u001b[39mlength \u001b[38;5;241m=\u001b[39m \u001b[38;5;28mlen\u001b[39m(\u001b[38;5;28mself\u001b[39m\u001b[38;5;241m.\u001b[39msmiles)\n\u001b[1;32m    155\u001b[0m \u001b[38;5;28mprint\u001b[39m(\u001b[38;5;28mself\u001b[39m\u001b[38;5;241m.\u001b[39mlength)\n\u001b[0;32m--> 156\u001b[0m \u001b[38;5;28mself\u001b[39m\u001b[38;5;241m.\u001b[39mexamples \u001b[38;5;241m=\u001b[39m \u001b[38;5;28;43mself\u001b[39;49m\u001b[38;5;241;43m.\u001b[39;49m\u001b[43msmiles_to_ecfp\u001b[49m\u001b[43m(\u001b[49m\u001b[38;5;28;43mself\u001b[39;49m\u001b[38;5;241;43m.\u001b[39;49m\u001b[43msmiles\u001b[49m\u001b[43m)\u001b[49m\n\u001b[1;32m    157\u001b[0m \u001b[38;5;28mprint\u001b[39m(\u001b[38;5;124m\"\u001b[39m\u001b[38;5;124mFinished loading SMILES from SDF for unlabeled dataset\u001b[39m\u001b[38;5;124m\"\u001b[39m)\n\u001b[1;32m    158\u001b[0m \u001b[38;5;28mprint\u001b[39m(\u001b[38;5;28mself\u001b[39m\u001b[38;5;241m.\u001b[39mexamples\u001b[38;5;241m.\u001b[39msize())\n",
      "File \u001b[0;32m~/Documents/SABS_DS4DD24/srgan/DNN_only/data.py:175\u001b[0m, in \u001b[0;36mUnlabelledDataset.smiles_to_ecfp\u001b[0;34m(self, smiles)\u001b[0m\n\u001b[1;32m    173\u001b[0m     ecfp \u001b[38;5;241m=\u001b[39m AllChem\u001b[38;5;241m.\u001b[39mGetMorganFingerprintAsBitVect(mol, \u001b[38;5;241m2\u001b[39m, nBits\u001b[38;5;241m=\u001b[39m\u001b[38;5;241m1024\u001b[39m)\n\u001b[1;32m    174\u001b[0m     ecfps\u001b[38;5;241m.\u001b[39mappend(ecfp)\n\u001b[0;32m--> 175\u001b[0m ecfps \u001b[38;5;241m=\u001b[39m \u001b[43mnp\u001b[49m\u001b[38;5;241;43m.\u001b[39;49m\u001b[43marray\u001b[49m\u001b[43m(\u001b[49m\u001b[43mecfps\u001b[49m\u001b[43m,\u001b[49m\u001b[43m \u001b[49m\u001b[43mdtype\u001b[49m\u001b[38;5;241;43m=\u001b[39;49m\u001b[38;5;28;43mint\u001b[39;49m\u001b[43m)\u001b[49m\n\u001b[1;32m    176\u001b[0m ecfps \u001b[38;5;241m=\u001b[39m torch\u001b[38;5;241m.\u001b[39mfrom_numpy(ecfps)\u001b[38;5;241m.\u001b[39mfloat()\n\u001b[1;32m    177\u001b[0m \u001b[38;5;28;01mreturn\u001b[39;00m ecfps\n",
      "\u001b[0;31mKeyboardInterrupt\u001b[0m: "
     ]
    }
   ],
   "source": [
    "\n",
    "!rm -r logs/full_unl_test\n",
    "settings.trial_name = \"full_unl_test\"\n",
    "\n",
    "settings.unlabeled_dataset_path = \"FLuID_full.sdf\"\n",
    "\n",
    "settings.batch_size = 100\n",
    "settings.steps_to_run = 10**4\n",
    "test = SRGAN_IC50(settings)\n",
    "\n",
    "test.train()"
   ]
  },
  {
   "cell_type": "code",
   "execution_count": null,
   "metadata": {},
   "outputs": [],
   "source": []
  }
 ],
 "metadata": {
  "kernelspec": {
   "display_name": "DS4DD",
   "language": "python",
   "name": "python3"
  },
  "language_info": {
   "codemirror_mode": {
    "name": "ipython",
    "version": 3
   },
   "file_extension": ".py",
   "mimetype": "text/x-python",
   "name": "python",
   "nbconvert_exporter": "python",
   "pygments_lexer": "ipython3",
   "version": "3.10.13"
  }
 },
 "nbformat": 4,
 "nbformat_minor": 2
}
