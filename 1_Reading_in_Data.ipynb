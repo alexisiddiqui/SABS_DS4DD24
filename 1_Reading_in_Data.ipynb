{
 "cells": [
  {
   "cell_type": "code",
   "execution_count": 1,
   "metadata": {},
   "outputs": [],
   "source": [
    "# conda create -n DS4DD python=3.10 ipykernel "
   ]
  },
  {
   "cell_type": "code",
   "execution_count": 2,
   "metadata": {},
   "outputs": [],
   "source": [
    "# install plotly pandas numpy pytorch scikit-learn rdkit requests nbformat\n",
    "\n",
    "# mamba install matplotlib\n",
    "\n",
    "# mamba install pytorch::pytorch torchvision torchaudio\n",
    "import requests\n"
   ]
  },
  {
   "cell_type": "code",
   "execution_count": 1,
   "metadata": {},
   "outputs": [
    {
     "name": "stdout",
     "output_type": "stream",
     "text": [
      "CSV file downloaded successfully.\n"
     ]
    }
   ],
   "source": [
    "import requests\n",
    "\n",
    "# URL of the CSV file\n",
    "url = \"https://raw.githubusercontent.com/postera-ai/COVID_moonshot_submissions/master/covid_submissions_all_info.csv\"\n",
    "\n",
    "# Sending a GET request to the URL\n",
    "response = requests.get(url)\n",
    "\n",
    "# Check if the request was successful\n",
    "if response.status_code == 200:\n",
    "    # Save the content of the response (which is the CSV file) to a local file\n",
    "    with open('covid_submissions_all_info.csv', 'wb') as file:\n",
    "        file.write(response.content)\n",
    "    print(\"CSV file downloaded successfully.\")\n",
    "else:\n",
    "    print(f\"Failed to download the file. Status code: {response.status_code}\")\n"
   ]
  },
  {
   "cell_type": "code",
   "execution_count": 2,
   "metadata": {},
   "outputs": [
    {
     "name": "stderr",
     "output_type": "stream",
     "text": [
      "/var/folders/4c/64jkr7n54w1558kqk0ks5rgr0000gn/T/ipykernel_37181/642915445.py:5: DtypeWarning: Columns (3,6,7,9,10,11,12,13,14,15,18,19,27,28,29,30,31,32,33,34,35,36,44,45,46,47,48,49,50,51,52,53,54,55,56,57,58,59,66,67,69,70,71,72,73,74,75,76,84,85,86,87,89,90,91,92,93,94,95,96,104,105,106,107,109,110,111,112,113,114,115,116,124,125,126,127,129,130,131,132,133,134,135,136,144,145,146,147,149,150,151,152,153,154,155,156,164,165,166,167,169,170,171,172,173,174,175,176,184,185,186,187,189,190,191,192,193,194,195,196,204,205,206,207,209,210,211,212,213,214,215,216,224,225,226,227,229,230,231,232,233,234,235,236,244,245,246,247,249,253,254,255,256,257,258,259,275,276) have mixed types. Specify dtype option on import or set low_memory=False.\n",
      "  raw_df = pd.read_csv(\"covid_submissions_all_info.csv\")\n"
     ]
    }
   ],
   "source": [
    "# load the CSV file\n",
    "\n",
    "import pandas as pd\n",
    "\n",
    "raw_df = pd.read_csv(\"covid_submissions_all_info.csv\")"
   ]
  },
  {
   "cell_type": "code",
   "execution_count": 3,
   "metadata": {},
   "outputs": [],
   "source": [
    "columns = raw_df.columns.to_list()"
   ]
  },
  {
   "cell_type": "code",
   "execution_count": 4,
   "metadata": {},
   "outputs": [],
   "source": [
    "# Certainly! I'll clean up the list of column names by removing duplicates and artifacts such as repetitive suffixes (e.g., '.1', '.1.1', etc.). Here's the cleaned list:\n",
    "\n",
    "### SMILES\n",
    "# CID\n",
    "# CID (canonical)\n",
    "# CID (old format)\n",
    "# Postera Link\n",
    "# InChIKey\n",
    "# creator\n",
    "# rationale\n",
    "# Submission Notes\n",
    "# fragments\n",
    "# Structure ID\n",
    "# Fragalysis Link\n",
    "# Enamine - REAL Space\n",
    "# Enamine - Extended REAL Space\n",
    "# Enamine - SCR\n",
    "# Enamine - BB\n",
    "# Mcule\n",
    "# Mcule Ultimate\n",
    "# In Molport or Mcule\n",
    "# In eMolecules\n",
    "# MW\n",
    "# cLogP\n",
    "# TPSA\n",
    "# Rotatable Bonds\n",
    "# Fraction sp3\n",
    "# HBA\n",
    "# HBD\n",
    "# Covalent Fragment\n",
    "# covalent_warhead\n",
    "# Acrylamide\n",
    "# Acrylamide Adduct\n",
    "# Chloroacetamide\n",
    "# Chloroacetamide Adduct\n",
    "# Vinylsulfonamide\n",
    "# Vinylsulfonamide Adduct\n",
    "# Nitrile\n",
    "# Nitrile Adduct\n",
    "# series\n",
    "# Order Date\n",
    "# Maker\n",
    "# Shipment Date\n",
    "# inspired_by\n",
    "# CDD_name\n",
    "# CDD_mol_ID\n",
    "# r_curve_IC50\n",
    "# r_max_inhibition_reading\n",
    "# r_min_inhibition_reading\n",
    "# r_hill_slope\n",
    "# r_R2\n",
    "# r_concentration_uM\n",
    "# r_inhibition_list\n",
    "# f_curve_IC50\n",
    "# f_max_inhibition_reading\n",
    "# f_min_inhibition_reading\n",
    "# f_hill_slope\n",
    "# f_R2\n",
    "# f_concentration_uM\n",
    "# f_inhibition_list\n",
    "# structure_ID\n",
    "# structure_LINK\n",
    "# ORDERED\n",
    "# MADE\n",
    "# ASSAYED\n",
    "# r_inhibition_at_20_uM\n",
    "# r_inhibition_at_50_uM\n",
    "# r_avg_IC50\n",
    "# f_inhibition_at_20_uM\n",
    "# f_inhibition_at_50_uM\n",
    "# f_avg_IC50\n",
    "# f_avg_pIC50\n",
    "# relative_solubility_at_20_uM\n",
    "# relative_solubility_at_100_uM\n",
    "# trypsin_IC50\n",
    "# NMR_std_ratio\n",
    "# This list has been simplified to include unique and relevant column names, with repetitive and incremented suffixes removed for clarity."
   ]
  },
  {
   "cell_type": "code",
   "execution_count": 5,
   "metadata": {},
   "outputs": [
    {
     "name": "stdout",
     "output_type": "stream",
     "text": [
      "20997\n",
      "940\n",
      "SMILES\n",
      "<class 'str'>    20997\n",
      "Name: count, dtype: int64\n",
      "SMILES\n",
      "O=c1c2cc(F)c(Cl)cc2n(-c2ccccc2)c(=O)n1-c1cccnc1          7\n",
      "NCC1OC(C2CCCC(CCC=O)C2)Cc2c1ccc(O)c2O                    7\n",
      "NCC1OC(C2CCCCC2O)Cc2c1ccc(O)c2O                          7\n",
      "CC(=O)N1CCN(CC(=O)Nc2cncc3ccccc23)CC1                    5\n",
      "CC(=O)NCCc1c[nH]c2c(CCNS(C)(=O)=O)cc(F)cc12              5\n",
      "                                                        ..\n",
      "O=C(CCl)N1CC2CC1CN2C(c1cccc(Cl)c1)c1cccc(Cl)c1           1\n",
      "O=C(CCl)N1CC2CC1CN2S(=O)(=O)c1ccc(Cc2cccc3ccccc23)cc1    1\n",
      "Cc1cccc(N(c2cccc(N)c2)C2CC3CC2CN3C(=O)CCl)c1             1\n",
      "O=C(CCl)N1C2CC([C@@H]1Cc1ccc(O)cc1)N(Cc1cccc(Cl)c1)C2    1\n",
      "CCl                                                      1\n",
      "Name: count, Length: 20057, dtype: int64\n"
     ]
    }
   ],
   "source": [
    "# check SMILES column for duplicates and non strings\n",
    "\n",
    "smiles = raw_df[\"SMILES\"]\n",
    "print(len(smiles))\n",
    "# check for duplicates\n",
    "print(smiles.duplicated().sum())\n",
    "\n",
    "# check for non strings\n",
    "\n",
    "print(smiles.apply(type).value_counts())\n",
    "# show duplicates\n",
    "print(raw_df.SMILES.value_counts())\n",
    "\n"
   ]
  },
  {
   "cell_type": "code",
   "execution_count": 6,
   "metadata": {},
   "outputs": [
    {
     "name": "stdout",
     "output_type": "stream",
     "text": [
      "SMILES                   20997\n",
      "ORDERED                  20997\n",
      "ASSAYED                  20997\n",
      "MADE                     20997\n",
      "CID                      20997\n",
      "                         ...  \n",
      "f_inhibition_at_20_uM        0\n",
      "fragments.2                  0\n",
      "fragments.1.1.1.1            0\n",
      "r_inhibition_at_20_uM        0\n",
      "fragments.1.1.1.1.1          0\n",
      "Length: 277, dtype: int64\n"
     ]
    }
   ],
   "source": [
    "# print number of non nan values in each column sorted by number of non nan values \n",
    "print(raw_df.count().sort_values(ascending=False))\n"
   ]
  },
  {
   "cell_type": "code",
   "execution_count": 8,
   "metadata": {},
   "outputs": [
    {
     "data": {
      "application/vnd.plotly.v1+json": {
       "config": {
        "plotlyServerURL": "https://plot.ly"
       },
       "data": [
        {
         "type": "bar",
         "x": [
          "SMILES",
          "ORDERED",
          "ASSAYED",
          "MADE",
          "CID",
          "Postera Link",
          "InChIKey",
          "CID (canonical)",
          "Vinylsulfonamide Adduct",
          "MW",
          "Chloroacetamide Adduct",
          "Chloroacetamide",
          "Acrylamide Adduct",
          "Acrylamide",
          "HBD",
          "HBA",
          "Fraction sp3",
          "Rotatable Bonds",
          "TPSA",
          "cLogP",
          "Vinylsulfonamide",
          "CDD_mol_ID",
          "CDD_name",
          "rationale",
          "creator",
          "covalent_warhead",
          "Enamine - REAL Space",
          "Enamine - BB",
          "Enamine - SCR",
          "Enamine - Extended REAL Space",
          "inspired_by",
          "series",
          "In eMolecules",
          "Mcule Ultimate",
          "Mcule",
          "Submission Notes",
          "In Molport or Mcule",
          "Covalent Fragment",
          "fragments",
          "Nitrile",
          "Nitrile Adduct",
          "CID (old format)",
          "SHIPMENT_DATE",
          "MAKER",
          "ORDER_DATE",
          "Shipment Date",
          "f_concentration_uM",
          "f_inhibition_list",
          "f_max_inhibition_reading",
          "f_min_inhibition_reading",
          "f_hill_slope",
          "f_R2",
          "f_curve_IC50",
          "f_curve_IC50_y.1.1.1",
          "f_max_inhibition_reading_y.1.1.1",
          "f_min_inhibition_reading_y.1.1.1",
          "f_hill_slope_y.1.1.1",
          "f_R2_y.1.1.1",
          "f_concentration_uM_y.1.1.1",
          "f_inhibition_list_y.1.1.1",
          "f_curve_IC50_x.1.1.1.1",
          "f_R2_y.1.1.1.1",
          "f_max_inhibition_reading_x.1.1.1.1",
          "f_max_inhibition_reading_y.1.1.1.1",
          "f_min_inhibition_reading_x.1.1.1.1",
          "f_concentration_uM_y.1.1.1.1",
          "f_hill_slope_y.1.1.1.1",
          "f_min_inhibition_reading_y.1.1.1.1",
          "f_inhibition_list_y.1.1.1.1",
          "f_curve_IC50_y.1.1.1.1",
          "f_inhibition_list_x.1.1.1.1",
          "f_concentration_uM_x.1.1.1.1",
          "f_R2_x.1.1.1.1",
          "f_hill_slope_x.1.1.1.1",
          "f_curve_IC50_y.1.1",
          "f_max_inhibition_reading_y.1.1",
          "f_min_inhibition_reading_y.1.1",
          "f_hill_slope_y.1.1",
          "f_R2_y.1.1",
          "f_concentration_uM_y.1.1",
          "f_inhibition_list_y.1.1",
          "f_curve_IC50_x.1.1.1",
          "f_max_inhibition_reading_x.1.1.1",
          "f_hill_slope_x.1.1.1",
          "f_R2_x.1.1.1",
          "f_concentration_uM_x.1.1.1",
          "f_inhibition_list_x.1.1.1",
          "f_min_inhibition_reading_x.1.1.1",
          "f_curve_IC50_x.1.1",
          "f_inhibition_list_x.1.1",
          "f_concentration_uM_x.1.1",
          "f_R2_x.1.1",
          "f_hill_slope_x.1.1",
          "f_min_inhibition_reading_x.1.1",
          "f_max_inhibition_reading_x.1.1",
          "f_avg_IC50",
          "f_max_inhibition_reading_y.1",
          "f_inhibition_list_x.1",
          "f_hill_slope_y.1",
          "f_R2_y.1",
          "f_concentration_uM_y.1",
          "f_inhibition_list_y.1",
          "f_curve_IC50_y.1",
          "f_min_inhibition_reading_y.1",
          "f_concentration_uM_x.1",
          "f_R2_x.1",
          "f_hill_slope_x.1",
          "f_min_inhibition_reading_x.1",
          "f_max_inhibition_reading_x.1",
          "f_curve_IC50_x.1",
          "f_max_inhibition_reading_y",
          "f_min_inhibition_reading_y",
          "f_hill_slope_y",
          "f_curve_IC50_y",
          "f_R2_y",
          "f_concentration_uM_y",
          "f_inhibition_list_y",
          "Maker",
          "Order Date",
          "f_hill_slope_x",
          "f_R2_x",
          "f_concentration_uM_x",
          "f_inhibition_list_x",
          "f_min_inhibition_reading_x",
          "f_max_inhibition_reading_x",
          "f_curve_IC50_x",
          "covalent_warhead.1",
          "creator.1",
          "rationale.1",
          "r_hill_slope_x.1.1.1",
          "r_inhibition_list_x.1.1.1",
          "r_concentration_uM_x.1.1.1",
          "r_R2_x.1.1.1",
          "r_hill_slope_y.1.1.1.1",
          "r_min_inhibition_reading_x.1.1.1",
          "r_max_inhibition_reading_x.1.1.1",
          "r_curve_IC50_x.1.1.1",
          "r_R2_y.1.1.1.1",
          "r_concentration_uM_y.1.1.1.1",
          "r_inhibition_list_y.1.1.1.1",
          "r_concentration_uM_y",
          "r_inhibition_list_y",
          "r_concentration_uM_x.1",
          "r_R2_y",
          "r_inhibition_list_y.1.1.1",
          "r_R2_x.1.1.1.1",
          "r_hill_slope_x.1.1.1.1",
          "r_min_inhibition_reading_x.1.1.1.1",
          "r_max_inhibition_reading_x.1.1.1.1",
          "r_curve_IC50_x.1.1.1.1",
          "r_curve_IC50_y",
          "r_max_inhibition_reading_y",
          "r_min_inhibition_reading_y",
          "r_concentration_uM_y.1.1.1",
          "r_min_inhibition_reading_y.1.1.1.1",
          "r_R2_y.1.1.1",
          "r_hill_slope_y.1.1.1",
          "r_min_inhibition_reading_y.1.1.1",
          "r_max_inhibition_reading_y.1.1.1",
          "r_curve_IC50_y.1.1.1",
          "r_curve_IC50_y.1.1.1.1",
          "r_inhibition_list_x.1",
          "r_max_inhibition_reading_y.1.1.1.1",
          "r_hill_slope_y",
          "r_concentration_uM_y.1.1",
          "r_inhibition_list_x",
          "r_R2_x.1",
          "r_concentration_uM_x.1.1",
          "r_R2_x.1.1",
          "r_hill_slope_x.1.1",
          "r_min_inhibition_reading_x.1.1",
          "r_max_inhibition_reading_x.1.1",
          "r_curve_IC50_x.1.1",
          "r_R2",
          "r_concentration_uM",
          "r_inhibition_list",
          "r_min_inhibition_reading_x",
          "r_max_inhibition_reading_x",
          "r_inhibition_list_y.1",
          "r_concentration_uM_y.1",
          "r_R2_y.1",
          "r_hill_slope_y.1",
          "r_min_inhibition_reading_y.1",
          "r_max_inhibition_reading_y.1",
          "r_curve_IC50_y.1",
          "r_curve_IC50_x",
          "r_concentration_uM_x",
          "r_inhibition_list_x.1.1",
          "r_curve_IC50_y.1.1",
          "r_hill_slope_x",
          "r_R2_x",
          "r_inhibition_list_y.1.1",
          "r_inhibition_list_x.1.1.1.1",
          "r_R2_y.1.1",
          "r_hill_slope_y.1.1",
          "r_min_inhibition_reading_y.1.1",
          "r_max_inhibition_reading_y.1.1",
          "r_concentration_uM_x.1.1.1.1",
          "r_min_inhibition_reading_x.1",
          "r_curve_IC50",
          "r_max_inhibition_reading",
          "r_min_inhibition_reading",
          "r_hill_slope",
          "r_curve_IC50_x.1",
          "r_hill_slope_x.1",
          "r_max_inhibition_reading_x.1",
          "r_avg_IC50",
          "structure_ID",
          "Structure ID",
          "Fragalysis Link",
          "structure_ID_x",
          "structure_LINK_x",
          "structure_LINK_y.1.1.1.1",
          "structure_ID_x.1.1.1.1",
          "structure_ID_y.1.1.1.1",
          "structure_LINK_x.1.1.1.1",
          "structure_LINK",
          "structure_LINK_y",
          "structure_ID_x.1.1",
          "structure_ID_x.1.1.1",
          "structure_LINK_x.1.1.1",
          "structure_LINK_y.1",
          "structure_ID_y.1",
          "structure_LINK_y.1.1",
          "structure_LINK_x.1.1",
          "structure_ID_y.1.1",
          "structure_ID_y",
          "structure_LINK_x.1",
          "structure_ID_y.1.1.1",
          "structure_LINK_y.1.1.1",
          "structure_ID_x.1",
          "trypsin_IC50",
          "covalent_warhead.1.1.1.1",
          "rationale.1.1.1.1",
          "creator.1.1.1.1",
          "covalent_warhead.1.1.1.1.1.1.1.1.1",
          "rationale.1.1.1.1.1.1.1.1.1",
          "creator.1.1.1.1.1.1.1.1.1",
          "rationale.1.1.1.1.1.1.1",
          "covalent_warhead.1.1.1.1.1.1.1",
          "creator.1.1.1.1.1.1.1",
          "rationale.1.1.1.1.1.1",
          "creator.1.1.1.1.1.1",
          "covalent_warhead.1.1.1.1.1.1",
          "covalent_warhead.1.1.1",
          "rationale.1.1.1",
          "creator.1.1.1",
          "rationale.1.1",
          "creator.1.1",
          "covalent_warhead.1.1",
          "covalent_warhead.1.1.1.1.1",
          "rationale.1.1.1.1.1",
          "creator.1.1.1.1.1",
          "covalent_warhead.1.1.1.1.1.1.1.1",
          "rationale.1.1.1.1.1.1.1.1",
          "creator.1.1.1.1.1.1.1.1",
          "rationale.2",
          "covalent_warhead.2",
          "creator.2",
          "fragments.1.1.1",
          "NMR_std_ratio",
          "relative_solubility_at_100_uM",
          "relative_solubility_at_20_uM",
          "fragments.1",
          "fragments.1.1.1.1.1.1.1",
          "fragments.1.1.1.1.1.1.1.1.1",
          "r_inhibition_at_50_uM",
          "fragments.1.1.1.1.1.1",
          "fragments.1.1",
          "f_avg_pIC50",
          "fragments.1.1.1.1.1.1.1.1",
          "f_inhibition_at_50_uM",
          "f_inhibition_at_20_uM",
          "fragments.2",
          "fragments.1.1.1.1",
          "r_inhibition_at_20_uM",
          "fragments.1.1.1.1.1"
         ],
         "y": [
          20997,
          20997,
          20997,
          20997,
          20997,
          20997,
          20996,
          20995,
          20974,
          20974,
          20974,
          20974,
          20974,
          20974,
          20974,
          20974,
          20974,
          20974,
          20974,
          20974,
          20974,
          20935,
          20935,
          19246,
          19246,
          19246,
          19097,
          19097,
          19097,
          19097,
          11085,
          9182,
          8867,
          8867,
          8867,
          8839,
          8784,
          7532,
          7421,
          4888,
          4888,
          4452,
          3190,
          2753,
          2753,
          2531,
          2317,
          2317,
          2317,
          2317,
          2317,
          2317,
          2317,
          2304,
          2304,
          2304,
          2304,
          2304,
          2304,
          2304,
          2304,
          2304,
          2304,
          2304,
          2304,
          2304,
          2304,
          2304,
          2304,
          2304,
          2304,
          2304,
          2304,
          2304,
          2295,
          2295,
          2295,
          2295,
          2295,
          2295,
          2295,
          2295,
          2295,
          2295,
          2295,
          2295,
          2295,
          2295,
          2279,
          2279,
          2279,
          2279,
          2279,
          2279,
          2279,
          2260,
          2255,
          2255,
          2255,
          2255,
          2255,
          2255,
          2255,
          2255,
          2255,
          2255,
          2255,
          2255,
          2255,
          2255,
          2240,
          2240,
          2240,
          2240,
          2240,
          2240,
          2240,
          2110,
          2110,
          1643,
          1643,
          1643,
          1643,
          1643,
          1643,
          1643,
          1407,
          1407,
          1406,
          909,
          909,
          909,
          909,
          909,
          909,
          909,
          909,
          909,
          909,
          909,
          909,
          909,
          909,
          909,
          909,
          909,
          909,
          909,
          909,
          909,
          909,
          909,
          909,
          909,
          909,
          909,
          909,
          909,
          909,
          909,
          909,
          909,
          909,
          909,
          909,
          909,
          909,
          909,
          909,
          909,
          909,
          909,
          909,
          909,
          909,
          909,
          909,
          909,
          909,
          909,
          909,
          909,
          909,
          909,
          909,
          909,
          909,
          909,
          909,
          909,
          909,
          909,
          909,
          909,
          909,
          909,
          909,
          909,
          909,
          909,
          909,
          909,
          909,
          909,
          909,
          909,
          877,
          312,
          312,
          312,
          312,
          312,
          312,
          312,
          312,
          312,
          312,
          312,
          312,
          312,
          312,
          312,
          312,
          312,
          312,
          312,
          312,
          312,
          312,
          312,
          312,
          163,
          74,
          74,
          74,
          55,
          55,
          55,
          47,
          47,
          47,
          40,
          40,
          40,
          39,
          39,
          39,
          35,
          35,
          35,
          31,
          31,
          31,
          16,
          16,
          16,
          7,
          7,
          7,
          0,
          0,
          0,
          0,
          0,
          0,
          0,
          0,
          0,
          0,
          0,
          0,
          0,
          0,
          0,
          0,
          0,
          0
         ]
        }
       ],
       "layout": {
        "template": {
         "data": {
          "bar": [
           {
            "error_x": {
             "color": "#2a3f5f"
            },
            "error_y": {
             "color": "#2a3f5f"
            },
            "marker": {
             "line": {
              "color": "#E5ECF6",
              "width": 0.5
             },
             "pattern": {
              "fillmode": "overlay",
              "size": 10,
              "solidity": 0.2
             }
            },
            "type": "bar"
           }
          ],
          "barpolar": [
           {
            "marker": {
             "line": {
              "color": "#E5ECF6",
              "width": 0.5
             },
             "pattern": {
              "fillmode": "overlay",
              "size": 10,
              "solidity": 0.2
             }
            },
            "type": "barpolar"
           }
          ],
          "carpet": [
           {
            "aaxis": {
             "endlinecolor": "#2a3f5f",
             "gridcolor": "white",
             "linecolor": "white",
             "minorgridcolor": "white",
             "startlinecolor": "#2a3f5f"
            },
            "baxis": {
             "endlinecolor": "#2a3f5f",
             "gridcolor": "white",
             "linecolor": "white",
             "minorgridcolor": "white",
             "startlinecolor": "#2a3f5f"
            },
            "type": "carpet"
           }
          ],
          "choropleth": [
           {
            "colorbar": {
             "outlinewidth": 0,
             "ticks": ""
            },
            "type": "choropleth"
           }
          ],
          "contour": [
           {
            "colorbar": {
             "outlinewidth": 0,
             "ticks": ""
            },
            "colorscale": [
             [
              0,
              "#0d0887"
             ],
             [
              0.1111111111111111,
              "#46039f"
             ],
             [
              0.2222222222222222,
              "#7201a8"
             ],
             [
              0.3333333333333333,
              "#9c179e"
             ],
             [
              0.4444444444444444,
              "#bd3786"
             ],
             [
              0.5555555555555556,
              "#d8576b"
             ],
             [
              0.6666666666666666,
              "#ed7953"
             ],
             [
              0.7777777777777778,
              "#fb9f3a"
             ],
             [
              0.8888888888888888,
              "#fdca26"
             ],
             [
              1,
              "#f0f921"
             ]
            ],
            "type": "contour"
           }
          ],
          "contourcarpet": [
           {
            "colorbar": {
             "outlinewidth": 0,
             "ticks": ""
            },
            "type": "contourcarpet"
           }
          ],
          "heatmap": [
           {
            "colorbar": {
             "outlinewidth": 0,
             "ticks": ""
            },
            "colorscale": [
             [
              0,
              "#0d0887"
             ],
             [
              0.1111111111111111,
              "#46039f"
             ],
             [
              0.2222222222222222,
              "#7201a8"
             ],
             [
              0.3333333333333333,
              "#9c179e"
             ],
             [
              0.4444444444444444,
              "#bd3786"
             ],
             [
              0.5555555555555556,
              "#d8576b"
             ],
             [
              0.6666666666666666,
              "#ed7953"
             ],
             [
              0.7777777777777778,
              "#fb9f3a"
             ],
             [
              0.8888888888888888,
              "#fdca26"
             ],
             [
              1,
              "#f0f921"
             ]
            ],
            "type": "heatmap"
           }
          ],
          "heatmapgl": [
           {
            "colorbar": {
             "outlinewidth": 0,
             "ticks": ""
            },
            "colorscale": [
             [
              0,
              "#0d0887"
             ],
             [
              0.1111111111111111,
              "#46039f"
             ],
             [
              0.2222222222222222,
              "#7201a8"
             ],
             [
              0.3333333333333333,
              "#9c179e"
             ],
             [
              0.4444444444444444,
              "#bd3786"
             ],
             [
              0.5555555555555556,
              "#d8576b"
             ],
             [
              0.6666666666666666,
              "#ed7953"
             ],
             [
              0.7777777777777778,
              "#fb9f3a"
             ],
             [
              0.8888888888888888,
              "#fdca26"
             ],
             [
              1,
              "#f0f921"
             ]
            ],
            "type": "heatmapgl"
           }
          ],
          "histogram": [
           {
            "marker": {
             "pattern": {
              "fillmode": "overlay",
              "size": 10,
              "solidity": 0.2
             }
            },
            "type": "histogram"
           }
          ],
          "histogram2d": [
           {
            "colorbar": {
             "outlinewidth": 0,
             "ticks": ""
            },
            "colorscale": [
             [
              0,
              "#0d0887"
             ],
             [
              0.1111111111111111,
              "#46039f"
             ],
             [
              0.2222222222222222,
              "#7201a8"
             ],
             [
              0.3333333333333333,
              "#9c179e"
             ],
             [
              0.4444444444444444,
              "#bd3786"
             ],
             [
              0.5555555555555556,
              "#d8576b"
             ],
             [
              0.6666666666666666,
              "#ed7953"
             ],
             [
              0.7777777777777778,
              "#fb9f3a"
             ],
             [
              0.8888888888888888,
              "#fdca26"
             ],
             [
              1,
              "#f0f921"
             ]
            ],
            "type": "histogram2d"
           }
          ],
          "histogram2dcontour": [
           {
            "colorbar": {
             "outlinewidth": 0,
             "ticks": ""
            },
            "colorscale": [
             [
              0,
              "#0d0887"
             ],
             [
              0.1111111111111111,
              "#46039f"
             ],
             [
              0.2222222222222222,
              "#7201a8"
             ],
             [
              0.3333333333333333,
              "#9c179e"
             ],
             [
              0.4444444444444444,
              "#bd3786"
             ],
             [
              0.5555555555555556,
              "#d8576b"
             ],
             [
              0.6666666666666666,
              "#ed7953"
             ],
             [
              0.7777777777777778,
              "#fb9f3a"
             ],
             [
              0.8888888888888888,
              "#fdca26"
             ],
             [
              1,
              "#f0f921"
             ]
            ],
            "type": "histogram2dcontour"
           }
          ],
          "mesh3d": [
           {
            "colorbar": {
             "outlinewidth": 0,
             "ticks": ""
            },
            "type": "mesh3d"
           }
          ],
          "parcoords": [
           {
            "line": {
             "colorbar": {
              "outlinewidth": 0,
              "ticks": ""
             }
            },
            "type": "parcoords"
           }
          ],
          "pie": [
           {
            "automargin": true,
            "type": "pie"
           }
          ],
          "scatter": [
           {
            "fillpattern": {
             "fillmode": "overlay",
             "size": 10,
             "solidity": 0.2
            },
            "type": "scatter"
           }
          ],
          "scatter3d": [
           {
            "line": {
             "colorbar": {
              "outlinewidth": 0,
              "ticks": ""
             }
            },
            "marker": {
             "colorbar": {
              "outlinewidth": 0,
              "ticks": ""
             }
            },
            "type": "scatter3d"
           }
          ],
          "scattercarpet": [
           {
            "marker": {
             "colorbar": {
              "outlinewidth": 0,
              "ticks": ""
             }
            },
            "type": "scattercarpet"
           }
          ],
          "scattergeo": [
           {
            "marker": {
             "colorbar": {
              "outlinewidth": 0,
              "ticks": ""
             }
            },
            "type": "scattergeo"
           }
          ],
          "scattergl": [
           {
            "marker": {
             "colorbar": {
              "outlinewidth": 0,
              "ticks": ""
             }
            },
            "type": "scattergl"
           }
          ],
          "scattermapbox": [
           {
            "marker": {
             "colorbar": {
              "outlinewidth": 0,
              "ticks": ""
             }
            },
            "type": "scattermapbox"
           }
          ],
          "scatterpolar": [
           {
            "marker": {
             "colorbar": {
              "outlinewidth": 0,
              "ticks": ""
             }
            },
            "type": "scatterpolar"
           }
          ],
          "scatterpolargl": [
           {
            "marker": {
             "colorbar": {
              "outlinewidth": 0,
              "ticks": ""
             }
            },
            "type": "scatterpolargl"
           }
          ],
          "scatterternary": [
           {
            "marker": {
             "colorbar": {
              "outlinewidth": 0,
              "ticks": ""
             }
            },
            "type": "scatterternary"
           }
          ],
          "surface": [
           {
            "colorbar": {
             "outlinewidth": 0,
             "ticks": ""
            },
            "colorscale": [
             [
              0,
              "#0d0887"
             ],
             [
              0.1111111111111111,
              "#46039f"
             ],
             [
              0.2222222222222222,
              "#7201a8"
             ],
             [
              0.3333333333333333,
              "#9c179e"
             ],
             [
              0.4444444444444444,
              "#bd3786"
             ],
             [
              0.5555555555555556,
              "#d8576b"
             ],
             [
              0.6666666666666666,
              "#ed7953"
             ],
             [
              0.7777777777777778,
              "#fb9f3a"
             ],
             [
              0.8888888888888888,
              "#fdca26"
             ],
             [
              1,
              "#f0f921"
             ]
            ],
            "type": "surface"
           }
          ],
          "table": [
           {
            "cells": {
             "fill": {
              "color": "#EBF0F8"
             },
             "line": {
              "color": "white"
             }
            },
            "header": {
             "fill": {
              "color": "#C8D4E3"
             },
             "line": {
              "color": "white"
             }
            },
            "type": "table"
           }
          ]
         },
         "layout": {
          "annotationdefaults": {
           "arrowcolor": "#2a3f5f",
           "arrowhead": 0,
           "arrowwidth": 1
          },
          "autotypenumbers": "strict",
          "coloraxis": {
           "colorbar": {
            "outlinewidth": 0,
            "ticks": ""
           }
          },
          "colorscale": {
           "diverging": [
            [
             0,
             "#8e0152"
            ],
            [
             0.1,
             "#c51b7d"
            ],
            [
             0.2,
             "#de77ae"
            ],
            [
             0.3,
             "#f1b6da"
            ],
            [
             0.4,
             "#fde0ef"
            ],
            [
             0.5,
             "#f7f7f7"
            ],
            [
             0.6,
             "#e6f5d0"
            ],
            [
             0.7,
             "#b8e186"
            ],
            [
             0.8,
             "#7fbc41"
            ],
            [
             0.9,
             "#4d9221"
            ],
            [
             1,
             "#276419"
            ]
           ],
           "sequential": [
            [
             0,
             "#0d0887"
            ],
            [
             0.1111111111111111,
             "#46039f"
            ],
            [
             0.2222222222222222,
             "#7201a8"
            ],
            [
             0.3333333333333333,
             "#9c179e"
            ],
            [
             0.4444444444444444,
             "#bd3786"
            ],
            [
             0.5555555555555556,
             "#d8576b"
            ],
            [
             0.6666666666666666,
             "#ed7953"
            ],
            [
             0.7777777777777778,
             "#fb9f3a"
            ],
            [
             0.8888888888888888,
             "#fdca26"
            ],
            [
             1,
             "#f0f921"
            ]
           ],
           "sequentialminus": [
            [
             0,
             "#0d0887"
            ],
            [
             0.1111111111111111,
             "#46039f"
            ],
            [
             0.2222222222222222,
             "#7201a8"
            ],
            [
             0.3333333333333333,
             "#9c179e"
            ],
            [
             0.4444444444444444,
             "#bd3786"
            ],
            [
             0.5555555555555556,
             "#d8576b"
            ],
            [
             0.6666666666666666,
             "#ed7953"
            ],
            [
             0.7777777777777778,
             "#fb9f3a"
            ],
            [
             0.8888888888888888,
             "#fdca26"
            ],
            [
             1,
             "#f0f921"
            ]
           ]
          },
          "colorway": [
           "#636efa",
           "#EF553B",
           "#00cc96",
           "#ab63fa",
           "#FFA15A",
           "#19d3f3",
           "#FF6692",
           "#B6E880",
           "#FF97FF",
           "#FECB52"
          ],
          "font": {
           "color": "#2a3f5f"
          },
          "geo": {
           "bgcolor": "white",
           "lakecolor": "white",
           "landcolor": "#E5ECF6",
           "showlakes": true,
           "showland": true,
           "subunitcolor": "white"
          },
          "hoverlabel": {
           "align": "left"
          },
          "hovermode": "closest",
          "mapbox": {
           "style": "light"
          },
          "paper_bgcolor": "white",
          "plot_bgcolor": "#E5ECF6",
          "polar": {
           "angularaxis": {
            "gridcolor": "white",
            "linecolor": "white",
            "ticks": ""
           },
           "bgcolor": "#E5ECF6",
           "radialaxis": {
            "gridcolor": "white",
            "linecolor": "white",
            "ticks": ""
           }
          },
          "scene": {
           "xaxis": {
            "backgroundcolor": "#E5ECF6",
            "gridcolor": "white",
            "gridwidth": 2,
            "linecolor": "white",
            "showbackground": true,
            "ticks": "",
            "zerolinecolor": "white"
           },
           "yaxis": {
            "backgroundcolor": "#E5ECF6",
            "gridcolor": "white",
            "gridwidth": 2,
            "linecolor": "white",
            "showbackground": true,
            "ticks": "",
            "zerolinecolor": "white"
           },
           "zaxis": {
            "backgroundcolor": "#E5ECF6",
            "gridcolor": "white",
            "gridwidth": 2,
            "linecolor": "white",
            "showbackground": true,
            "ticks": "",
            "zerolinecolor": "white"
           }
          },
          "shapedefaults": {
           "line": {
            "color": "#2a3f5f"
           }
          },
          "ternary": {
           "aaxis": {
            "gridcolor": "white",
            "linecolor": "white",
            "ticks": ""
           },
           "baxis": {
            "gridcolor": "white",
            "linecolor": "white",
            "ticks": ""
           },
           "bgcolor": "#E5ECF6",
           "caxis": {
            "gridcolor": "white",
            "linecolor": "white",
            "ticks": ""
           }
          },
          "title": {
           "x": 0.05
          },
          "xaxis": {
           "automargin": true,
           "gridcolor": "white",
           "linecolor": "white",
           "ticks": "",
           "title": {
            "standoff": 15
           },
           "zerolinecolor": "white",
           "zerolinewidth": 2
          },
          "yaxis": {
           "automargin": true,
           "gridcolor": "white",
           "linecolor": "white",
           "ticks": "",
           "title": {
            "standoff": 15
           },
           "zerolinecolor": "white",
           "zerolinewidth": 2
          }
         }
        },
        "title": {
         "text": "Number of non nan values in each column sorted by number of non nan values"
        }
       }
      }
     },
     "metadata": {},
     "output_type": "display_data"
    }
   ],
   "source": [
    "\n",
    "# plot them with plotly\n",
    "import plotly.express as px\n",
    "import plotly.graph_objects as go\n",
    "\n",
    "\n",
    "fig = go.Figure(data=[go.Bar(\n",
    "    x=raw_df.count().sort_values(ascending=False).index.to_list(),\n",
    "    y=raw_df.count().sort_values(ascending=False).to_list()\n",
    ")])\n",
    "\n",
    "fig.update_layout(title_text='Number of non nan values in each column sorted by number of non nan values')\n",
    "fig.show()"
   ]
  },
  {
   "cell_type": "code",
   "execution_count": null,
   "metadata": {},
   "outputs": [],
   "source": []
  }
 ],
 "metadata": {
  "kernelspec": {
   "display_name": "Python 3",
   "language": "python",
   "name": "python3"
  },
  "language_info": {
   "codemirror_mode": {
    "name": "ipython",
    "version": 3
   },
   "file_extension": ".py",
   "mimetype": "text/x-python",
   "name": "python",
   "nbconvert_exporter": "python",
   "pygments_lexer": "ipython3",
   "version": "3.10.13"
  }
 },
 "nbformat": 4,
 "nbformat_minor": 2
}
