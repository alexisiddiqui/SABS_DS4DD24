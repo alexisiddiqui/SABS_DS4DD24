{
 "cells": [
  {
   "cell_type": "code",
   "execution_count": null,
   "metadata": {},
   "outputs": [],
   "source": [
    "# !git clone https://github.com/golmschenk/sr-gan.git\n",
    "# ! git submodule add https://github.com/golmschenk/sr-gan.git srgan"
   ]
  },
  {
   "cell_type": "code",
   "execution_count": null,
   "metadata": {},
   "outputs": [],
   "source": [
    "# if torch.backends.mps.is_available():\n",
    "#     gpu = torch.device(\"mps\")  # Use MPS on Apple Silicon\n",
    "# elif torch.cuda.is_available():\n",
    "#     gpu = torch.device(\"cuda:0\")  # Use CUDA if available\n",
    "# else:\n",
    "#     gpu = torch.device(\"cpu\")  # Fallback to CPU otherwise\n"
   ]
  },
  {
   "cell_type": "code",
   "execution_count": null,
   "metadata": {},
   "outputs": [],
   "source": [
    "from srgan.settings import Settings\n",
    "\n",
    "settings = Settings()\n"
   ]
  },
  {
   "cell_type": "code",
   "execution_count": null,
   "metadata": {},
   "outputs": [],
   "source": [
    "!rm -r logs/quick\n",
    "settings.trial_name = \"quick\"\n",
    "\n"
   ]
  },
  {
   "cell_type": "code",
   "execution_count": null,
   "metadata": {},
   "outputs": [],
   "source": []
  },
  {
   "cell_type": "markdown",
   "metadata": {},
   "source": []
  },
  {
   "cell_type": "code",
   "execution_count": null,
   "metadata": {},
   "outputs": [],
   "source": [
    "from srgan.DNN_only.dnn import DG_DNN_IC50\n",
    "\n",
    "# test = DG_DNN_IC50(settings)\n"
   ]
  },
  {
   "cell_type": "markdown",
   "metadata": {},
   "source": []
  },
  {
   "cell_type": "markdown",
   "metadata": {},
   "source": []
  },
  {
   "cell_type": "code",
   "execution_count": null,
   "metadata": {},
   "outputs": [],
   "source": [
    "\n",
    "!rm -r logs/DGtest_10_6\n",
    "settings.trial_name = \"DGtest_10_6\"\n",
    "\n",
    "\n",
    "settings.batch_size = 100\n",
    "settings.steps_to_run = 10**6\n",
    "test = DG_SRGAN(settings)\n",
    "\n",
    "test.train()"
   ]
  },
  {
   "cell_type": "code",
   "execution_count": null,
   "metadata": {},
   "outputs": [],
   "source": [
    "\n",
    "!rm -r logs/SGtest_10_7\n",
    "settings.trial_name = \"SGtest_10_6\"\n",
    "\n",
    "\n",
    "settings.batch_size = 100\n",
    "settings.steps_to_run = 10**6\n",
    "test = DNN_IC50(settings)\n",
    "\n",
    "test.train()"
   ]
  },
  {
   "cell_type": "markdown",
   "metadata": {},
   "source": []
  },
  {
   "cell_type": "code",
   "execution_count": null,
   "metadata": {},
   "outputs": [],
   "source": []
  },
  {
   "cell_type": "code",
   "execution_count": null,
   "metadata": {},
   "outputs": [],
   "source": []
  }
 ],
 "metadata": {
  "kernelspec": {
   "display_name": "DS4DD",
   "language": "python",
   "name": "python3"
  },
  "language_info": {
   "codemirror_mode": {
    "name": "ipython",
    "version": 3
   },
   "file_extension": ".py",
   "mimetype": "text/x-python",
   "name": "python",
   "nbconvert_exporter": "python",
   "pygments_lexer": "ipython3",
   "version": "3.10.13"
  }
 },
 "nbformat": 4,
 "nbformat_minor": 2
}
