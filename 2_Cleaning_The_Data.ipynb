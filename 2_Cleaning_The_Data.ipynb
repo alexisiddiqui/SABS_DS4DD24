{
 "cells": [
  {
   "cell_type": "code",
   "execution_count": 158,
   "metadata": {},
   "outputs": [],
   "source": [
    "# conda create -n DS4DD python=3.10 ipykernel "
   ]
  },
  {
   "cell_type": "code",
   "execution_count": 159,
   "metadata": {},
   "outputs": [],
   "source": [
    "# install plotly pandas numpy pytorch scikit-learn rdkit requests nbformat\n",
    "\n",
    "# mamba install matplotlib\n",
    "\n",
    "# mamba install pytorch::pytorch torchvision torchaudio\n",
    "import requests\n"
   ]
  },
  {
   "cell_type": "code",
   "execution_count": 160,
   "metadata": {},
   "outputs": [],
   "source": [
    "# import requests\n",
    "\n",
    "# # URL of the CSV file\n",
    "# url = \"https://raw.githubusercontent.com/postera-ai/COVID_moonshot_submissions/master/covid_submissions_all_info.csv\"\n",
    "\n",
    "# # Sending a GET request to the URL\n",
    "# response = requests.get(url)\n",
    "\n",
    "# # Check if the request was successful\n",
    "# if response.status_code == 200:\n",
    "#     # Save the content of the response (which is the CSV file) to a local file\n",
    "#     with open('covid_submissions_all_info.csv', 'wb') as file:\n",
    "#         file.write(response.content)\n",
    "#     print(\"CSV file downloaded successfully.\")\n",
    "# else:\n",
    "#     print(f\"Failed to download the file. Status code: {response.status_code}\")\n"
   ]
  },
  {
   "cell_type": "code",
   "execution_count": 161,
   "metadata": {},
   "outputs": [
    {
     "name": "stderr",
     "output_type": "stream",
     "text": [
      "/var/folders/4c/64jkr7n54w1558kqk0ks5rgr0000gn/T/ipykernel_37302/642915445.py:5: DtypeWarning:\n",
      "\n",
      "Columns (3,6,7,9,10,11,12,13,14,15,18,19,27,28,29,30,31,32,33,34,35,36,44,45,46,47,48,49,50,51,52,53,54,55,56,57,58,59,66,67,69,70,71,72,73,74,75,76,84,85,86,87,89,90,91,92,93,94,95,96,104,105,106,107,109,110,111,112,113,114,115,116,124,125,126,127,129,130,131,132,133,134,135,136,144,145,146,147,149,150,151,152,153,154,155,156,164,165,166,167,169,170,171,172,173,174,175,176,184,185,186,187,189,190,191,192,193,194,195,196,204,205,206,207,209,210,211,212,213,214,215,216,224,225,226,227,229,230,231,232,233,234,235,236,244,245,246,247,249,253,254,255,256,257,258,259,275,276) have mixed types. Specify dtype option on import or set low_memory=False.\n",
      "\n"
     ]
    }
   ],
   "source": [
    "# load the CSV file\n",
    "\n",
    "import pandas as pd\n",
    "\n",
    "raw_df = pd.read_csv(\"covid_submissions_all_info.csv\")"
   ]
  },
  {
   "cell_type": "code",
   "execution_count": null,
   "metadata": {},
   "outputs": [],
   "source": []
  },
  {
   "cell_type": "code",
   "execution_count": 162,
   "metadata": {},
   "outputs": [],
   "source": [
    "# Certainly! I'll clean up the list of column names by removing duplicates and artifacts such as repetitive suffixes (e.g., '.1', '.1.1', etc.). Here's the cleaned list:\n",
    "\n",
    "### SMILES\n",
    "# CID\n",
    "# CID (canonical)\n",
    "# CID (old format)\n",
    "# Postera Link\n",
    "# InChIKey\n",
    "# creator\n",
    "# rationale\n",
    "# Submission Notes\n",
    "# fragments\n",
    "# Structure ID\n",
    "# Fragalysis Link\n",
    "# Enamine - REAL Space\n",
    "# Enamine - Extended REAL Space\n",
    "# Enamine - SCR\n",
    "# Enamine - BB\n",
    "# Mcule\n",
    "# Mcule Ultimate\n",
    "# In Molport or Mcule\n",
    "# In eMolecules\n",
    "# MW\n",
    "# cLogP\n",
    "# TPSA\n",
    "# Rotatable Bonds\n",
    "# Fraction sp3\n",
    "# HBA\n",
    "# HBD\n",
    "# Covalent Fragment\n",
    "# covalent_warhead\n",
    "# Acrylamide\n",
    "# Acrylamide Adduct\n",
    "# Chloroacetamide\n",
    "# Chloroacetamide Adduct\n",
    "# Vinylsulfonamide\n",
    "# Vinylsulfonamide Adduct\n",
    "# Nitrile\n",
    "# Nitrile Adduct\n",
    "# series\n",
    "# Order Date\n",
    "# Maker\n",
    "# Shipment Date\n",
    "# inspired_by\n",
    "# CDD_name\n",
    "# CDD_mol_ID\n",
    "# r_curve_IC50\n",
    "# r_max_inhibition_reading\n",
    "# r_min_inhibition_reading\n",
    "# r_hill_slope\n",
    "# r_R2\n",
    "# r_concentration_uM\n",
    "# r_inhibition_list\n",
    "# f_curve_IC50\n",
    "# f_max_inhibition_reading\n",
    "# f_min_inhibition_reading\n",
    "# f_hill_slope\n",
    "# f_R2\n",
    "# f_concentration_uM\n",
    "# f_inhibition_list\n",
    "# structure_ID\n",
    "# structure_LINK\n",
    "# ORDERED\n",
    "# MADE\n",
    "# ASSAYED\n",
    "# r_inhibition_at_20_uM\n",
    "# r_inhibition_at_50_uM\n",
    "# r_avg_IC50\n",
    "# f_inhibition_at_20_uM\n",
    "# f_inhibition_at_50_uM\n",
    "# f_avg_IC50\n",
    "# f_avg_pIC50\n",
    "# relative_solubility_at_20_uM\n",
    "# relative_solubility_at_100_uM\n",
    "# trypsin_IC50\n",
    "# NMR_std_ratio\n",
    "# This list has been simplified to include unique and relevant column names, with repetitive and incremented suffixes removed for clarity."
   ]
  },
  {
   "cell_type": "code",
   "execution_count": 163,
   "metadata": {},
   "outputs": [
    {
     "name": "stdout",
     "output_type": "stream",
     "text": [
      "20997\n",
      "940\n",
      "SMILES\n",
      "<class 'str'>    20997\n",
      "Name: count, dtype: int64\n",
      "SMILES\n",
      "O=c1c2cc(F)c(Cl)cc2n(-c2ccccc2)c(=O)n1-c1cccnc1          7\n",
      "NCC1OC(C2CCCC(CCC=O)C2)Cc2c1ccc(O)c2O                    7\n",
      "NCC1OC(C2CCCCC2O)Cc2c1ccc(O)c2O                          7\n",
      "CC(=O)N1CCN(CC(=O)Nc2cncc3ccccc23)CC1                    5\n",
      "CC(=O)NCCc1c[nH]c2c(CCNS(C)(=O)=O)cc(F)cc12              5\n",
      "                                                        ..\n",
      "O=C(CCl)N1CC2CC1CN2C(c1cccc(Cl)c1)c1cccc(Cl)c1           1\n",
      "O=C(CCl)N1CC2CC1CN2S(=O)(=O)c1ccc(Cc2cccc3ccccc23)cc1    1\n",
      "Cc1cccc(N(c2cccc(N)c2)C2CC3CC2CN3C(=O)CCl)c1             1\n",
      "O=C(CCl)N1C2CC([C@@H]1Cc1ccc(O)cc1)N(Cc1cccc(Cl)c1)C2    1\n",
      "CCl                                                      1\n",
      "Name: count, Length: 20057, dtype: int64\n",
      "SMILES                   20997\n",
      "ORDERED                  20997\n",
      "ASSAYED                  20997\n",
      "MADE                     20997\n",
      "CID                      20997\n",
      "                         ...  \n",
      "f_inhibition_at_20_uM        0\n",
      "fragments.2                  0\n",
      "fragments.1.1.1.1            0\n",
      "r_inhibition_at_20_uM        0\n",
      "fragments.1.1.1.1.1          0\n",
      "Length: 277, dtype: int64\n",
      "MADE\n",
      "False    17491\n",
      "True      3506\n",
      "Name: count, dtype: int64\n",
      "ASSAYED\n",
      "False    18524\n",
      "True      2473\n",
      "Name: count, dtype: int64\n"
     ]
    }
   ],
   "source": [
    "# check SMILES column for duplicates and non strings\n",
    "\n",
    "smiles = raw_df[\"SMILES\"]\n",
    "print(len(smiles))\n",
    "# check for duplicates\n",
    "print(smiles.duplicated().sum())\n",
    "\n",
    "# check for non strings\n",
    "\n",
    "print(smiles.apply(type).value_counts())\n",
    "# show duplicates\n",
    "print(raw_df.SMILES.value_counts())\n",
    "\n",
    "\n",
    "print(raw_df.count().sort_values(ascending=False))\n",
    "print(raw_df.MADE.value_counts())\n",
    "\n",
    "# Print Assayed count\n",
    "\n",
    "print(raw_df.ASSAYED.value_counts())\n",
    "\n",
    "# select only Assayed compounds\n",
    "\n",
    "df = raw_df[raw_df.ASSAYED == True]"
   ]
  },
  {
   "cell_type": "code",
   "execution_count": 164,
   "metadata": {},
   "outputs": [
    {
     "name": "stdout",
     "output_type": "stream",
     "text": [
      "(2473, 277)\n"
     ]
    }
   ],
   "source": [
    "print(df.shape)"
   ]
  },
  {
   "cell_type": "code",
   "execution_count": 165,
   "metadata": {},
   "outputs": [
    {
     "data": {
      "text/html": [
       "<div>\n",
       "<style scoped>\n",
       "    .dataframe tbody tr th:only-of-type {\n",
       "        vertical-align: middle;\n",
       "    }\n",
       "\n",
       "    .dataframe tbody tr th {\n",
       "        vertical-align: top;\n",
       "    }\n",
       "\n",
       "    .dataframe thead th {\n",
       "        text-align: right;\n",
       "    }\n",
       "</style>\n",
       "<table border=\"1\" class=\"dataframe\">\n",
       "  <thead>\n",
       "    <tr style=\"text-align: right;\">\n",
       "      <th></th>\n",
       "      <th>SMILES</th>\n",
       "      <th>CID</th>\n",
       "      <th>CID (canonical)</th>\n",
       "      <th>CID (old format)</th>\n",
       "      <th>Postera Link</th>\n",
       "      <th>InChIKey</th>\n",
       "      <th>creator</th>\n",
       "      <th>rationale</th>\n",
       "      <th>Submission Notes</th>\n",
       "      <th>fragments</th>\n",
       "      <th>...</th>\n",
       "      <th>f_hill_slope</th>\n",
       "      <th>f_R2</th>\n",
       "      <th>f_concentration_uM</th>\n",
       "      <th>f_inhibition_list</th>\n",
       "      <th>relative_solubility_at_20_uM</th>\n",
       "      <th>relative_solubility_at_100_uM</th>\n",
       "      <th>trypsin_IC50</th>\n",
       "      <th>NMR_std_ratio</th>\n",
       "      <th>structure_ID</th>\n",
       "      <th>structure_LINK</th>\n",
       "    </tr>\n",
       "  </thead>\n",
       "  <tbody>\n",
       "    <tr>\n",
       "      <th>24</th>\n",
       "      <td>N#Cc1cccc(NC(=O)Nc2cncc(N)c2)c1</td>\n",
       "      <td>DAR-DIA-23aa0b97-8</td>\n",
       "      <td>DAR-DIA-23aa0b97-8</td>\n",
       "      <td>DAR-DIA-23a-8</td>\n",
       "      <td>https://covid.postera.ai/covid/submissions/23a...</td>\n",
       "      <td>AXUCLULHXCDGDW-UHFFFAOYSA-N</td>\n",
       "      <td>Daren Fearon, Diamond Light Source Ltd</td>\n",
       "      <td>Introduction of aromatic ring with nitrile/chl...</td>\n",
       "      <td>NaN</td>\n",
       "      <td>x0104,x0305,x0434,x0678,x0995,x1093,x1249</td>\n",
       "      <td>...</td>\n",
       "      <td>[{'value': 0.9450030604115591}]</td>\n",
       "      <td>[{'value': 0.9369452093357596}]</td>\n",
       "      <td>[[{'value': 99.03}, {'value': 49.52}, {'value'...</td>\n",
       "      <td>[[{'value': 60.13354, 'outlier': False}, {'val...</td>\n",
       "      <td>NaN</td>\n",
       "      <td>NaN</td>\n",
       "      <td>99.0</td>\n",
       "      <td>NaN</td>\n",
       "      <td>NaN</td>\n",
       "      <td>NaN</td>\n",
       "    </tr>\n",
       "    <tr>\n",
       "      <th>27</th>\n",
       "      <td>N#Cc1cccc(NC(=O)Nc2c[nH]c3ncccc23)c1</td>\n",
       "      <td>DAR-DIA-23aa0b97-11</td>\n",
       "      <td>DAR-DIA-23aa0b97-11</td>\n",
       "      <td>DAR-DIA-23a-11</td>\n",
       "      <td>https://covid.postera.ai/covid/submissions/23a...</td>\n",
       "      <td>XMKDHSWNVVTQII-UHFFFAOYSA-N</td>\n",
       "      <td>Daren Fearon, Diamond Light Source Ltd</td>\n",
       "      <td>Introduction of aromatic ring with nitrile/chl...</td>\n",
       "      <td>NaN</td>\n",
       "      <td>x0104,x0305,x0434,x0678,x0995,x1093,x1249</td>\n",
       "      <td>...</td>\n",
       "      <td>[{'value': 1.02447223384785}]</td>\n",
       "      <td>[{'value': 0.9166699422345314}]</td>\n",
       "      <td>[[{'value': 99.03}, {'value': 49.52}, {'value'...</td>\n",
       "      <td>[[{'value': 58.60022, 'outlier': False}, {'val...</td>\n",
       "      <td>NaN</td>\n",
       "      <td>NaN</td>\n",
       "      <td>99.0</td>\n",
       "      <td>NaN</td>\n",
       "      <td>NaN</td>\n",
       "      <td>NaN</td>\n",
       "    </tr>\n",
       "    <tr>\n",
       "      <th>35</th>\n",
       "      <td>N#Cc1cccc(NC(=O)Cc2cncc3ccccc23)c1</td>\n",
       "      <td>DAR-DIA-23aa0b97-19</td>\n",
       "      <td>DAR-DIA-23aa0b97-19</td>\n",
       "      <td>DAR-DIA-23a-19</td>\n",
       "      <td>https://covid.postera.ai/covid/submissions/23a...</td>\n",
       "      <td>MNTWRMFSZRVDHS-UHFFFAOYSA-N</td>\n",
       "      <td>Daren Fearon, Diamond Light Source Ltd</td>\n",
       "      <td>Introduction of aromatic ring with nitrile/chl...</td>\n",
       "      <td>NaN</td>\n",
       "      <td>x0104,x0305,x0434,x0678,x0995,x1093,x1249</td>\n",
       "      <td>...</td>\n",
       "      <td>[{'value': 1.0815871336141434}, {'value': 1.03...</td>\n",
       "      <td>[{'value': 0.9893602593326579}, {'value': 0.98...</td>\n",
       "      <td>[[{'value': 99.0}, {'value': 49.5}, {'value': ...</td>\n",
       "      <td>[[{'value': 78.45548, 'outlier': False}, {'val...</td>\n",
       "      <td>NaN</td>\n",
       "      <td>NaN</td>\n",
       "      <td>NaN</td>\n",
       "      <td>NaN</td>\n",
       "      <td>NaN</td>\n",
       "      <td>NaN</td>\n",
       "    </tr>\n",
       "    <tr>\n",
       "      <th>36</th>\n",
       "      <td>O=C(Cc1cncc2ccccc12)Nc1ccccc1</td>\n",
       "      <td>DAR-DIA-23aa0b97-20</td>\n",
       "      <td>DAR-DIA-23aa0b97-20</td>\n",
       "      <td>DAR-DIA-23a-20</td>\n",
       "      <td>https://covid.postera.ai/covid/submissions/23a...</td>\n",
       "      <td>XBRJTBLYIAYTOZ-UHFFFAOYSA-N</td>\n",
       "      <td>Daren Fearon, Diamond Light Source Ltd</td>\n",
       "      <td>Introduction of aromatic ring with nitrile/chl...</td>\n",
       "      <td>NaN</td>\n",
       "      <td>x0104,x0305,x0434,x0678,x0995,x1093,x1249</td>\n",
       "      <td>...</td>\n",
       "      <td>[{'value': 1.1054212367637406}, {'value': 1.15...</td>\n",
       "      <td>[{'value': 0.9865462759438266}, {'value': 0.75...</td>\n",
       "      <td>[[{'value': 99.0}, {'value': 49.5}, {'value': ...</td>\n",
       "      <td>[[{'value': 61.82981, 'outlier': False}, {'val...</td>\n",
       "      <td>NaN</td>\n",
       "      <td>NaN</td>\n",
       "      <td>99.0</td>\n",
       "      <td>NaN</td>\n",
       "      <td>x2563</td>\n",
       "      <td>https://fragalysis.diamond.ac.uk/viewer/react/...</td>\n",
       "    </tr>\n",
       "    <tr>\n",
       "      <th>107</th>\n",
       "      <td>N#Cc1cc(Cl)cc(NC(=O)Nc2cccnc2)c1</td>\n",
       "      <td>WAR-XCH-eb7b662f-2</td>\n",
       "      <td>WAR-XCH-eb7b662f-2</td>\n",
       "      <td>WAR-XCH-eb7-2</td>\n",
       "      <td>https://covid.postera.ai/covid/submissions/eb7...</td>\n",
       "      <td>MBQPUDXDXZKZBV-UHFFFAOYSA-N</td>\n",
       "      <td>Warren, XChem - Diamond Light Source</td>\n",
       "      <td>Combining fragments X0305 and X0434 by eye</td>\n",
       "      <td>NaN</td>\n",
       "      <td>x0305,x0434</td>\n",
       "      <td>...</td>\n",
       "      <td>[{'value': 1.0537926850550778}]</td>\n",
       "      <td>[{'value': 0.7316094759097787}]</td>\n",
       "      <td>[[{'value': 99.01}, {'value': 49.5}, {'value':...</td>\n",
       "      <td>[[{'value': 34.48745, 'outlier': False}, {'val...</td>\n",
       "      <td>NaN</td>\n",
       "      <td>NaN</td>\n",
       "      <td>99.0</td>\n",
       "      <td>NaN</td>\n",
       "      <td>NaN</td>\n",
       "      <td>NaN</td>\n",
       "    </tr>\n",
       "  </tbody>\n",
       "</table>\n",
       "<p>5 rows × 277 columns</p>\n",
       "</div>"
      ],
      "text/plain": [
       "                                   SMILES                  CID  \\\n",
       "24        N#Cc1cccc(NC(=O)Nc2cncc(N)c2)c1   DAR-DIA-23aa0b97-8   \n",
       "27   N#Cc1cccc(NC(=O)Nc2c[nH]c3ncccc23)c1  DAR-DIA-23aa0b97-11   \n",
       "35     N#Cc1cccc(NC(=O)Cc2cncc3ccccc23)c1  DAR-DIA-23aa0b97-19   \n",
       "36          O=C(Cc1cncc2ccccc12)Nc1ccccc1  DAR-DIA-23aa0b97-20   \n",
       "107      N#Cc1cc(Cl)cc(NC(=O)Nc2cccnc2)c1   WAR-XCH-eb7b662f-2   \n",
       "\n",
       "         CID (canonical) CID (old format)  \\\n",
       "24    DAR-DIA-23aa0b97-8    DAR-DIA-23a-8   \n",
       "27   DAR-DIA-23aa0b97-11   DAR-DIA-23a-11   \n",
       "35   DAR-DIA-23aa0b97-19   DAR-DIA-23a-19   \n",
       "36   DAR-DIA-23aa0b97-20   DAR-DIA-23a-20   \n",
       "107   WAR-XCH-eb7b662f-2    WAR-XCH-eb7-2   \n",
       "\n",
       "                                          Postera Link  \\\n",
       "24   https://covid.postera.ai/covid/submissions/23a...   \n",
       "27   https://covid.postera.ai/covid/submissions/23a...   \n",
       "35   https://covid.postera.ai/covid/submissions/23a...   \n",
       "36   https://covid.postera.ai/covid/submissions/23a...   \n",
       "107  https://covid.postera.ai/covid/submissions/eb7...   \n",
       "\n",
       "                        InChIKey                                 creator  \\\n",
       "24   AXUCLULHXCDGDW-UHFFFAOYSA-N  Daren Fearon, Diamond Light Source Ltd   \n",
       "27   XMKDHSWNVVTQII-UHFFFAOYSA-N  Daren Fearon, Diamond Light Source Ltd   \n",
       "35   MNTWRMFSZRVDHS-UHFFFAOYSA-N  Daren Fearon, Diamond Light Source Ltd   \n",
       "36   XBRJTBLYIAYTOZ-UHFFFAOYSA-N  Daren Fearon, Diamond Light Source Ltd   \n",
       "107  MBQPUDXDXZKZBV-UHFFFAOYSA-N    Warren, XChem - Diamond Light Source   \n",
       "\n",
       "                                             rationale Submission Notes  \\\n",
       "24   Introduction of aromatic ring with nitrile/chl...              NaN   \n",
       "27   Introduction of aromatic ring with nitrile/chl...              NaN   \n",
       "35   Introduction of aromatic ring with nitrile/chl...              NaN   \n",
       "36   Introduction of aromatic ring with nitrile/chl...              NaN   \n",
       "107         Combining fragments X0305 and X0434 by eye              NaN   \n",
       "\n",
       "                                     fragments  ...  \\\n",
       "24   x0104,x0305,x0434,x0678,x0995,x1093,x1249  ...   \n",
       "27   x0104,x0305,x0434,x0678,x0995,x1093,x1249  ...   \n",
       "35   x0104,x0305,x0434,x0678,x0995,x1093,x1249  ...   \n",
       "36   x0104,x0305,x0434,x0678,x0995,x1093,x1249  ...   \n",
       "107                                x0305,x0434  ...   \n",
       "\n",
       "                                          f_hill_slope  \\\n",
       "24                     [{'value': 0.9450030604115591}]   \n",
       "27                       [{'value': 1.02447223384785}]   \n",
       "35   [{'value': 1.0815871336141434}, {'value': 1.03...   \n",
       "36   [{'value': 1.1054212367637406}, {'value': 1.15...   \n",
       "107                    [{'value': 1.0537926850550778}]   \n",
       "\n",
       "                                                  f_R2  \\\n",
       "24                     [{'value': 0.9369452093357596}]   \n",
       "27                     [{'value': 0.9166699422345314}]   \n",
       "35   [{'value': 0.9893602593326579}, {'value': 0.98...   \n",
       "36   [{'value': 0.9865462759438266}, {'value': 0.75...   \n",
       "107                    [{'value': 0.7316094759097787}]   \n",
       "\n",
       "                                    f_concentration_uM  \\\n",
       "24   [[{'value': 99.03}, {'value': 49.52}, {'value'...   \n",
       "27   [[{'value': 99.03}, {'value': 49.52}, {'value'...   \n",
       "35   [[{'value': 99.0}, {'value': 49.5}, {'value': ...   \n",
       "36   [[{'value': 99.0}, {'value': 49.5}, {'value': ...   \n",
       "107  [[{'value': 99.01}, {'value': 49.5}, {'value':...   \n",
       "\n",
       "                                     f_inhibition_list  \\\n",
       "24   [[{'value': 60.13354, 'outlier': False}, {'val...   \n",
       "27   [[{'value': 58.60022, 'outlier': False}, {'val...   \n",
       "35   [[{'value': 78.45548, 'outlier': False}, {'val...   \n",
       "36   [[{'value': 61.82981, 'outlier': False}, {'val...   \n",
       "107  [[{'value': 34.48745, 'outlier': False}, {'val...   \n",
       "\n",
       "    relative_solubility_at_20_uM relative_solubility_at_100_uM trypsin_IC50  \\\n",
       "24                           NaN                           NaN         99.0   \n",
       "27                           NaN                           NaN         99.0   \n",
       "35                           NaN                           NaN          NaN   \n",
       "36                           NaN                           NaN         99.0   \n",
       "107                          NaN                           NaN         99.0   \n",
       "\n",
       "    NMR_std_ratio structure_ID  \\\n",
       "24            NaN          NaN   \n",
       "27            NaN          NaN   \n",
       "35            NaN          NaN   \n",
       "36            NaN        x2563   \n",
       "107           NaN          NaN   \n",
       "\n",
       "                                        structure_LINK  \n",
       "24                                                 NaN  \n",
       "27                                                 NaN  \n",
       "35                                                 NaN  \n",
       "36   https://fragalysis.diamond.ac.uk/viewer/react/...  \n",
       "107                                                NaN  \n",
       "\n",
       "[5 rows x 277 columns]"
      ]
     },
     "execution_count": 165,
     "metadata": {},
     "output_type": "execute_result"
    }
   ],
   "source": [
    "\n",
    "df.head()"
   ]
  },
  {
   "cell_type": "code",
   "execution_count": 166,
   "metadata": {},
   "outputs": [
    {
     "name": "stdout",
     "output_type": "stream",
     "text": [
      "SMILES                       2473\n",
      "CDD_name                     2473\n",
      "ASSAYED                      2473\n",
      "MADE                         2473\n",
      "ORDERED                      2473\n",
      "                             ... \n",
      "covalent_warhead.2              0\n",
      "r_inhibition_at_20_uM           0\n",
      "r_inhibition_at_50_uM           0\n",
      "creator.1.1.1.1.1.1.1.1.1       0\n",
      "creator.1.1.1.1.1.1.1           0\n",
      "Length: 277, dtype: int64\n"
     ]
    }
   ],
   "source": [
    "# print number of non nan values in each column sorted by number of non nan values \n",
    "print(df.count().sort_values(ascending=False))\n"
   ]
  },
  {
   "cell_type": "code",
   "execution_count": 167,
   "metadata": {},
   "outputs": [],
   "source": [
    "def combine_duplicate_columns(df):\n",
    "    # Identify the base names of duplicate columns\n",
    "    base_names = set(col.split('.')[0] for col in df.columns)\n",
    "    \n",
    "    # Iterate over each base name and combine its duplicate columns\n",
    "    for base_name in base_names:\n",
    "        # Filter columns that start with the base name\n",
    "        duplicate_cols = [col for col in df.columns if col.startswith(base_name)]\n",
    "        \n",
    "        # Combine these columns into one, using a method of your choice (e.g., mean, max, first non-null)\n",
    "        # Here, I use 'mean' as an example\n",
    "        df[base_name] = df[duplicate_cols].mean(axis=1)\n",
    "\n",
    "        # Drop the original duplicate columns\n",
    "        df.drop(columns=duplicate_cols, inplace=True)\n",
    "\n",
    "    return df"
   ]
  },
  {
   "cell_type": "code",
   "execution_count": 168,
   "metadata": {},
   "outputs": [
    {
     "data": {
      "application/vnd.plotly.v1+json": {
       "config": {
        "plotlyServerURL": "https://plot.ly"
       },
       "data": [
        {
         "type": "bar",
         "x": [
          "SMILES",
          "f_max_inhibition_reading",
          "f_inhibition_list",
          "f_concentration_uM",
          "f_R2",
          "f_hill_slope",
          "f_min_inhibition_reading",
          "f_avg_IC50",
          "f_R2_x.1.1.1.1",
          "f_max_inhibition_reading_y.1.1.1",
          "f_min_inhibition_reading_y.1.1.1",
          "f_hill_slope_y.1.1.1",
          "f_R2_y.1.1.1",
          "f_concentration_uM_y.1.1.1",
          "f_inhibition_list_y.1.1.1",
          "f_max_inhibition_reading_x.1.1.1.1",
          "f_min_inhibition_reading_x.1.1.1.1",
          "f_hill_slope_x.1.1.1.1",
          "f_inhibition_list_x.1.1.1.1",
          "f_max_inhibition_reading_y.1.1.1.1",
          "f_min_inhibition_reading_y.1.1.1.1",
          "f_hill_slope_y.1.1.1.1",
          "f_R2_y.1.1.1.1",
          "f_concentration_uM_y.1.1.1.1",
          "f_inhibition_list_y.1.1.1.1",
          "f_concentration_uM_x.1.1.1.1",
          "f_max_inhibition_reading_y.1.1",
          "f_max_inhibition_reading_x.1.1.1",
          "f_hill_slope_y.1.1",
          "f_concentration_uM_y.1.1",
          "f_inhibition_list_y.1.1",
          "f_inhibition_list_x.1.1.1",
          "f_min_inhibition_reading_x.1.1.1",
          "f_hill_slope_x.1.1.1",
          "f_R2_x.1.1.1",
          "f_concentration_uM_x.1.1.1",
          "f_min_inhibition_reading_y.1.1",
          "f_R2_y.1.1",
          "f_inhibition_list_x.1.1",
          "f_concentration_uM_x.1.1",
          "f_R2_x.1.1",
          "f_hill_slope_x.1.1",
          "f_min_inhibition_reading_x.1.1",
          "f_max_inhibition_reading_x.1.1",
          "f_min_inhibition_reading_x.1",
          "f_max_inhibition_reading_y.1",
          "f_max_inhibition_reading_x.1",
          "f_concentration_uM_y.1",
          "f_R2_y.1",
          "f_hill_slope_y.1",
          "f_min_inhibition_reading_y.1",
          "f_inhibition_list_y.1",
          "f_inhibition_list_x.1",
          "f_hill_slope_x.1",
          "f_concentration_uM_x.1",
          "f_R2_x.1",
          "f_max_inhibition_reading_y",
          "f_concentration_uM_y",
          "f_hill_slope_y",
          "f_min_inhibition_reading_y",
          "f_R2_y",
          "f_inhibition_list_y",
          "f_hill_slope_x",
          "f_min_inhibition_reading_x",
          "f_concentration_uM_x",
          "f_inhibition_list_x",
          "f_R2_x",
          "f_max_inhibition_reading_x",
          "r_min_inhibition_reading_x.1",
          "r_max_inhibition_reading_y.1.1.1",
          "r_max_inhibition_reading_x.1",
          "r_max_inhibition_reading",
          "r_concentration_uM_y.1.1.1",
          "r_R2_y.1.1.1",
          "r_hill_slope_y.1.1.1",
          "r_min_inhibition_reading_y.1.1.1",
          "r_inhibition_list_y.1.1.1",
          "r_inhibition_list_y",
          "r_concentration_uM_x.1.1.1",
          "r_hill_slope_y",
          "r_hill_slope_y.1.1.1.1",
          "r_R2_y.1.1.1.1",
          "r_concentration_uM_y.1.1.1.1",
          "r_inhibition_list_y.1.1.1.1",
          "r_max_inhibition_reading_y",
          "r_min_inhibition_reading_y",
          "r_R2_y",
          "r_max_inhibition_reading_x.1.1.1.1",
          "r_concentration_uM_y",
          "r_inhibition_list_x.1.1.1.1",
          "r_concentration_uM_x.1.1.1.1",
          "r_R2_x.1.1.1.1",
          "r_hill_slope_x.1.1.1.1",
          "r_min_inhibition_reading_x.1.1.1.1",
          "r_inhibition_list_x.1.1.1",
          "r_hill_slope_x.1",
          "r_R2_x.1.1.1",
          "r_inhibition_list_y.1",
          "r_concentration_uM_x.1.1",
          "r_R2_x.1.1",
          "r_hill_slope_x.1.1",
          "r_min_inhibition_reading_x.1.1",
          "r_max_inhibition_reading_x.1.1",
          "r_inhibition_list_x",
          "r_concentration_uM_x",
          "r_concentration_uM_y.1",
          "r_hill_slope_x.1.1.1",
          "r_R2_y.1",
          "r_hill_slope_y.1",
          "r_min_inhibition_reading_y.1",
          "r_max_inhibition_reading_y.1",
          "r_R2_x",
          "r_hill_slope_x",
          "r_min_inhibition_reading_x",
          "r_inhibition_list_x.1.1",
          "r_inhibition_list",
          "r_concentration_uM",
          "r_max_inhibition_reading_y.1.1",
          "r_min_inhibition_reading_x.1.1.1",
          "r_max_inhibition_reading_x.1.1.1",
          "r_min_inhibition_reading",
          "r_hill_slope",
          "r_R2",
          "r_min_inhibition_reading_y.1.1.1.1",
          "r_R2_x.1",
          "r_max_inhibition_reading_x",
          "r_concentration_uM_x.1",
          "r_inhibition_list_x.1",
          "r_inhibition_list_y.1.1",
          "r_concentration_uM_y.1.1",
          "r_R2_y.1.1",
          "r_hill_slope_y.1.1",
          "r_min_inhibition_reading_y.1.1",
          "r_max_inhibition_reading_y.1.1.1.1",
          "r_avg_IC50",
          "rationale.1",
          "creator.1",
          "trypsin_IC50",
          "rationale.1.1.1.1",
          "creator.1.1.1.1",
          "rationale.1.1.1",
          "creator.1.1.1.1.1",
          "rationale.1.1.1.1.1",
          "creator.1.1.1",
          "creator.1.1",
          "rationale.1.1",
          "fragments.1.1.1",
          "relative_solubility_at_20_uM",
          "fragments.1.1.1.1.1",
          "fragments.1.1.1.1",
          "f_avg_pIC50",
          "relative_solubility_at_100_uM",
          "f_inhibition_at_50_uM",
          "f_inhibition_at_20_uM",
          "fragments.1.1.1.1.1.1.1.1.1",
          "creator.1.1.1.1.1.1",
          "rationale.1.1.1.1.1.1.1.1.1",
          "rationale.1.1.1.1.1.1",
          "fragments.1.1.1.1.1.1",
          "fragments.1.1",
          "r_inhibition_at_50_uM",
          "r_inhibition_at_20_uM",
          "creator.1.1.1.1.1.1.1",
          "fragments.1.1.1.1.1.1.1",
          "creator.1.1.1.1.1.1.1.1",
          "rationale.1.1.1.1.1.1.1.1",
          "fragments.1.1.1.1.1.1.1.1",
          "fragments.1",
          "creator.1.1.1.1.1.1.1.1.1",
          "rationale.1.1.1.1.1.1.1"
         ],
         "y": [
          2473,
          2270,
          2270,
          2270,
          2270,
          2270,
          2270,
          2258,
          2257,
          2257,
          2257,
          2257,
          2257,
          2257,
          2257,
          2257,
          2257,
          2257,
          2257,
          2257,
          2257,
          2257,
          2257,
          2257,
          2257,
          2257,
          2248,
          2248,
          2248,
          2248,
          2248,
          2248,
          2248,
          2248,
          2248,
          2248,
          2248,
          2248,
          2232,
          2232,
          2232,
          2232,
          2232,
          2232,
          2208,
          2208,
          2208,
          2208,
          2208,
          2208,
          2208,
          2208,
          2208,
          2208,
          2208,
          2208,
          2193,
          2193,
          2193,
          2193,
          2193,
          2193,
          1620,
          1620,
          1620,
          1620,
          1620,
          1620,
          896,
          896,
          896,
          896,
          896,
          896,
          896,
          896,
          896,
          896,
          896,
          896,
          896,
          896,
          896,
          896,
          896,
          896,
          896,
          896,
          896,
          896,
          896,
          896,
          896,
          896,
          896,
          896,
          896,
          896,
          896,
          896,
          896,
          896,
          896,
          896,
          896,
          896,
          896,
          896,
          896,
          896,
          896,
          896,
          896,
          896,
          896,
          896,
          896,
          896,
          896,
          896,
          896,
          896,
          896,
          896,
          896,
          896,
          896,
          896,
          896,
          896,
          896,
          896,
          896,
          896,
          876,
          387,
          387,
          162,
          7,
          7,
          5,
          5,
          5,
          5,
          2,
          2,
          0,
          0,
          0,
          0,
          0,
          0,
          0,
          0,
          0,
          0,
          0,
          0,
          0,
          0,
          0,
          0,
          0,
          0,
          0,
          0,
          0,
          0,
          0,
          0
         ]
        }
       ],
       "layout": {
        "template": {
         "data": {
          "bar": [
           {
            "error_x": {
             "color": "#2a3f5f"
            },
            "error_y": {
             "color": "#2a3f5f"
            },
            "marker": {
             "line": {
              "color": "#E5ECF6",
              "width": 0.5
             },
             "pattern": {
              "fillmode": "overlay",
              "size": 10,
              "solidity": 0.2
             }
            },
            "type": "bar"
           }
          ],
          "barpolar": [
           {
            "marker": {
             "line": {
              "color": "#E5ECF6",
              "width": 0.5
             },
             "pattern": {
              "fillmode": "overlay",
              "size": 10,
              "solidity": 0.2
             }
            },
            "type": "barpolar"
           }
          ],
          "carpet": [
           {
            "aaxis": {
             "endlinecolor": "#2a3f5f",
             "gridcolor": "white",
             "linecolor": "white",
             "minorgridcolor": "white",
             "startlinecolor": "#2a3f5f"
            },
            "baxis": {
             "endlinecolor": "#2a3f5f",
             "gridcolor": "white",
             "linecolor": "white",
             "minorgridcolor": "white",
             "startlinecolor": "#2a3f5f"
            },
            "type": "carpet"
           }
          ],
          "choropleth": [
           {
            "colorbar": {
             "outlinewidth": 0,
             "ticks": ""
            },
            "type": "choropleth"
           }
          ],
          "contour": [
           {
            "colorbar": {
             "outlinewidth": 0,
             "ticks": ""
            },
            "colorscale": [
             [
              0,
              "#0d0887"
             ],
             [
              0.1111111111111111,
              "#46039f"
             ],
             [
              0.2222222222222222,
              "#7201a8"
             ],
             [
              0.3333333333333333,
              "#9c179e"
             ],
             [
              0.4444444444444444,
              "#bd3786"
             ],
             [
              0.5555555555555556,
              "#d8576b"
             ],
             [
              0.6666666666666666,
              "#ed7953"
             ],
             [
              0.7777777777777778,
              "#fb9f3a"
             ],
             [
              0.8888888888888888,
              "#fdca26"
             ],
             [
              1,
              "#f0f921"
             ]
            ],
            "type": "contour"
           }
          ],
          "contourcarpet": [
           {
            "colorbar": {
             "outlinewidth": 0,
             "ticks": ""
            },
            "type": "contourcarpet"
           }
          ],
          "heatmap": [
           {
            "colorbar": {
             "outlinewidth": 0,
             "ticks": ""
            },
            "colorscale": [
             [
              0,
              "#0d0887"
             ],
             [
              0.1111111111111111,
              "#46039f"
             ],
             [
              0.2222222222222222,
              "#7201a8"
             ],
             [
              0.3333333333333333,
              "#9c179e"
             ],
             [
              0.4444444444444444,
              "#bd3786"
             ],
             [
              0.5555555555555556,
              "#d8576b"
             ],
             [
              0.6666666666666666,
              "#ed7953"
             ],
             [
              0.7777777777777778,
              "#fb9f3a"
             ],
             [
              0.8888888888888888,
              "#fdca26"
             ],
             [
              1,
              "#f0f921"
             ]
            ],
            "type": "heatmap"
           }
          ],
          "heatmapgl": [
           {
            "colorbar": {
             "outlinewidth": 0,
             "ticks": ""
            },
            "colorscale": [
             [
              0,
              "#0d0887"
             ],
             [
              0.1111111111111111,
              "#46039f"
             ],
             [
              0.2222222222222222,
              "#7201a8"
             ],
             [
              0.3333333333333333,
              "#9c179e"
             ],
             [
              0.4444444444444444,
              "#bd3786"
             ],
             [
              0.5555555555555556,
              "#d8576b"
             ],
             [
              0.6666666666666666,
              "#ed7953"
             ],
             [
              0.7777777777777778,
              "#fb9f3a"
             ],
             [
              0.8888888888888888,
              "#fdca26"
             ],
             [
              1,
              "#f0f921"
             ]
            ],
            "type": "heatmapgl"
           }
          ],
          "histogram": [
           {
            "marker": {
             "pattern": {
              "fillmode": "overlay",
              "size": 10,
              "solidity": 0.2
             }
            },
            "type": "histogram"
           }
          ],
          "histogram2d": [
           {
            "colorbar": {
             "outlinewidth": 0,
             "ticks": ""
            },
            "colorscale": [
             [
              0,
              "#0d0887"
             ],
             [
              0.1111111111111111,
              "#46039f"
             ],
             [
              0.2222222222222222,
              "#7201a8"
             ],
             [
              0.3333333333333333,
              "#9c179e"
             ],
             [
              0.4444444444444444,
              "#bd3786"
             ],
             [
              0.5555555555555556,
              "#d8576b"
             ],
             [
              0.6666666666666666,
              "#ed7953"
             ],
             [
              0.7777777777777778,
              "#fb9f3a"
             ],
             [
              0.8888888888888888,
              "#fdca26"
             ],
             [
              1,
              "#f0f921"
             ]
            ],
            "type": "histogram2d"
           }
          ],
          "histogram2dcontour": [
           {
            "colorbar": {
             "outlinewidth": 0,
             "ticks": ""
            },
            "colorscale": [
             [
              0,
              "#0d0887"
             ],
             [
              0.1111111111111111,
              "#46039f"
             ],
             [
              0.2222222222222222,
              "#7201a8"
             ],
             [
              0.3333333333333333,
              "#9c179e"
             ],
             [
              0.4444444444444444,
              "#bd3786"
             ],
             [
              0.5555555555555556,
              "#d8576b"
             ],
             [
              0.6666666666666666,
              "#ed7953"
             ],
             [
              0.7777777777777778,
              "#fb9f3a"
             ],
             [
              0.8888888888888888,
              "#fdca26"
             ],
             [
              1,
              "#f0f921"
             ]
            ],
            "type": "histogram2dcontour"
           }
          ],
          "mesh3d": [
           {
            "colorbar": {
             "outlinewidth": 0,
             "ticks": ""
            },
            "type": "mesh3d"
           }
          ],
          "parcoords": [
           {
            "line": {
             "colorbar": {
              "outlinewidth": 0,
              "ticks": ""
             }
            },
            "type": "parcoords"
           }
          ],
          "pie": [
           {
            "automargin": true,
            "type": "pie"
           }
          ],
          "scatter": [
           {
            "fillpattern": {
             "fillmode": "overlay",
             "size": 10,
             "solidity": 0.2
            },
            "type": "scatter"
           }
          ],
          "scatter3d": [
           {
            "line": {
             "colorbar": {
              "outlinewidth": 0,
              "ticks": ""
             }
            },
            "marker": {
             "colorbar": {
              "outlinewidth": 0,
              "ticks": ""
             }
            },
            "type": "scatter3d"
           }
          ],
          "scattercarpet": [
           {
            "marker": {
             "colorbar": {
              "outlinewidth": 0,
              "ticks": ""
             }
            },
            "type": "scattercarpet"
           }
          ],
          "scattergeo": [
           {
            "marker": {
             "colorbar": {
              "outlinewidth": 0,
              "ticks": ""
             }
            },
            "type": "scattergeo"
           }
          ],
          "scattergl": [
           {
            "marker": {
             "colorbar": {
              "outlinewidth": 0,
              "ticks": ""
             }
            },
            "type": "scattergl"
           }
          ],
          "scattermapbox": [
           {
            "marker": {
             "colorbar": {
              "outlinewidth": 0,
              "ticks": ""
             }
            },
            "type": "scattermapbox"
           }
          ],
          "scatterpolar": [
           {
            "marker": {
             "colorbar": {
              "outlinewidth": 0,
              "ticks": ""
             }
            },
            "type": "scatterpolar"
           }
          ],
          "scatterpolargl": [
           {
            "marker": {
             "colorbar": {
              "outlinewidth": 0,
              "ticks": ""
             }
            },
            "type": "scatterpolargl"
           }
          ],
          "scatterternary": [
           {
            "marker": {
             "colorbar": {
              "outlinewidth": 0,
              "ticks": ""
             }
            },
            "type": "scatterternary"
           }
          ],
          "surface": [
           {
            "colorbar": {
             "outlinewidth": 0,
             "ticks": ""
            },
            "colorscale": [
             [
              0,
              "#0d0887"
             ],
             [
              0.1111111111111111,
              "#46039f"
             ],
             [
              0.2222222222222222,
              "#7201a8"
             ],
             [
              0.3333333333333333,
              "#9c179e"
             ],
             [
              0.4444444444444444,
              "#bd3786"
             ],
             [
              0.5555555555555556,
              "#d8576b"
             ],
             [
              0.6666666666666666,
              "#ed7953"
             ],
             [
              0.7777777777777778,
              "#fb9f3a"
             ],
             [
              0.8888888888888888,
              "#fdca26"
             ],
             [
              1,
              "#f0f921"
             ]
            ],
            "type": "surface"
           }
          ],
          "table": [
           {
            "cells": {
             "fill": {
              "color": "#EBF0F8"
             },
             "line": {
              "color": "white"
             }
            },
            "header": {
             "fill": {
              "color": "#C8D4E3"
             },
             "line": {
              "color": "white"
             }
            },
            "type": "table"
           }
          ]
         },
         "layout": {
          "annotationdefaults": {
           "arrowcolor": "#2a3f5f",
           "arrowhead": 0,
           "arrowwidth": 1
          },
          "autotypenumbers": "strict",
          "coloraxis": {
           "colorbar": {
            "outlinewidth": 0,
            "ticks": ""
           }
          },
          "colorscale": {
           "diverging": [
            [
             0,
             "#8e0152"
            ],
            [
             0.1,
             "#c51b7d"
            ],
            [
             0.2,
             "#de77ae"
            ],
            [
             0.3,
             "#f1b6da"
            ],
            [
             0.4,
             "#fde0ef"
            ],
            [
             0.5,
             "#f7f7f7"
            ],
            [
             0.6,
             "#e6f5d0"
            ],
            [
             0.7,
             "#b8e186"
            ],
            [
             0.8,
             "#7fbc41"
            ],
            [
             0.9,
             "#4d9221"
            ],
            [
             1,
             "#276419"
            ]
           ],
           "sequential": [
            [
             0,
             "#0d0887"
            ],
            [
             0.1111111111111111,
             "#46039f"
            ],
            [
             0.2222222222222222,
             "#7201a8"
            ],
            [
             0.3333333333333333,
             "#9c179e"
            ],
            [
             0.4444444444444444,
             "#bd3786"
            ],
            [
             0.5555555555555556,
             "#d8576b"
            ],
            [
             0.6666666666666666,
             "#ed7953"
            ],
            [
             0.7777777777777778,
             "#fb9f3a"
            ],
            [
             0.8888888888888888,
             "#fdca26"
            ],
            [
             1,
             "#f0f921"
            ]
           ],
           "sequentialminus": [
            [
             0,
             "#0d0887"
            ],
            [
             0.1111111111111111,
             "#46039f"
            ],
            [
             0.2222222222222222,
             "#7201a8"
            ],
            [
             0.3333333333333333,
             "#9c179e"
            ],
            [
             0.4444444444444444,
             "#bd3786"
            ],
            [
             0.5555555555555556,
             "#d8576b"
            ],
            [
             0.6666666666666666,
             "#ed7953"
            ],
            [
             0.7777777777777778,
             "#fb9f3a"
            ],
            [
             0.8888888888888888,
             "#fdca26"
            ],
            [
             1,
             "#f0f921"
            ]
           ]
          },
          "colorway": [
           "#636efa",
           "#EF553B",
           "#00cc96",
           "#ab63fa",
           "#FFA15A",
           "#19d3f3",
           "#FF6692",
           "#B6E880",
           "#FF97FF",
           "#FECB52"
          ],
          "font": {
           "color": "#2a3f5f"
          },
          "geo": {
           "bgcolor": "white",
           "lakecolor": "white",
           "landcolor": "#E5ECF6",
           "showlakes": true,
           "showland": true,
           "subunitcolor": "white"
          },
          "hoverlabel": {
           "align": "left"
          },
          "hovermode": "closest",
          "mapbox": {
           "style": "light"
          },
          "paper_bgcolor": "white",
          "plot_bgcolor": "#E5ECF6",
          "polar": {
           "angularaxis": {
            "gridcolor": "white",
            "linecolor": "white",
            "ticks": ""
           },
           "bgcolor": "#E5ECF6",
           "radialaxis": {
            "gridcolor": "white",
            "linecolor": "white",
            "ticks": ""
           }
          },
          "scene": {
           "xaxis": {
            "backgroundcolor": "#E5ECF6",
            "gridcolor": "white",
            "gridwidth": 2,
            "linecolor": "white",
            "showbackground": true,
            "ticks": "",
            "zerolinecolor": "white"
           },
           "yaxis": {
            "backgroundcolor": "#E5ECF6",
            "gridcolor": "white",
            "gridwidth": 2,
            "linecolor": "white",
            "showbackground": true,
            "ticks": "",
            "zerolinecolor": "white"
           },
           "zaxis": {
            "backgroundcolor": "#E5ECF6",
            "gridcolor": "white",
            "gridwidth": 2,
            "linecolor": "white",
            "showbackground": true,
            "ticks": "",
            "zerolinecolor": "white"
           }
          },
          "shapedefaults": {
           "line": {
            "color": "#2a3f5f"
           }
          },
          "ternary": {
           "aaxis": {
            "gridcolor": "white",
            "linecolor": "white",
            "ticks": ""
           },
           "baxis": {
            "gridcolor": "white",
            "linecolor": "white",
            "ticks": ""
           },
           "bgcolor": "#E5ECF6",
           "caxis": {
            "gridcolor": "white",
            "linecolor": "white",
            "ticks": ""
           }
          },
          "title": {
           "x": 0.05
          },
          "xaxis": {
           "automargin": true,
           "gridcolor": "white",
           "linecolor": "white",
           "ticks": "",
           "title": {
            "standoff": 15
           },
           "zerolinecolor": "white",
           "zerolinewidth": 2
          },
          "yaxis": {
           "automargin": true,
           "gridcolor": "white",
           "linecolor": "white",
           "ticks": "",
           "title": {
            "standoff": 15
           },
           "zerolinecolor": "white",
           "zerolinewidth": 2
          }
         }
        },
        "title": {
         "text": "Number of non nan values in each column sorted by number of non nan values"
        }
       }
      }
     },
     "metadata": {},
     "output_type": "display_data"
    },
    {
     "name": "stdout",
     "output_type": "stream",
     "text": [
      "SMILES                       2473\n",
      "f_max_inhibition_reading     2270\n",
      "f_inhibition_list            2270\n",
      "f_concentration_uM           2270\n",
      "f_R2                         2270\n",
      "                             ... \n",
      "rationale.1.1.1.1.1.1.1.1       0\n",
      "fragments.1.1.1.1.1.1.1.1       0\n",
      "fragments.1                     0\n",
      "creator.1.1.1.1.1.1.1.1.1       0\n",
      "rationale.1.1.1.1.1.1.1         0\n",
      "Length: 170, dtype: int64\n"
     ]
    }
   ],
   "source": [
    "# remove all the useless columns we will compute anything we need from the SMILES \n",
    "\n",
    "columns_to_remove = [\"ORDERED\",\n",
    "                     \"ASSAYED\",\n",
    "                     \"MADE\",\n",
    "                     \"CID\", \n",
    "                     \"series\",\n",
    "                     \"Covalent Fragment\",\n",
    "                     \"TPSA\", \n",
    "                     \"Vinylsulfonamide\", \n",
    "                     \"Chloroacetamide\", \n",
    "                     \"creator\", \n",
    "                     \"inspired_by\", \n",
    "                     \"Submission Notes\", \n",
    "                     \"Nitrile Adduct\", \n",
    "                     \"Shipment Date\",\n",
    "                     \"SHIPMENT_DATE\",\n",
    "                     \"InChIKey\", # we may need this one\n",
    "                     \"Chloroacetamide Adduct\",\n",
    "                     \"Fraction sp3\",\n",
    "                     \"rationale\",\n",
    "                     \"ORDER_DATE\",\n",
    "                     \"CID (canonical)\",\n",
    "                     \"HBA\",\n",
    "                     \"CDD_name\",\n",
    "                     \"Enamine - REAL Space\",\n",
    "                     \"MW\",\n",
    "                     \"Enamine - SCR\",\n",
    "                     \"Mcule\",\n",
    "                     \"Nitrile\",\n",
    "                     \"In eMolecules\",\n",
    "                     \"Rotatable Bonds\",\n",
    "                     \"CDD_mol_ID\",\n",
    "                     \"Vinylsulfonamide Adduct\",\n",
    "                     \"Acrylamide Adduct\",\n",
    "                     \"Acrylamide\",\n",
    "                     \"Enamine - Extended REAL Space\",\n",
    "                     \"fragments\",\n",
    "                     \"In Molport or Mcule\",\n",
    "                     \"Enamine - BB\",\n",
    "                     \"Fragalysis Link\",\n",
    "                     \"HBD\",\n",
    "                     \"cLogP\",\n",
    "                     \"MAKER\",\n",
    "                     \"CID (old format)\",\n",
    "                     \"NMR_std_ratio\",\n",
    "                     \"Order Date\",\n",
    "                     \"Postera Link\",\n",
    "                     \"Order Date\",\n",
    "                     \"Maker\",\n",
    "                     \"creator\",\n",
    "                     \"Mcule Ultimate\",\n",
    "                     \"Structure ID\",\n",
    "                    ]\n",
    "\n",
    "clean_df = df.drop(columns=columns_to_remove)\n",
    "\n",
    "cleaned_columns = clean_df.columns.to_list()\n",
    "\n",
    "# remove any that have structure or .2\n",
    "\n",
    "cleaned_columns = [column for column in cleaned_columns if (\"structure\" or \"Structure\") not in column and \".2\" not in column]\n",
    "cleaned_columns = [column for column in cleaned_columns if (\"covalent\" or \"Covalent\") not in column]\n",
    "cleaned_columns = [column for column in cleaned_columns if \"curve\" not in column] # full of crap values\n",
    "\n",
    "clean_df = clean_df[cleaned_columns]\n",
    "\n",
    "\n",
    "\n",
    "# plot them with plotly\n",
    "import plotly.express as px\n",
    "import plotly.graph_objects as go\n",
    "\n",
    "\n",
    "fig = go.Figure(data=[go.Bar(\n",
    "    x=clean_df.count().sort_values(ascending=False).index.to_list(),\n",
    "    y=clean_df.count().sort_values(ascending=False).to_list()\n",
    ")])\n",
    "\n",
    "fig.update_layout(title_text='Number of non nan values in each column sorted by number of non nan values')\n",
    "fig.show()\n",
    "\n",
    "print(clean_df.count().sort_values(ascending=False))\n"
   ]
  },
  {
   "cell_type": "code",
   "execution_count": 169,
   "metadata": {},
   "outputs": [
    {
     "name": "stdout",
     "output_type": "stream",
     "text": [
      "['SMILES', 'r_max_inhibition_reading_x', 'r_min_inhibition_reading_x', 'r_hill_slope_x', 'r_R2_x', 'r_concentration_uM_x', 'r_inhibition_list_x', 'f_max_inhibition_reading_x', 'f_min_inhibition_reading_x', 'f_hill_slope_x', 'f_R2_x', 'f_concentration_uM_x', 'f_inhibition_list_x', 'creator.1', 'rationale.1', 'fragments.1', 'r_max_inhibition_reading_y', 'r_min_inhibition_reading_y', 'r_hill_slope_y', 'r_R2_y', 'r_concentration_uM_y', 'r_inhibition_list_y', 'f_max_inhibition_reading_y', 'f_min_inhibition_reading_y', 'f_hill_slope_y', 'f_R2_y', 'f_concentration_uM_y', 'f_inhibition_list_y', 'creator.1.1', 'rationale.1.1', 'fragments.1.1', 'r_max_inhibition_reading_x.1', 'r_min_inhibition_reading_x.1', 'r_hill_slope_x.1', 'r_R2_x.1', 'r_concentration_uM_x.1', 'r_inhibition_list_x.1', 'f_max_inhibition_reading_x.1', 'f_min_inhibition_reading_x.1', 'f_hill_slope_x.1', 'f_R2_x.1', 'f_concentration_uM_x.1', 'f_inhibition_list_x.1', 'creator.1.1.1', 'rationale.1.1.1', 'fragments.1.1.1', 'r_max_inhibition_reading_y.1', 'r_min_inhibition_reading_y.1', 'r_hill_slope_y.1', 'r_R2_y.1', 'r_concentration_uM_y.1', 'r_inhibition_list_y.1', 'f_max_inhibition_reading_y.1', 'f_min_inhibition_reading_y.1', 'f_hill_slope_y.1', 'f_R2_y.1', 'f_concentration_uM_y.1', 'f_inhibition_list_y.1', 'creator.1.1.1.1', 'rationale.1.1.1.1', 'fragments.1.1.1.1', 'r_max_inhibition_reading_x.1.1', 'r_min_inhibition_reading_x.1.1', 'r_hill_slope_x.1.1', 'r_R2_x.1.1', 'r_concentration_uM_x.1.1', 'r_inhibition_list_x.1.1', 'f_max_inhibition_reading_x.1.1', 'f_min_inhibition_reading_x.1.1', 'f_hill_slope_x.1.1', 'f_R2_x.1.1', 'f_concentration_uM_x.1.1', 'f_inhibition_list_x.1.1', 'creator.1.1.1.1.1', 'rationale.1.1.1.1.1', 'fragments.1.1.1.1.1', 'r_max_inhibition_reading_y.1.1', 'r_min_inhibition_reading_y.1.1', 'r_hill_slope_y.1.1', 'r_R2_y.1.1', 'r_concentration_uM_y.1.1', 'r_inhibition_list_y.1.1', 'f_max_inhibition_reading_y.1.1', 'f_min_inhibition_reading_y.1.1', 'f_hill_slope_y.1.1', 'f_R2_y.1.1', 'f_concentration_uM_y.1.1', 'f_inhibition_list_y.1.1', 'creator.1.1.1.1.1.1', 'rationale.1.1.1.1.1.1', 'fragments.1.1.1.1.1.1', 'r_max_inhibition_reading_x.1.1.1', 'r_min_inhibition_reading_x.1.1.1', 'r_hill_slope_x.1.1.1', 'r_R2_x.1.1.1', 'r_concentration_uM_x.1.1.1', 'r_inhibition_list_x.1.1.1', 'f_max_inhibition_reading_x.1.1.1', 'f_min_inhibition_reading_x.1.1.1', 'f_hill_slope_x.1.1.1', 'f_R2_x.1.1.1', 'f_concentration_uM_x.1.1.1', 'f_inhibition_list_x.1.1.1', 'creator.1.1.1.1.1.1.1', 'rationale.1.1.1.1.1.1.1', 'fragments.1.1.1.1.1.1.1', 'r_max_inhibition_reading_y.1.1.1', 'r_min_inhibition_reading_y.1.1.1', 'r_hill_slope_y.1.1.1', 'r_R2_y.1.1.1', 'r_concentration_uM_y.1.1.1', 'r_inhibition_list_y.1.1.1', 'f_max_inhibition_reading_y.1.1.1', 'f_min_inhibition_reading_y.1.1.1', 'f_hill_slope_y.1.1.1', 'f_R2_y.1.1.1', 'f_concentration_uM_y.1.1.1', 'f_inhibition_list_y.1.1.1', 'creator.1.1.1.1.1.1.1.1', 'rationale.1.1.1.1.1.1.1.1', 'fragments.1.1.1.1.1.1.1.1', 'r_max_inhibition_reading_x.1.1.1.1', 'r_min_inhibition_reading_x.1.1.1.1', 'r_hill_slope_x.1.1.1.1', 'r_R2_x.1.1.1.1', 'r_concentration_uM_x.1.1.1.1', 'r_inhibition_list_x.1.1.1.1', 'f_max_inhibition_reading_x.1.1.1.1', 'f_min_inhibition_reading_x.1.1.1.1', 'f_hill_slope_x.1.1.1.1', 'f_R2_x.1.1.1.1', 'f_concentration_uM_x.1.1.1.1', 'f_inhibition_list_x.1.1.1.1', 'creator.1.1.1.1.1.1.1.1.1', 'rationale.1.1.1.1.1.1.1.1.1', 'fragments.1.1.1.1.1.1.1.1.1', 'r_max_inhibition_reading_y.1.1.1.1', 'r_min_inhibition_reading_y.1.1.1.1', 'r_hill_slope_y.1.1.1.1', 'r_R2_y.1.1.1.1', 'r_concentration_uM_y.1.1.1.1', 'r_inhibition_list_y.1.1.1.1', 'f_max_inhibition_reading_y.1.1.1.1', 'f_min_inhibition_reading_y.1.1.1.1', 'f_hill_slope_y.1.1.1.1', 'f_R2_y.1.1.1.1', 'f_concentration_uM_y.1.1.1.1', 'f_inhibition_list_y.1.1.1.1', 'r_inhibition_at_20_uM', 'r_inhibition_at_50_uM', 'r_avg_IC50', 'r_max_inhibition_reading', 'r_min_inhibition_reading', 'r_hill_slope', 'r_R2', 'r_concentration_uM', 'r_inhibition_list', 'f_inhibition_at_20_uM', 'f_inhibition_at_50_uM', 'f_avg_IC50', 'f_avg_pIC50', 'f_max_inhibition_reading', 'f_min_inhibition_reading', 'f_hill_slope', 'f_R2', 'f_concentration_uM', 'f_inhibition_list', 'relative_solubility_at_20_uM', 'relative_solubility_at_100_uM', 'trypsin_IC50']\n"
     ]
    }
   ],
   "source": [
    "columns_to_clean = clean_df.columns.to_list()  \n",
    "print(columns_to_clean) "
   ]
  },
  {
   "cell_type": "code",
   "execution_count": 170,
   "metadata": {},
   "outputs": [],
   "source": [
    "# save the Df to a CSV file\n",
    "clean_df.to_csv(\"clean_df.csv\", index=False)"
   ]
  },
  {
   "cell_type": "code",
   "execution_count": 171,
   "metadata": {},
   "outputs": [
    {
     "name": "stdout",
     "output_type": "stream",
     "text": [
      "f_inhibition_list\n",
      "<class 'str'>      2270\n",
      "<class 'float'>     203\n",
      "Name: count, dtype: int64\n"
     ]
    }
   ],
   "source": [
    "# print f_inhibition_list data types\n",
    "print(clean_df.f_inhibition_list.apply(type).value_counts())"
   ]
  },
  {
   "cell_type": "code",
   "execution_count": 172,
   "metadata": {},
   "outputs": [],
   "source": [
    "# for each data point in df\n",
    "# convert lists of lists to lists\n",
    "\n",
    "fixed_df = clean_df.copy()\n"
   ]
  },
  {
   "cell_type": "code",
   "execution_count": 173,
   "metadata": {},
   "outputs": [],
   "source": [
    "\n",
    "import ast  # For safely evaluating strings that represent lists\n",
    "\n",
    "def convert_string_to_list(string):\n",
    "    try:\n",
    "        # Safely evaluate the string as a Python literal (list)\n",
    "        return ast.literal_eval(string)\n",
    "    except:\n",
    "        # If the conversion fails, return the original value\n",
    "        return string\n",
    "\n",
    "def flatten_list_of_lists(lst):\n",
    "    if isinstance(lst, list):\n",
    "        return [item for sublist in lst for item in (sublist if isinstance(sublist, list) else [sublist])]\n",
    "    return lst\n"
   ]
  },
  {
   "cell_type": "code",
   "execution_count": 174,
   "metadata": {},
   "outputs": [
    {
     "data": {
      "text/html": [
       "<div>\n",
       "<style scoped>\n",
       "    .dataframe tbody tr th:only-of-type {\n",
       "        vertical-align: middle;\n",
       "    }\n",
       "\n",
       "    .dataframe tbody tr th {\n",
       "        vertical-align: top;\n",
       "    }\n",
       "\n",
       "    .dataframe thead th {\n",
       "        text-align: right;\n",
       "    }\n",
       "</style>\n",
       "<table border=\"1\" class=\"dataframe\">\n",
       "  <thead>\n",
       "    <tr style=\"text-align: right;\">\n",
       "      <th></th>\n",
       "      <th>SMILES</th>\n",
       "      <th>r_max_inhibition_reading_x</th>\n",
       "      <th>r_min_inhibition_reading_x</th>\n",
       "      <th>r_hill_slope_x</th>\n",
       "      <th>r_R2_x</th>\n",
       "      <th>r_concentration_uM_x</th>\n",
       "      <th>r_inhibition_list_x</th>\n",
       "      <th>f_max_inhibition_reading_x</th>\n",
       "      <th>f_min_inhibition_reading_x</th>\n",
       "      <th>f_hill_slope_x</th>\n",
       "      <th>...</th>\n",
       "      <th>f_avg_pIC50</th>\n",
       "      <th>f_max_inhibition_reading</th>\n",
       "      <th>f_min_inhibition_reading</th>\n",
       "      <th>f_hill_slope</th>\n",
       "      <th>f_R2</th>\n",
       "      <th>f_concentration_uM</th>\n",
       "      <th>f_inhibition_list</th>\n",
       "      <th>relative_solubility_at_20_uM</th>\n",
       "      <th>relative_solubility_at_100_uM</th>\n",
       "      <th>trypsin_IC50</th>\n",
       "    </tr>\n",
       "  </thead>\n",
       "  <tbody>\n",
       "    <tr>\n",
       "      <th>24</th>\n",
       "      <td>N#Cc1cccc(NC(=O)Nc2cncc(N)c2)c1</td>\n",
       "      <td>NaN</td>\n",
       "      <td>NaN</td>\n",
       "      <td>NaN</td>\n",
       "      <td>NaN</td>\n",
       "      <td>NaN</td>\n",
       "      <td>NaN</td>\n",
       "      <td>[63.23729]</td>\n",
       "      <td>[1.3849385]</td>\n",
       "      <td>[{'value': 0.9450030604115591}]</td>\n",
       "      <td>...</td>\n",
       "      <td>NaN</td>\n",
       "      <td>[63.23729]</td>\n",
       "      <td>[1.3849385]</td>\n",
       "      <td>[{'value': 0.9450030604115591}]</td>\n",
       "      <td>[{'value': 0.9369452093357596}]</td>\n",
       "      <td>[[{'value': 99.03}, {'value': 49.52}, {'value'...</td>\n",
       "      <td>[[{'value': 60.13354, 'outlier': False}, {'val...</td>\n",
       "      <td>NaN</td>\n",
       "      <td>NaN</td>\n",
       "      <td>99.0</td>\n",
       "    </tr>\n",
       "    <tr>\n",
       "      <th>27</th>\n",
       "      <td>N#Cc1cccc(NC(=O)Nc2c[nH]c3ncccc23)c1</td>\n",
       "      <td>NaN</td>\n",
       "      <td>NaN</td>\n",
       "      <td>NaN</td>\n",
       "      <td>NaN</td>\n",
       "      <td>NaN</td>\n",
       "      <td>NaN</td>\n",
       "      <td>[59.787310000000005]</td>\n",
       "      <td>[-4.0929875000000004]</td>\n",
       "      <td>[{'value': 1.02447223384785}]</td>\n",
       "      <td>...</td>\n",
       "      <td>NaN</td>\n",
       "      <td>[59.787310000000005]</td>\n",
       "      <td>[-4.0929875000000004]</td>\n",
       "      <td>[{'value': 1.02447223384785}]</td>\n",
       "      <td>[{'value': 0.9166699422345314}]</td>\n",
       "      <td>[[{'value': 99.03}, {'value': 49.52}, {'value'...</td>\n",
       "      <td>[[{'value': 58.60022, 'outlier': False}, {'val...</td>\n",
       "      <td>NaN</td>\n",
       "      <td>NaN</td>\n",
       "      <td>99.0</td>\n",
       "    </tr>\n",
       "    <tr>\n",
       "      <th>35</th>\n",
       "      <td>N#Cc1cccc(NC(=O)Cc2cncc3ccccc23)c1</td>\n",
       "      <td>[{'value': 100.0}]</td>\n",
       "      <td>[{'value': 0.0}]</td>\n",
       "      <td>[{'value': 1.342001607404534}]</td>\n",
       "      <td>[{'value': 0.9584303066575189}]</td>\n",
       "      <td>[[{'value': 100.0}, {'value': 33.3333333333333...</td>\n",
       "      <td>[[87.13432893410572, 70.99683314259158, 44.186...</td>\n",
       "      <td>[77.520905, 79.352675]</td>\n",
       "      <td>[-0.5902604999999999, 2.566964]</td>\n",
       "      <td>[{'value': 1.0815871336141434}, {'value': 1.03...</td>\n",
       "      <td>...</td>\n",
       "      <td>NaN</td>\n",
       "      <td>[77.520905, 79.352675]</td>\n",
       "      <td>[-0.5902604999999999, 2.566964]</td>\n",
       "      <td>[{'value': 1.0815871336141434}, {'value': 1.03...</td>\n",
       "      <td>[{'value': 0.9893602593326579}, {'value': 0.98...</td>\n",
       "      <td>[[{'value': 99.0}, {'value': 49.5}, {'value': ...</td>\n",
       "      <td>[[{'value': 78.45548, 'outlier': False}, {'val...</td>\n",
       "      <td>NaN</td>\n",
       "      <td>NaN</td>\n",
       "      <td>NaN</td>\n",
       "    </tr>\n",
       "    <tr>\n",
       "      <th>36</th>\n",
       "      <td>O=C(Cc1cncc2ccccc12)Nc1ccccc1</td>\n",
       "      <td>[{'value': 100.0}]</td>\n",
       "      <td>[{'value': 0.0}]</td>\n",
       "      <td>[{'value': 1.4978014037010325}]</td>\n",
       "      <td>[{'value': 0.9715456451982201}]</td>\n",
       "      <td>[[{'value': 100.0}, {'value': 33.3333333333333...</td>\n",
       "      <td>[[75.57385484282172, 40.76427177018337, 12.277...</td>\n",
       "      <td>[61.19036, 63.504459999999995]</td>\n",
       "      <td>[-1.86915885, -26.227678]</td>\n",
       "      <td>[{'value': 1.1054212367637406}, {'value': 1.15...</td>\n",
       "      <td>...</td>\n",
       "      <td>NaN</td>\n",
       "      <td>[61.19036, 63.504459999999995]</td>\n",
       "      <td>[-1.86915885, -26.227678]</td>\n",
       "      <td>[{'value': 1.1054212367637406}, {'value': 1.15...</td>\n",
       "      <td>[{'value': 0.9865462759438266}, {'value': 0.75...</td>\n",
       "      <td>[[{'value': 99.0}, {'value': 49.5}, {'value': ...</td>\n",
       "      <td>[[{'value': 61.82981, 'outlier': False}, {'val...</td>\n",
       "      <td>NaN</td>\n",
       "      <td>NaN</td>\n",
       "      <td>99.0</td>\n",
       "    </tr>\n",
       "    <tr>\n",
       "      <th>107</th>\n",
       "      <td>N#Cc1cc(Cl)cc(NC(=O)Nc2cccnc2)c1</td>\n",
       "      <td>NaN</td>\n",
       "      <td>NaN</td>\n",
       "      <td>NaN</td>\n",
       "      <td>NaN</td>\n",
       "      <td>NaN</td>\n",
       "      <td>NaN</td>\n",
       "      <td>[37.82614]</td>\n",
       "      <td>[-14.838629]</td>\n",
       "      <td>[{'value': 1.0537926850550778}]</td>\n",
       "      <td>...</td>\n",
       "      <td>NaN</td>\n",
       "      <td>[37.82614]</td>\n",
       "      <td>[-14.838629]</td>\n",
       "      <td>[{'value': 1.0537926850550778}]</td>\n",
       "      <td>[{'value': 0.7316094759097787}]</td>\n",
       "      <td>[[{'value': 99.01}, {'value': 49.5}, {'value':...</td>\n",
       "      <td>[[{'value': 34.48745, 'outlier': False}, {'val...</td>\n",
       "      <td>NaN</td>\n",
       "      <td>NaN</td>\n",
       "      <td>99.0</td>\n",
       "    </tr>\n",
       "  </tbody>\n",
       "</table>\n",
       "<p>5 rows × 170 columns</p>\n",
       "</div>"
      ],
      "text/plain": [
       "                                   SMILES r_max_inhibition_reading_x  \\\n",
       "24        N#Cc1cccc(NC(=O)Nc2cncc(N)c2)c1                        NaN   \n",
       "27   N#Cc1cccc(NC(=O)Nc2c[nH]c3ncccc23)c1                        NaN   \n",
       "35     N#Cc1cccc(NC(=O)Cc2cncc3ccccc23)c1         [{'value': 100.0}]   \n",
       "36          O=C(Cc1cncc2ccccc12)Nc1ccccc1         [{'value': 100.0}]   \n",
       "107      N#Cc1cc(Cl)cc(NC(=O)Nc2cccnc2)c1                        NaN   \n",
       "\n",
       "    r_min_inhibition_reading_x                   r_hill_slope_x  \\\n",
       "24                         NaN                              NaN   \n",
       "27                         NaN                              NaN   \n",
       "35            [{'value': 0.0}]   [{'value': 1.342001607404534}]   \n",
       "36            [{'value': 0.0}]  [{'value': 1.4978014037010325}]   \n",
       "107                        NaN                              NaN   \n",
       "\n",
       "                              r_R2_x  \\\n",
       "24                               NaN   \n",
       "27                               NaN   \n",
       "35   [{'value': 0.9584303066575189}]   \n",
       "36   [{'value': 0.9715456451982201}]   \n",
       "107                              NaN   \n",
       "\n",
       "                                  r_concentration_uM_x  \\\n",
       "24                                                 NaN   \n",
       "27                                                 NaN   \n",
       "35   [[{'value': 100.0}, {'value': 33.3333333333333...   \n",
       "36   [[{'value': 100.0}, {'value': 33.3333333333333...   \n",
       "107                                                NaN   \n",
       "\n",
       "                                   r_inhibition_list_x  \\\n",
       "24                                                 NaN   \n",
       "27                                                 NaN   \n",
       "35   [[87.13432893410572, 70.99683314259158, 44.186...   \n",
       "36   [[75.57385484282172, 40.76427177018337, 12.277...   \n",
       "107                                                NaN   \n",
       "\n",
       "         f_max_inhibition_reading_x       f_min_inhibition_reading_x  \\\n",
       "24                       [63.23729]                      [1.3849385]   \n",
       "27             [59.787310000000005]            [-4.0929875000000004]   \n",
       "35           [77.520905, 79.352675]  [-0.5902604999999999, 2.566964]   \n",
       "36   [61.19036, 63.504459999999995]        [-1.86915885, -26.227678]   \n",
       "107                      [37.82614]                     [-14.838629]   \n",
       "\n",
       "                                        f_hill_slope_x  ... f_avg_pIC50  \\\n",
       "24                     [{'value': 0.9450030604115591}]  ...         NaN   \n",
       "27                       [{'value': 1.02447223384785}]  ...         NaN   \n",
       "35   [{'value': 1.0815871336141434}, {'value': 1.03...  ...         NaN   \n",
       "36   [{'value': 1.1054212367637406}, {'value': 1.15...  ...         NaN   \n",
       "107                    [{'value': 1.0537926850550778}]  ...         NaN   \n",
       "\n",
       "           f_max_inhibition_reading         f_min_inhibition_reading  \\\n",
       "24                       [63.23729]                      [1.3849385]   \n",
       "27             [59.787310000000005]            [-4.0929875000000004]   \n",
       "35           [77.520905, 79.352675]  [-0.5902604999999999, 2.566964]   \n",
       "36   [61.19036, 63.504459999999995]        [-1.86915885, -26.227678]   \n",
       "107                      [37.82614]                     [-14.838629]   \n",
       "\n",
       "                                          f_hill_slope  \\\n",
       "24                     [{'value': 0.9450030604115591}]   \n",
       "27                       [{'value': 1.02447223384785}]   \n",
       "35   [{'value': 1.0815871336141434}, {'value': 1.03...   \n",
       "36   [{'value': 1.1054212367637406}, {'value': 1.15...   \n",
       "107                    [{'value': 1.0537926850550778}]   \n",
       "\n",
       "                                                  f_R2  \\\n",
       "24                     [{'value': 0.9369452093357596}]   \n",
       "27                     [{'value': 0.9166699422345314}]   \n",
       "35   [{'value': 0.9893602593326579}, {'value': 0.98...   \n",
       "36   [{'value': 0.9865462759438266}, {'value': 0.75...   \n",
       "107                    [{'value': 0.7316094759097787}]   \n",
       "\n",
       "                                    f_concentration_uM  \\\n",
       "24   [[{'value': 99.03}, {'value': 49.52}, {'value'...   \n",
       "27   [[{'value': 99.03}, {'value': 49.52}, {'value'...   \n",
       "35   [[{'value': 99.0}, {'value': 49.5}, {'value': ...   \n",
       "36   [[{'value': 99.0}, {'value': 49.5}, {'value': ...   \n",
       "107  [[{'value': 99.01}, {'value': 49.5}, {'value':...   \n",
       "\n",
       "                                     f_inhibition_list  \\\n",
       "24   [[{'value': 60.13354, 'outlier': False}, {'val...   \n",
       "27   [[{'value': 58.60022, 'outlier': False}, {'val...   \n",
       "35   [[{'value': 78.45548, 'outlier': False}, {'val...   \n",
       "36   [[{'value': 61.82981, 'outlier': False}, {'val...   \n",
       "107  [[{'value': 34.48745, 'outlier': False}, {'val...   \n",
       "\n",
       "    relative_solubility_at_20_uM relative_solubility_at_100_uM trypsin_IC50  \n",
       "24                           NaN                           NaN         99.0  \n",
       "27                           NaN                           NaN         99.0  \n",
       "35                           NaN                           NaN          NaN  \n",
       "36                           NaN                           NaN         99.0  \n",
       "107                          NaN                           NaN         99.0  \n",
       "\n",
       "[5 rows x 170 columns]"
      ]
     },
     "execution_count": 174,
     "metadata": {},
     "output_type": "execute_result"
    }
   ],
   "source": [
    "\n",
    "# Convert string representations of lists to actual lists\n",
    "fixed_df = fixed_df.map(convert_string_to_list)\n",
    "fixed_df.head()"
   ]
  },
  {
   "cell_type": "code",
   "execution_count": 175,
   "metadata": {},
   "outputs": [
    {
     "data": {
      "text/html": [
       "<div>\n",
       "<style scoped>\n",
       "    .dataframe tbody tr th:only-of-type {\n",
       "        vertical-align: middle;\n",
       "    }\n",
       "\n",
       "    .dataframe tbody tr th {\n",
       "        vertical-align: top;\n",
       "    }\n",
       "\n",
       "    .dataframe thead th {\n",
       "        text-align: right;\n",
       "    }\n",
       "</style>\n",
       "<table border=\"1\" class=\"dataframe\">\n",
       "  <thead>\n",
       "    <tr style=\"text-align: right;\">\n",
       "      <th></th>\n",
       "      <th>SMILES</th>\n",
       "      <th>r_max_inhibition_reading_x</th>\n",
       "      <th>r_min_inhibition_reading_x</th>\n",
       "      <th>r_hill_slope_x</th>\n",
       "      <th>r_R2_x</th>\n",
       "      <th>r_concentration_uM_x</th>\n",
       "      <th>r_inhibition_list_x</th>\n",
       "      <th>f_max_inhibition_reading_x</th>\n",
       "      <th>f_min_inhibition_reading_x</th>\n",
       "      <th>f_hill_slope_x</th>\n",
       "      <th>...</th>\n",
       "      <th>f_avg_pIC50</th>\n",
       "      <th>f_max_inhibition_reading</th>\n",
       "      <th>f_min_inhibition_reading</th>\n",
       "      <th>f_hill_slope</th>\n",
       "      <th>f_R2</th>\n",
       "      <th>f_concentration_uM</th>\n",
       "      <th>f_inhibition_list</th>\n",
       "      <th>relative_solubility_at_20_uM</th>\n",
       "      <th>relative_solubility_at_100_uM</th>\n",
       "      <th>trypsin_IC50</th>\n",
       "    </tr>\n",
       "  </thead>\n",
       "  <tbody>\n",
       "    <tr>\n",
       "      <th>24</th>\n",
       "      <td>N#Cc1cccc(NC(=O)Nc2cncc(N)c2)c1</td>\n",
       "      <td>NaN</td>\n",
       "      <td>NaN</td>\n",
       "      <td>NaN</td>\n",
       "      <td>NaN</td>\n",
       "      <td>NaN</td>\n",
       "      <td>NaN</td>\n",
       "      <td>[63.23729]</td>\n",
       "      <td>[1.3849385]</td>\n",
       "      <td>[{'value': 0.9450030604115591}]</td>\n",
       "      <td>...</td>\n",
       "      <td>NaN</td>\n",
       "      <td>[63.23729]</td>\n",
       "      <td>[1.3849385]</td>\n",
       "      <td>[{'value': 0.9450030604115591}]</td>\n",
       "      <td>[{'value': 0.9369452093357596}]</td>\n",
       "      <td>[{'value': 99.03}, {'value': 49.52}, {'value':...</td>\n",
       "      <td>[{'value': 60.13354, 'outlier': False}, {'valu...</td>\n",
       "      <td>NaN</td>\n",
       "      <td>NaN</td>\n",
       "      <td>99.0</td>\n",
       "    </tr>\n",
       "    <tr>\n",
       "      <th>27</th>\n",
       "      <td>N#Cc1cccc(NC(=O)Nc2c[nH]c3ncccc23)c1</td>\n",
       "      <td>NaN</td>\n",
       "      <td>NaN</td>\n",
       "      <td>NaN</td>\n",
       "      <td>NaN</td>\n",
       "      <td>NaN</td>\n",
       "      <td>NaN</td>\n",
       "      <td>[59.787310000000005]</td>\n",
       "      <td>[-4.0929875000000004]</td>\n",
       "      <td>[{'value': 1.02447223384785}]</td>\n",
       "      <td>...</td>\n",
       "      <td>NaN</td>\n",
       "      <td>[59.787310000000005]</td>\n",
       "      <td>[-4.0929875000000004]</td>\n",
       "      <td>[{'value': 1.02447223384785}]</td>\n",
       "      <td>[{'value': 0.9166699422345314}]</td>\n",
       "      <td>[{'value': 99.03}, {'value': 49.52}, {'value':...</td>\n",
       "      <td>[{'value': 58.60022, 'outlier': False}, {'valu...</td>\n",
       "      <td>NaN</td>\n",
       "      <td>NaN</td>\n",
       "      <td>99.0</td>\n",
       "    </tr>\n",
       "    <tr>\n",
       "      <th>35</th>\n",
       "      <td>N#Cc1cccc(NC(=O)Cc2cncc3ccccc23)c1</td>\n",
       "      <td>[{'value': 100.0}]</td>\n",
       "      <td>[{'value': 0.0}]</td>\n",
       "      <td>[{'value': 1.342001607404534}]</td>\n",
       "      <td>[{'value': 0.9584303066575189}]</td>\n",
       "      <td>[{'value': 100.0}, {'value': 33.33333333333333...</td>\n",
       "      <td>[87.13432893410572, 70.99683314259158, 44.1865...</td>\n",
       "      <td>[77.520905, 79.352675]</td>\n",
       "      <td>[-0.5902604999999999, 2.566964]</td>\n",
       "      <td>[{'value': 1.0815871336141434}, {'value': 1.03...</td>\n",
       "      <td>...</td>\n",
       "      <td>NaN</td>\n",
       "      <td>[77.520905, 79.352675]</td>\n",
       "      <td>[-0.5902604999999999, 2.566964]</td>\n",
       "      <td>[{'value': 1.0815871336141434}, {'value': 1.03...</td>\n",
       "      <td>[{'value': 0.9893602593326579}, {'value': 0.98...</td>\n",
       "      <td>[{'value': 99.0}, {'value': 49.5}, {'value': 2...</td>\n",
       "      <td>[{'value': 78.45548, 'outlier': False}, {'valu...</td>\n",
       "      <td>NaN</td>\n",
       "      <td>NaN</td>\n",
       "      <td>NaN</td>\n",
       "    </tr>\n",
       "    <tr>\n",
       "      <th>36</th>\n",
       "      <td>O=C(Cc1cncc2ccccc12)Nc1ccccc1</td>\n",
       "      <td>[{'value': 100.0}]</td>\n",
       "      <td>[{'value': 0.0}]</td>\n",
       "      <td>[{'value': 1.4978014037010325}]</td>\n",
       "      <td>[{'value': 0.9715456451982201}]</td>\n",
       "      <td>[{'value': 100.0}, {'value': 33.33333333333333...</td>\n",
       "      <td>[75.57385484282172, 40.76427177018337, 12.2779...</td>\n",
       "      <td>[61.19036, 63.504459999999995]</td>\n",
       "      <td>[-1.86915885, -26.227678]</td>\n",
       "      <td>[{'value': 1.1054212367637406}, {'value': 1.15...</td>\n",
       "      <td>...</td>\n",
       "      <td>NaN</td>\n",
       "      <td>[61.19036, 63.504459999999995]</td>\n",
       "      <td>[-1.86915885, -26.227678]</td>\n",
       "      <td>[{'value': 1.1054212367637406}, {'value': 1.15...</td>\n",
       "      <td>[{'value': 0.9865462759438266}, {'value': 0.75...</td>\n",
       "      <td>[{'value': 99.0}, {'value': 49.5}, {'value': 2...</td>\n",
       "      <td>[{'value': 61.82981, 'outlier': False}, {'valu...</td>\n",
       "      <td>NaN</td>\n",
       "      <td>NaN</td>\n",
       "      <td>99.0</td>\n",
       "    </tr>\n",
       "    <tr>\n",
       "      <th>107</th>\n",
       "      <td>N#Cc1cc(Cl)cc(NC(=O)Nc2cccnc2)c1</td>\n",
       "      <td>NaN</td>\n",
       "      <td>NaN</td>\n",
       "      <td>NaN</td>\n",
       "      <td>NaN</td>\n",
       "      <td>NaN</td>\n",
       "      <td>NaN</td>\n",
       "      <td>[37.82614]</td>\n",
       "      <td>[-14.838629]</td>\n",
       "      <td>[{'value': 1.0537926850550778}]</td>\n",
       "      <td>...</td>\n",
       "      <td>NaN</td>\n",
       "      <td>[37.82614]</td>\n",
       "      <td>[-14.838629]</td>\n",
       "      <td>[{'value': 1.0537926850550778}]</td>\n",
       "      <td>[{'value': 0.7316094759097787}]</td>\n",
       "      <td>[{'value': 99.01}, {'value': 49.5}, {'value': ...</td>\n",
       "      <td>[{'value': 34.48745, 'outlier': False}, {'valu...</td>\n",
       "      <td>NaN</td>\n",
       "      <td>NaN</td>\n",
       "      <td>99.0</td>\n",
       "    </tr>\n",
       "  </tbody>\n",
       "</table>\n",
       "<p>5 rows × 170 columns</p>\n",
       "</div>"
      ],
      "text/plain": [
       "                                   SMILES r_max_inhibition_reading_x  \\\n",
       "24        N#Cc1cccc(NC(=O)Nc2cncc(N)c2)c1                        NaN   \n",
       "27   N#Cc1cccc(NC(=O)Nc2c[nH]c3ncccc23)c1                        NaN   \n",
       "35     N#Cc1cccc(NC(=O)Cc2cncc3ccccc23)c1         [{'value': 100.0}]   \n",
       "36          O=C(Cc1cncc2ccccc12)Nc1ccccc1         [{'value': 100.0}]   \n",
       "107      N#Cc1cc(Cl)cc(NC(=O)Nc2cccnc2)c1                        NaN   \n",
       "\n",
       "    r_min_inhibition_reading_x                   r_hill_slope_x  \\\n",
       "24                         NaN                              NaN   \n",
       "27                         NaN                              NaN   \n",
       "35            [{'value': 0.0}]   [{'value': 1.342001607404534}]   \n",
       "36            [{'value': 0.0}]  [{'value': 1.4978014037010325}]   \n",
       "107                        NaN                              NaN   \n",
       "\n",
       "                              r_R2_x  \\\n",
       "24                               NaN   \n",
       "27                               NaN   \n",
       "35   [{'value': 0.9584303066575189}]   \n",
       "36   [{'value': 0.9715456451982201}]   \n",
       "107                              NaN   \n",
       "\n",
       "                                  r_concentration_uM_x  \\\n",
       "24                                                 NaN   \n",
       "27                                                 NaN   \n",
       "35   [{'value': 100.0}, {'value': 33.33333333333333...   \n",
       "36   [{'value': 100.0}, {'value': 33.33333333333333...   \n",
       "107                                                NaN   \n",
       "\n",
       "                                   r_inhibition_list_x  \\\n",
       "24                                                 NaN   \n",
       "27                                                 NaN   \n",
       "35   [87.13432893410572, 70.99683314259158, 44.1865...   \n",
       "36   [75.57385484282172, 40.76427177018337, 12.2779...   \n",
       "107                                                NaN   \n",
       "\n",
       "         f_max_inhibition_reading_x       f_min_inhibition_reading_x  \\\n",
       "24                       [63.23729]                      [1.3849385]   \n",
       "27             [59.787310000000005]            [-4.0929875000000004]   \n",
       "35           [77.520905, 79.352675]  [-0.5902604999999999, 2.566964]   \n",
       "36   [61.19036, 63.504459999999995]        [-1.86915885, -26.227678]   \n",
       "107                      [37.82614]                     [-14.838629]   \n",
       "\n",
       "                                        f_hill_slope_x  ... f_avg_pIC50  \\\n",
       "24                     [{'value': 0.9450030604115591}]  ...         NaN   \n",
       "27                       [{'value': 1.02447223384785}]  ...         NaN   \n",
       "35   [{'value': 1.0815871336141434}, {'value': 1.03...  ...         NaN   \n",
       "36   [{'value': 1.1054212367637406}, {'value': 1.15...  ...         NaN   \n",
       "107                    [{'value': 1.0537926850550778}]  ...         NaN   \n",
       "\n",
       "           f_max_inhibition_reading         f_min_inhibition_reading  \\\n",
       "24                       [63.23729]                      [1.3849385]   \n",
       "27             [59.787310000000005]            [-4.0929875000000004]   \n",
       "35           [77.520905, 79.352675]  [-0.5902604999999999, 2.566964]   \n",
       "36   [61.19036, 63.504459999999995]        [-1.86915885, -26.227678]   \n",
       "107                      [37.82614]                     [-14.838629]   \n",
       "\n",
       "                                          f_hill_slope  \\\n",
       "24                     [{'value': 0.9450030604115591}]   \n",
       "27                       [{'value': 1.02447223384785}]   \n",
       "35   [{'value': 1.0815871336141434}, {'value': 1.03...   \n",
       "36   [{'value': 1.1054212367637406}, {'value': 1.15...   \n",
       "107                    [{'value': 1.0537926850550778}]   \n",
       "\n",
       "                                                  f_R2  \\\n",
       "24                     [{'value': 0.9369452093357596}]   \n",
       "27                     [{'value': 0.9166699422345314}]   \n",
       "35   [{'value': 0.9893602593326579}, {'value': 0.98...   \n",
       "36   [{'value': 0.9865462759438266}, {'value': 0.75...   \n",
       "107                    [{'value': 0.7316094759097787}]   \n",
       "\n",
       "                                    f_concentration_uM  \\\n",
       "24   [{'value': 99.03}, {'value': 49.52}, {'value':...   \n",
       "27   [{'value': 99.03}, {'value': 49.52}, {'value':...   \n",
       "35   [{'value': 99.0}, {'value': 49.5}, {'value': 2...   \n",
       "36   [{'value': 99.0}, {'value': 49.5}, {'value': 2...   \n",
       "107  [{'value': 99.01}, {'value': 49.5}, {'value': ...   \n",
       "\n",
       "                                     f_inhibition_list  \\\n",
       "24   [{'value': 60.13354, 'outlier': False}, {'valu...   \n",
       "27   [{'value': 58.60022, 'outlier': False}, {'valu...   \n",
       "35   [{'value': 78.45548, 'outlier': False}, {'valu...   \n",
       "36   [{'value': 61.82981, 'outlier': False}, {'valu...   \n",
       "107  [{'value': 34.48745, 'outlier': False}, {'valu...   \n",
       "\n",
       "    relative_solubility_at_20_uM relative_solubility_at_100_uM trypsin_IC50  \n",
       "24                           NaN                           NaN         99.0  \n",
       "27                           NaN                           NaN         99.0  \n",
       "35                           NaN                           NaN          NaN  \n",
       "36                           NaN                           NaN         99.0  \n",
       "107                          NaN                           NaN         99.0  \n",
       "\n",
       "[5 rows x 170 columns]"
      ]
     },
     "execution_count": 175,
     "metadata": {},
     "output_type": "execute_result"
    }
   ],
   "source": [
    "\n",
    "# Flatten lists of lists\n",
    "fixed_df = fixed_df.map(flatten_list_of_lists)\n",
    "#fixed_df Display the first few rows of the DataFrame\n",
    "fixed_df.head()"
   ]
  },
  {
   "cell_type": "code",
   "execution_count": 176,
   "metadata": {},
   "outputs": [
    {
     "data": {
      "text/html": [
       "<div>\n",
       "<style scoped>\n",
       "    .dataframe tbody tr th:only-of-type {\n",
       "        vertical-align: middle;\n",
       "    }\n",
       "\n",
       "    .dataframe tbody tr th {\n",
       "        vertical-align: top;\n",
       "    }\n",
       "\n",
       "    .dataframe thead th {\n",
       "        text-align: right;\n",
       "    }\n",
       "</style>\n",
       "<table border=\"1\" class=\"dataframe\">\n",
       "  <thead>\n",
       "    <tr style=\"text-align: right;\">\n",
       "      <th></th>\n",
       "      <th>SMILES</th>\n",
       "      <th>r_max_inhibition_reading_x</th>\n",
       "      <th>r_min_inhibition_reading_x</th>\n",
       "      <th>r_hill_slope_x</th>\n",
       "      <th>r_R2_x</th>\n",
       "      <th>r_concentration_uM_x</th>\n",
       "      <th>r_inhibition_list_x</th>\n",
       "      <th>f_max_inhibition_reading_x</th>\n",
       "      <th>f_min_inhibition_reading_x</th>\n",
       "      <th>f_hill_slope_x</th>\n",
       "      <th>...</th>\n",
       "      <th>f_avg_pIC50</th>\n",
       "      <th>f_max_inhibition_reading</th>\n",
       "      <th>f_min_inhibition_reading</th>\n",
       "      <th>f_hill_slope</th>\n",
       "      <th>f_R2</th>\n",
       "      <th>f_concentration_uM</th>\n",
       "      <th>f_inhibition_list</th>\n",
       "      <th>relative_solubility_at_20_uM</th>\n",
       "      <th>relative_solubility_at_100_uM</th>\n",
       "      <th>trypsin_IC50</th>\n",
       "    </tr>\n",
       "  </thead>\n",
       "  <tbody>\n",
       "    <tr>\n",
       "      <th>24</th>\n",
       "      <td>N#Cc1cccc(NC(=O)Nc2cncc(N)c2)c1</td>\n",
       "      <td>NaN</td>\n",
       "      <td>NaN</td>\n",
       "      <td>NaN</td>\n",
       "      <td>NaN</td>\n",
       "      <td>NaN</td>\n",
       "      <td>NaN</td>\n",
       "      <td>[63.23729]</td>\n",
       "      <td>[1.3849385]</td>\n",
       "      <td>[{'value': 0.9450030604115591}]</td>\n",
       "      <td>...</td>\n",
       "      <td>NaN</td>\n",
       "      <td>[63.23729]</td>\n",
       "      <td>[1.3849385]</td>\n",
       "      <td>[{'value': 0.9450030604115591}]</td>\n",
       "      <td>[{'value': 0.9369452093357596}]</td>\n",
       "      <td>[{'value': 99.03}, {'value': 49.52}, {'value':...</td>\n",
       "      <td>[{'value': 60.13354, 'outlier': False}, {'valu...</td>\n",
       "      <td>NaN</td>\n",
       "      <td>NaN</td>\n",
       "      <td>99.0</td>\n",
       "    </tr>\n",
       "    <tr>\n",
       "      <th>27</th>\n",
       "      <td>N#Cc1cccc(NC(=O)Nc2c[nH]c3ncccc23)c1</td>\n",
       "      <td>NaN</td>\n",
       "      <td>NaN</td>\n",
       "      <td>NaN</td>\n",
       "      <td>NaN</td>\n",
       "      <td>NaN</td>\n",
       "      <td>NaN</td>\n",
       "      <td>[59.787310000000005]</td>\n",
       "      <td>[-4.0929875000000004]</td>\n",
       "      <td>[{'value': 1.02447223384785}]</td>\n",
       "      <td>...</td>\n",
       "      <td>NaN</td>\n",
       "      <td>[59.787310000000005]</td>\n",
       "      <td>[-4.0929875000000004]</td>\n",
       "      <td>[{'value': 1.02447223384785}]</td>\n",
       "      <td>[{'value': 0.9166699422345314}]</td>\n",
       "      <td>[{'value': 99.03}, {'value': 49.52}, {'value':...</td>\n",
       "      <td>[{'value': 58.60022, 'outlier': False}, {'valu...</td>\n",
       "      <td>NaN</td>\n",
       "      <td>NaN</td>\n",
       "      <td>99.0</td>\n",
       "    </tr>\n",
       "    <tr>\n",
       "      <th>35</th>\n",
       "      <td>N#Cc1cccc(NC(=O)Cc2cncc3ccccc23)c1</td>\n",
       "      <td>[{'value': 100.0}]</td>\n",
       "      <td>[{'value': 0.0}]</td>\n",
       "      <td>[{'value': 1.342001607404534}]</td>\n",
       "      <td>[{'value': 0.9584303066575189}]</td>\n",
       "      <td>[{'value': 100.0}, {'value': 33.33333333333333...</td>\n",
       "      <td>[87.13432893410572, 70.99683314259158, 44.1865...</td>\n",
       "      <td>[77.520905, 79.352675]</td>\n",
       "      <td>[-0.5902604999999999, 2.566964]</td>\n",
       "      <td>[{'value': 1.0815871336141434}, {'value': 1.03...</td>\n",
       "      <td>...</td>\n",
       "      <td>NaN</td>\n",
       "      <td>[77.520905, 79.352675]</td>\n",
       "      <td>[-0.5902604999999999, 2.566964]</td>\n",
       "      <td>[{'value': 1.0815871336141434}, {'value': 1.03...</td>\n",
       "      <td>[{'value': 0.9893602593326579}, {'value': 0.98...</td>\n",
       "      <td>[{'value': 99.0}, {'value': 49.5}, {'value': 2...</td>\n",
       "      <td>[{'value': 78.45548, 'outlier': False}, {'valu...</td>\n",
       "      <td>NaN</td>\n",
       "      <td>NaN</td>\n",
       "      <td>NaN</td>\n",
       "    </tr>\n",
       "    <tr>\n",
       "      <th>36</th>\n",
       "      <td>O=C(Cc1cncc2ccccc12)Nc1ccccc1</td>\n",
       "      <td>[{'value': 100.0}]</td>\n",
       "      <td>[{'value': 0.0}]</td>\n",
       "      <td>[{'value': 1.4978014037010325}]</td>\n",
       "      <td>[{'value': 0.9715456451982201}]</td>\n",
       "      <td>[{'value': 100.0}, {'value': 33.33333333333333...</td>\n",
       "      <td>[75.57385484282172, 40.76427177018337, 12.2779...</td>\n",
       "      <td>[61.19036, 63.504459999999995]</td>\n",
       "      <td>[-1.86915885, -26.227678]</td>\n",
       "      <td>[{'value': 1.1054212367637406}, {'value': 1.15...</td>\n",
       "      <td>...</td>\n",
       "      <td>NaN</td>\n",
       "      <td>[61.19036, 63.504459999999995]</td>\n",
       "      <td>[-1.86915885, -26.227678]</td>\n",
       "      <td>[{'value': 1.1054212367637406}, {'value': 1.15...</td>\n",
       "      <td>[{'value': 0.9865462759438266}, {'value': 0.75...</td>\n",
       "      <td>[{'value': 99.0}, {'value': 49.5}, {'value': 2...</td>\n",
       "      <td>[{'value': 61.82981, 'outlier': False}, {'valu...</td>\n",
       "      <td>NaN</td>\n",
       "      <td>NaN</td>\n",
       "      <td>99.0</td>\n",
       "    </tr>\n",
       "    <tr>\n",
       "      <th>107</th>\n",
       "      <td>N#Cc1cc(Cl)cc(NC(=O)Nc2cccnc2)c1</td>\n",
       "      <td>NaN</td>\n",
       "      <td>NaN</td>\n",
       "      <td>NaN</td>\n",
       "      <td>NaN</td>\n",
       "      <td>NaN</td>\n",
       "      <td>NaN</td>\n",
       "      <td>[37.82614]</td>\n",
       "      <td>[-14.838629]</td>\n",
       "      <td>[{'value': 1.0537926850550778}]</td>\n",
       "      <td>...</td>\n",
       "      <td>NaN</td>\n",
       "      <td>[37.82614]</td>\n",
       "      <td>[-14.838629]</td>\n",
       "      <td>[{'value': 1.0537926850550778}]</td>\n",
       "      <td>[{'value': 0.7316094759097787}]</td>\n",
       "      <td>[{'value': 99.01}, {'value': 49.5}, {'value': ...</td>\n",
       "      <td>[{'value': 34.48745, 'outlier': False}, {'valu...</td>\n",
       "      <td>NaN</td>\n",
       "      <td>NaN</td>\n",
       "      <td>99.0</td>\n",
       "    </tr>\n",
       "  </tbody>\n",
       "</table>\n",
       "<p>5 rows × 170 columns</p>\n",
       "</div>"
      ],
      "text/plain": [
       "                                   SMILES r_max_inhibition_reading_x  \\\n",
       "24        N#Cc1cccc(NC(=O)Nc2cncc(N)c2)c1                        NaN   \n",
       "27   N#Cc1cccc(NC(=O)Nc2c[nH]c3ncccc23)c1                        NaN   \n",
       "35     N#Cc1cccc(NC(=O)Cc2cncc3ccccc23)c1         [{'value': 100.0}]   \n",
       "36          O=C(Cc1cncc2ccccc12)Nc1ccccc1         [{'value': 100.0}]   \n",
       "107      N#Cc1cc(Cl)cc(NC(=O)Nc2cccnc2)c1                        NaN   \n",
       "\n",
       "    r_min_inhibition_reading_x                   r_hill_slope_x  \\\n",
       "24                         NaN                              NaN   \n",
       "27                         NaN                              NaN   \n",
       "35            [{'value': 0.0}]   [{'value': 1.342001607404534}]   \n",
       "36            [{'value': 0.0}]  [{'value': 1.4978014037010325}]   \n",
       "107                        NaN                              NaN   \n",
       "\n",
       "                              r_R2_x  \\\n",
       "24                               NaN   \n",
       "27                               NaN   \n",
       "35   [{'value': 0.9584303066575189}]   \n",
       "36   [{'value': 0.9715456451982201}]   \n",
       "107                              NaN   \n",
       "\n",
       "                                  r_concentration_uM_x  \\\n",
       "24                                                 NaN   \n",
       "27                                                 NaN   \n",
       "35   [{'value': 100.0}, {'value': 33.33333333333333...   \n",
       "36   [{'value': 100.0}, {'value': 33.33333333333333...   \n",
       "107                                                NaN   \n",
       "\n",
       "                                   r_inhibition_list_x  \\\n",
       "24                                                 NaN   \n",
       "27                                                 NaN   \n",
       "35   [87.13432893410572, 70.99683314259158, 44.1865...   \n",
       "36   [75.57385484282172, 40.76427177018337, 12.2779...   \n",
       "107                                                NaN   \n",
       "\n",
       "         f_max_inhibition_reading_x       f_min_inhibition_reading_x  \\\n",
       "24                       [63.23729]                      [1.3849385]   \n",
       "27             [59.787310000000005]            [-4.0929875000000004]   \n",
       "35           [77.520905, 79.352675]  [-0.5902604999999999, 2.566964]   \n",
       "36   [61.19036, 63.504459999999995]        [-1.86915885, -26.227678]   \n",
       "107                      [37.82614]                     [-14.838629]   \n",
       "\n",
       "                                        f_hill_slope_x  ... f_avg_pIC50  \\\n",
       "24                     [{'value': 0.9450030604115591}]  ...         NaN   \n",
       "27                       [{'value': 1.02447223384785}]  ...         NaN   \n",
       "35   [{'value': 1.0815871336141434}, {'value': 1.03...  ...         NaN   \n",
       "36   [{'value': 1.1054212367637406}, {'value': 1.15...  ...         NaN   \n",
       "107                    [{'value': 1.0537926850550778}]  ...         NaN   \n",
       "\n",
       "           f_max_inhibition_reading         f_min_inhibition_reading  \\\n",
       "24                       [63.23729]                      [1.3849385]   \n",
       "27             [59.787310000000005]            [-4.0929875000000004]   \n",
       "35           [77.520905, 79.352675]  [-0.5902604999999999, 2.566964]   \n",
       "36   [61.19036, 63.504459999999995]        [-1.86915885, -26.227678]   \n",
       "107                      [37.82614]                     [-14.838629]   \n",
       "\n",
       "                                          f_hill_slope  \\\n",
       "24                     [{'value': 0.9450030604115591}]   \n",
       "27                       [{'value': 1.02447223384785}]   \n",
       "35   [{'value': 1.0815871336141434}, {'value': 1.03...   \n",
       "36   [{'value': 1.1054212367637406}, {'value': 1.15...   \n",
       "107                    [{'value': 1.0537926850550778}]   \n",
       "\n",
       "                                                  f_R2  \\\n",
       "24                     [{'value': 0.9369452093357596}]   \n",
       "27                     [{'value': 0.9166699422345314}]   \n",
       "35   [{'value': 0.9893602593326579}, {'value': 0.98...   \n",
       "36   [{'value': 0.9865462759438266}, {'value': 0.75...   \n",
       "107                    [{'value': 0.7316094759097787}]   \n",
       "\n",
       "                                    f_concentration_uM  \\\n",
       "24   [{'value': 99.03}, {'value': 49.52}, {'value':...   \n",
       "27   [{'value': 99.03}, {'value': 49.52}, {'value':...   \n",
       "35   [{'value': 99.0}, {'value': 49.5}, {'value': 2...   \n",
       "36   [{'value': 99.0}, {'value': 49.5}, {'value': 2...   \n",
       "107  [{'value': 99.01}, {'value': 49.5}, {'value': ...   \n",
       "\n",
       "                                     f_inhibition_list  \\\n",
       "24   [{'value': 60.13354, 'outlier': False}, {'valu...   \n",
       "27   [{'value': 58.60022, 'outlier': False}, {'valu...   \n",
       "35   [{'value': 78.45548, 'outlier': False}, {'valu...   \n",
       "36   [{'value': 61.82981, 'outlier': False}, {'valu...   \n",
       "107  [{'value': 34.48745, 'outlier': False}, {'valu...   \n",
       "\n",
       "    relative_solubility_at_20_uM relative_solubility_at_100_uM trypsin_IC50  \n",
       "24                           NaN                           NaN         99.0  \n",
       "27                           NaN                           NaN         99.0  \n",
       "35                           NaN                           NaN          NaN  \n",
       "36                           NaN                           NaN         99.0  \n",
       "107                          NaN                           NaN         99.0  \n",
       "\n",
       "[5 rows x 170 columns]"
      ]
     },
     "execution_count": 176,
     "metadata": {},
     "output_type": "execute_result"
    }
   ],
   "source": [
    "# for lists of sets remove 'vaue':value,'outlier':True\n",
    "\n",
    "def remove_outliers_from_list(lst):\n",
    "    if isinstance(lst, list):\n",
    "        return [item for item in lst if not isinstance(item, dict) or not item.get('outlier')]\n",
    "    return lst\n",
    "\n",
    "# Remove outliers from lists\n",
    "fixed_df = fixed_df.map(remove_outliers_from_list)\n",
    "\n",
    "fixed_df.head()"
   ]
  },
  {
   "cell_type": "code",
   "execution_count": 177,
   "metadata": {},
   "outputs": [
    {
     "data": {
      "text/html": [
       "<div>\n",
       "<style scoped>\n",
       "    .dataframe tbody tr th:only-of-type {\n",
       "        vertical-align: middle;\n",
       "    }\n",
       "\n",
       "    .dataframe tbody tr th {\n",
       "        vertical-align: top;\n",
       "    }\n",
       "\n",
       "    .dataframe thead th {\n",
       "        text-align: right;\n",
       "    }\n",
       "</style>\n",
       "<table border=\"1\" class=\"dataframe\">\n",
       "  <thead>\n",
       "    <tr style=\"text-align: right;\">\n",
       "      <th></th>\n",
       "      <th>SMILES</th>\n",
       "      <th>r_max_inhibition_reading_x</th>\n",
       "      <th>r_min_inhibition_reading_x</th>\n",
       "      <th>r_hill_slope_x</th>\n",
       "      <th>r_R2_x</th>\n",
       "      <th>r_concentration_uM_x</th>\n",
       "      <th>r_inhibition_list_x</th>\n",
       "      <th>f_max_inhibition_reading_x</th>\n",
       "      <th>f_min_inhibition_reading_x</th>\n",
       "      <th>f_hill_slope_x</th>\n",
       "      <th>...</th>\n",
       "      <th>f_avg_pIC50</th>\n",
       "      <th>f_max_inhibition_reading</th>\n",
       "      <th>f_min_inhibition_reading</th>\n",
       "      <th>f_hill_slope</th>\n",
       "      <th>f_R2</th>\n",
       "      <th>f_concentration_uM</th>\n",
       "      <th>f_inhibition_list</th>\n",
       "      <th>relative_solubility_at_20_uM</th>\n",
       "      <th>relative_solubility_at_100_uM</th>\n",
       "      <th>trypsin_IC50</th>\n",
       "    </tr>\n",
       "  </thead>\n",
       "  <tbody>\n",
       "    <tr>\n",
       "      <th>24</th>\n",
       "      <td>N#Cc1cccc(NC(=O)Nc2cncc(N)c2)c1</td>\n",
       "      <td>NaN</td>\n",
       "      <td>NaN</td>\n",
       "      <td>NaN</td>\n",
       "      <td>NaN</td>\n",
       "      <td>NaN</td>\n",
       "      <td>NaN</td>\n",
       "      <td>[63.23729]</td>\n",
       "      <td>[1.3849385]</td>\n",
       "      <td>[0.9450030604115591]</td>\n",
       "      <td>...</td>\n",
       "      <td>NaN</td>\n",
       "      <td>[63.23729]</td>\n",
       "      <td>[1.3849385]</td>\n",
       "      <td>[0.9450030604115591]</td>\n",
       "      <td>[0.9369452093357596]</td>\n",
       "      <td>[99.03, 49.52, 24.76, 12.38, 7.428, 2.476, 1.5...</td>\n",
       "      <td>[60.13354, 46.33362, 26.42513, 22.7402, 13.317...</td>\n",
       "      <td>NaN</td>\n",
       "      <td>NaN</td>\n",
       "      <td>99.0</td>\n",
       "    </tr>\n",
       "    <tr>\n",
       "      <th>27</th>\n",
       "      <td>N#Cc1cccc(NC(=O)Nc2c[nH]c3ncccc23)c1</td>\n",
       "      <td>NaN</td>\n",
       "      <td>NaN</td>\n",
       "      <td>NaN</td>\n",
       "      <td>NaN</td>\n",
       "      <td>NaN</td>\n",
       "      <td>NaN</td>\n",
       "      <td>[59.787310000000005]</td>\n",
       "      <td>[-4.0929875000000004]</td>\n",
       "      <td>[1.02447223384785]</td>\n",
       "      <td>...</td>\n",
       "      <td>NaN</td>\n",
       "      <td>[59.787310000000005]</td>\n",
       "      <td>[-4.0929875000000004]</td>\n",
       "      <td>[1.02447223384785]</td>\n",
       "      <td>[0.9166699422345314]</td>\n",
       "      <td>[99.03, 49.52, 24.76, 12.38, 7.428, 2.476, 1.5...</td>\n",
       "      <td>[58.60022, 42.20354, 23.21009, 14.60368, 3.870...</td>\n",
       "      <td>NaN</td>\n",
       "      <td>NaN</td>\n",
       "      <td>99.0</td>\n",
       "    </tr>\n",
       "    <tr>\n",
       "      <th>35</th>\n",
       "      <td>N#Cc1cccc(NC(=O)Cc2cncc3ccccc23)c1</td>\n",
       "      <td>[100.0]</td>\n",
       "      <td>[0.0]</td>\n",
       "      <td>[1.342001607404534]</td>\n",
       "      <td>[0.9584303066575189]</td>\n",
       "      <td>[100.0, 33.333333333333336, 11.111111111111112...</td>\n",
       "      <td>[87.13432893410572, 70.99683314259158, 44.1865...</td>\n",
       "      <td>[77.520905, 79.352675]</td>\n",
       "      <td>[-0.5902604999999999, 2.566964]</td>\n",
       "      <td>[1.0815871336141434, 1.0374295245771263]</td>\n",
       "      <td>...</td>\n",
       "      <td>NaN</td>\n",
       "      <td>[77.520905, 79.352675]</td>\n",
       "      <td>[-0.5902604999999999, 2.566964]</td>\n",
       "      <td>[1.0815871336141434, 1.0374295245771263]</td>\n",
       "      <td>[0.9893602593326579, 0.9840925064731559]</td>\n",
       "      <td>[99.0, 49.5, 24.8, 12.4, 6.19, 3.71, 1.24, 0.7...</td>\n",
       "      <td>[78.45548, 63.89572, 46.28627, 32.12002, 15.10...</td>\n",
       "      <td>NaN</td>\n",
       "      <td>NaN</td>\n",
       "      <td>NaN</td>\n",
       "    </tr>\n",
       "    <tr>\n",
       "      <th>36</th>\n",
       "      <td>O=C(Cc1cncc2ccccc12)Nc1ccccc1</td>\n",
       "      <td>[100.0]</td>\n",
       "      <td>[0.0]</td>\n",
       "      <td>[1.4978014037010325]</td>\n",
       "      <td>[0.9715456451982201]</td>\n",
       "      <td>[100.0, 33.333333333333336, 11.111111111111112...</td>\n",
       "      <td>[75.57385484282172, 40.76427177018337, 12.2779...</td>\n",
       "      <td>[61.19036, 63.504459999999995]</td>\n",
       "      <td>[-1.86915885, -26.227678]</td>\n",
       "      <td>[1.1054212367637406, 1.1573037197165452]</td>\n",
       "      <td>...</td>\n",
       "      <td>NaN</td>\n",
       "      <td>[61.19036, 63.504459999999995]</td>\n",
       "      <td>[-1.86915885, -26.227678]</td>\n",
       "      <td>[1.1054212367637406, 1.1573037197165452]</td>\n",
       "      <td>[0.9865462759438266, 0.7500287729985904]</td>\n",
       "      <td>[99.0, 49.5, 24.8, 12.4, 6.19, 3.71, 1.24, 0.7...</td>\n",
       "      <td>[61.82981, 43.82685, 27.29956, 16.67486, 6.050...</td>\n",
       "      <td>NaN</td>\n",
       "      <td>NaN</td>\n",
       "      <td>99.0</td>\n",
       "    </tr>\n",
       "    <tr>\n",
       "      <th>107</th>\n",
       "      <td>N#Cc1cc(Cl)cc(NC(=O)Nc2cccnc2)c1</td>\n",
       "      <td>NaN</td>\n",
       "      <td>NaN</td>\n",
       "      <td>NaN</td>\n",
       "      <td>NaN</td>\n",
       "      <td>NaN</td>\n",
       "      <td>NaN</td>\n",
       "      <td>[37.82614]</td>\n",
       "      <td>[-14.838629]</td>\n",
       "      <td>[1.0537926850550778]</td>\n",
       "      <td>...</td>\n",
       "      <td>NaN</td>\n",
       "      <td>[37.82614]</td>\n",
       "      <td>[-14.838629]</td>\n",
       "      <td>[1.0537926850550778]</td>\n",
       "      <td>[0.7316094759097787]</td>\n",
       "      <td>[99.01, 49.5, 24.75, 12.38, 6.188, 3.713, 1.23...</td>\n",
       "      <td>[34.48745, 27.38964, 8.767157, 10.25102, -4.38...</td>\n",
       "      <td>NaN</td>\n",
       "      <td>NaN</td>\n",
       "      <td>99.0</td>\n",
       "    </tr>\n",
       "  </tbody>\n",
       "</table>\n",
       "<p>5 rows × 170 columns</p>\n",
       "</div>"
      ],
      "text/plain": [
       "                                   SMILES r_max_inhibition_reading_x  \\\n",
       "24        N#Cc1cccc(NC(=O)Nc2cncc(N)c2)c1                        NaN   \n",
       "27   N#Cc1cccc(NC(=O)Nc2c[nH]c3ncccc23)c1                        NaN   \n",
       "35     N#Cc1cccc(NC(=O)Cc2cncc3ccccc23)c1                    [100.0]   \n",
       "36          O=C(Cc1cncc2ccccc12)Nc1ccccc1                    [100.0]   \n",
       "107      N#Cc1cc(Cl)cc(NC(=O)Nc2cccnc2)c1                        NaN   \n",
       "\n",
       "    r_min_inhibition_reading_x        r_hill_slope_x                r_R2_x  \\\n",
       "24                         NaN                   NaN                   NaN   \n",
       "27                         NaN                   NaN                   NaN   \n",
       "35                       [0.0]   [1.342001607404534]  [0.9584303066575189]   \n",
       "36                       [0.0]  [1.4978014037010325]  [0.9715456451982201]   \n",
       "107                        NaN                   NaN                   NaN   \n",
       "\n",
       "                                  r_concentration_uM_x  \\\n",
       "24                                                 NaN   \n",
       "27                                                 NaN   \n",
       "35   [100.0, 33.333333333333336, 11.111111111111112...   \n",
       "36   [100.0, 33.333333333333336, 11.111111111111112...   \n",
       "107                                                NaN   \n",
       "\n",
       "                                   r_inhibition_list_x  \\\n",
       "24                                                 NaN   \n",
       "27                                                 NaN   \n",
       "35   [87.13432893410572, 70.99683314259158, 44.1865...   \n",
       "36   [75.57385484282172, 40.76427177018337, 12.2779...   \n",
       "107                                                NaN   \n",
       "\n",
       "         f_max_inhibition_reading_x       f_min_inhibition_reading_x  \\\n",
       "24                       [63.23729]                      [1.3849385]   \n",
       "27             [59.787310000000005]            [-4.0929875000000004]   \n",
       "35           [77.520905, 79.352675]  [-0.5902604999999999, 2.566964]   \n",
       "36   [61.19036, 63.504459999999995]        [-1.86915885, -26.227678]   \n",
       "107                      [37.82614]                     [-14.838629]   \n",
       "\n",
       "                               f_hill_slope_x  ... f_avg_pIC50  \\\n",
       "24                       [0.9450030604115591]  ...         NaN   \n",
       "27                         [1.02447223384785]  ...         NaN   \n",
       "35   [1.0815871336141434, 1.0374295245771263]  ...         NaN   \n",
       "36   [1.1054212367637406, 1.1573037197165452]  ...         NaN   \n",
       "107                      [1.0537926850550778]  ...         NaN   \n",
       "\n",
       "           f_max_inhibition_reading         f_min_inhibition_reading  \\\n",
       "24                       [63.23729]                      [1.3849385]   \n",
       "27             [59.787310000000005]            [-4.0929875000000004]   \n",
       "35           [77.520905, 79.352675]  [-0.5902604999999999, 2.566964]   \n",
       "36   [61.19036, 63.504459999999995]        [-1.86915885, -26.227678]   \n",
       "107                      [37.82614]                     [-14.838629]   \n",
       "\n",
       "                                 f_hill_slope  \\\n",
       "24                       [0.9450030604115591]   \n",
       "27                         [1.02447223384785]   \n",
       "35   [1.0815871336141434, 1.0374295245771263]   \n",
       "36   [1.1054212367637406, 1.1573037197165452]   \n",
       "107                      [1.0537926850550778]   \n",
       "\n",
       "                                         f_R2  \\\n",
       "24                       [0.9369452093357596]   \n",
       "27                       [0.9166699422345314]   \n",
       "35   [0.9893602593326579, 0.9840925064731559]   \n",
       "36   [0.9865462759438266, 0.7500287729985904]   \n",
       "107                      [0.7316094759097787]   \n",
       "\n",
       "                                    f_concentration_uM  \\\n",
       "24   [99.03, 49.52, 24.76, 12.38, 7.428, 2.476, 1.5...   \n",
       "27   [99.03, 49.52, 24.76, 12.38, 7.428, 2.476, 1.5...   \n",
       "35   [99.0, 49.5, 24.8, 12.4, 6.19, 3.71, 1.24, 0.7...   \n",
       "36   [99.0, 49.5, 24.8, 12.4, 6.19, 3.71, 1.24, 0.7...   \n",
       "107  [99.01, 49.5, 24.75, 12.38, 6.188, 3.713, 1.23...   \n",
       "\n",
       "                                     f_inhibition_list  \\\n",
       "24   [60.13354, 46.33362, 26.42513, 22.7402, 13.317...   \n",
       "27   [58.60022, 42.20354, 23.21009, 14.60368, 3.870...   \n",
       "35   [78.45548, 63.89572, 46.28627, 32.12002, 15.10...   \n",
       "36   [61.82981, 43.82685, 27.29956, 16.67486, 6.050...   \n",
       "107  [34.48745, 27.38964, 8.767157, 10.25102, -4.38...   \n",
       "\n",
       "    relative_solubility_at_20_uM relative_solubility_at_100_uM trypsin_IC50  \n",
       "24                           NaN                           NaN         99.0  \n",
       "27                           NaN                           NaN         99.0  \n",
       "35                           NaN                           NaN          NaN  \n",
       "36                           NaN                           NaN         99.0  \n",
       "107                          NaN                           NaN         99.0  \n",
       "\n",
       "[5 rows x 170 columns]"
      ]
     },
     "execution_count": 177,
     "metadata": {},
     "output_type": "execute_result"
    }
   ],
   "source": [
    "# for lists of sets convert to list of values\n",
    "\n",
    "def convert_list_of_sets_to_list(lst):\n",
    "    if isinstance(lst, list):\n",
    "        return [item.get('value') if isinstance(item, dict) else item for item in lst]\n",
    "    return lst\n",
    "\n",
    "# Convert lists of sets to lists of values\n",
    "fixed_df = fixed_df.map(convert_list_of_sets_to_list)\n",
    "\n",
    "fixed_df.head()\n"
   ]
  },
  {
   "cell_type": "code",
   "execution_count": 178,
   "metadata": {},
   "outputs": [
    {
     "data": {
      "text/html": [
       "<div>\n",
       "<style scoped>\n",
       "    .dataframe tbody tr th:only-of-type {\n",
       "        vertical-align: middle;\n",
       "    }\n",
       "\n",
       "    .dataframe tbody tr th {\n",
       "        vertical-align: top;\n",
       "    }\n",
       "\n",
       "    .dataframe thead th {\n",
       "        text-align: right;\n",
       "    }\n",
       "</style>\n",
       "<table border=\"1\" class=\"dataframe\">\n",
       "  <thead>\n",
       "    <tr style=\"text-align: right;\">\n",
       "      <th></th>\n",
       "      <th>SMILES</th>\n",
       "      <th>r_max_inhibition_reading_x</th>\n",
       "      <th>r_min_inhibition_reading_x</th>\n",
       "      <th>r_hill_slope_x</th>\n",
       "      <th>r_R2_x</th>\n",
       "      <th>r_concentration_uM_x</th>\n",
       "      <th>r_inhibition_list_x</th>\n",
       "      <th>f_max_inhibition_reading_x</th>\n",
       "      <th>f_min_inhibition_reading_x</th>\n",
       "      <th>f_hill_slope_x</th>\n",
       "      <th>...</th>\n",
       "      <th>f_avg_pIC50</th>\n",
       "      <th>f_max_inhibition_reading</th>\n",
       "      <th>f_min_inhibition_reading</th>\n",
       "      <th>f_hill_slope</th>\n",
       "      <th>f_R2</th>\n",
       "      <th>f_concentration_uM</th>\n",
       "      <th>f_inhibition_list</th>\n",
       "      <th>relative_solubility_at_20_uM</th>\n",
       "      <th>relative_solubility_at_100_uM</th>\n",
       "      <th>trypsin_IC50</th>\n",
       "    </tr>\n",
       "  </thead>\n",
       "  <tbody>\n",
       "    <tr>\n",
       "      <th>24</th>\n",
       "      <td>N#Cc1cccc(NC(=O)Nc2cncc(N)c2)c1</td>\n",
       "      <td>NaN</td>\n",
       "      <td>NaN</td>\n",
       "      <td>NaN</td>\n",
       "      <td>NaN</td>\n",
       "      <td>NaN</td>\n",
       "      <td>NaN</td>\n",
       "      <td>[63.23729]</td>\n",
       "      <td>[1.3849385]</td>\n",
       "      <td>[0.9450030604115591]</td>\n",
       "      <td>...</td>\n",
       "      <td>NaN</td>\n",
       "      <td>[63.23729]</td>\n",
       "      <td>[1.3849385]</td>\n",
       "      <td>[0.9450030604115591]</td>\n",
       "      <td>[0.9369452093357596]</td>\n",
       "      <td>[99.03, 49.52, 24.76, 12.38, 7.428, 2.476, 1.5...</td>\n",
       "      <td>[60.13354, 46.33362, 26.42513, 22.7402, 13.317...</td>\n",
       "      <td>NaN</td>\n",
       "      <td>NaN</td>\n",
       "      <td>99.0</td>\n",
       "    </tr>\n",
       "    <tr>\n",
       "      <th>27</th>\n",
       "      <td>N#Cc1cccc(NC(=O)Nc2c[nH]c3ncccc23)c1</td>\n",
       "      <td>NaN</td>\n",
       "      <td>NaN</td>\n",
       "      <td>NaN</td>\n",
       "      <td>NaN</td>\n",
       "      <td>NaN</td>\n",
       "      <td>NaN</td>\n",
       "      <td>[59.787310000000005]</td>\n",
       "      <td>[-4.0929875000000004]</td>\n",
       "      <td>[1.02447223384785]</td>\n",
       "      <td>...</td>\n",
       "      <td>NaN</td>\n",
       "      <td>[59.787310000000005]</td>\n",
       "      <td>[-4.0929875000000004]</td>\n",
       "      <td>[1.02447223384785]</td>\n",
       "      <td>[0.9166699422345314]</td>\n",
       "      <td>[99.03, 49.52, 24.76, 12.38, 7.428, 2.476, 1.5...</td>\n",
       "      <td>[58.60022, 42.20354, 23.21009, 14.60368, 3.870...</td>\n",
       "      <td>NaN</td>\n",
       "      <td>NaN</td>\n",
       "      <td>99.0</td>\n",
       "    </tr>\n",
       "    <tr>\n",
       "      <th>35</th>\n",
       "      <td>N#Cc1cccc(NC(=O)Cc2cncc3ccccc23)c1</td>\n",
       "      <td>[100.0]</td>\n",
       "      <td>[0.0]</td>\n",
       "      <td>[1.342001607404534]</td>\n",
       "      <td>[0.9584303066575189]</td>\n",
       "      <td>[100.0, 33.333333333333336, 11.111111111111112...</td>\n",
       "      <td>[87.13432893410572, 70.99683314259158, 44.1865...</td>\n",
       "      <td>[77.520905, 79.352675]</td>\n",
       "      <td>[-0.5902604999999999, 2.566964]</td>\n",
       "      <td>[1.0815871336141434, 1.0374295245771263]</td>\n",
       "      <td>...</td>\n",
       "      <td>NaN</td>\n",
       "      <td>[77.520905, 79.352675]</td>\n",
       "      <td>[-0.5902604999999999, 2.566964]</td>\n",
       "      <td>[1.0815871336141434, 1.0374295245771263]</td>\n",
       "      <td>[0.9893602593326579, 0.9840925064731559]</td>\n",
       "      <td>[99.0, 49.5, 24.8, 12.4, 6.19, 3.71, 1.24, 0.7...</td>\n",
       "      <td>[78.45548, 63.89572, 46.28627, 32.12002, 15.10...</td>\n",
       "      <td>NaN</td>\n",
       "      <td>NaN</td>\n",
       "      <td>NaN</td>\n",
       "    </tr>\n",
       "    <tr>\n",
       "      <th>36</th>\n",
       "      <td>O=C(Cc1cncc2ccccc12)Nc1ccccc1</td>\n",
       "      <td>[100.0]</td>\n",
       "      <td>[0.0]</td>\n",
       "      <td>[1.4978014037010325]</td>\n",
       "      <td>[0.9715456451982201]</td>\n",
       "      <td>[100.0, 33.333333333333336, 11.111111111111112...</td>\n",
       "      <td>[75.57385484282172, 40.76427177018337, 12.2779...</td>\n",
       "      <td>[61.19036, 63.504459999999995]</td>\n",
       "      <td>[-1.86915885, -26.227678]</td>\n",
       "      <td>[1.1054212367637406, 1.1573037197165452]</td>\n",
       "      <td>...</td>\n",
       "      <td>NaN</td>\n",
       "      <td>[61.19036, 63.504459999999995]</td>\n",
       "      <td>[-1.86915885, -26.227678]</td>\n",
       "      <td>[1.1054212367637406, 1.1573037197165452]</td>\n",
       "      <td>[0.9865462759438266, 0.7500287729985904]</td>\n",
       "      <td>[99.0, 49.5, 24.8, 12.4, 6.19, 3.71, 1.24, 0.7...</td>\n",
       "      <td>[61.82981, 43.82685, 27.29956, 16.67486, 6.050...</td>\n",
       "      <td>NaN</td>\n",
       "      <td>NaN</td>\n",
       "      <td>99.0</td>\n",
       "    </tr>\n",
       "    <tr>\n",
       "      <th>107</th>\n",
       "      <td>N#Cc1cc(Cl)cc(NC(=O)Nc2cccnc2)c1</td>\n",
       "      <td>NaN</td>\n",
       "      <td>NaN</td>\n",
       "      <td>NaN</td>\n",
       "      <td>NaN</td>\n",
       "      <td>NaN</td>\n",
       "      <td>NaN</td>\n",
       "      <td>[37.82614]</td>\n",
       "      <td>[-14.838629]</td>\n",
       "      <td>[1.0537926850550778]</td>\n",
       "      <td>...</td>\n",
       "      <td>NaN</td>\n",
       "      <td>[37.82614]</td>\n",
       "      <td>[-14.838629]</td>\n",
       "      <td>[1.0537926850550778]</td>\n",
       "      <td>[0.7316094759097787]</td>\n",
       "      <td>[99.01, 49.5, 24.75, 12.38, 6.188, 3.713, 1.23...</td>\n",
       "      <td>[34.48745, 27.38964, 8.767157, 10.25102, -4.38...</td>\n",
       "      <td>NaN</td>\n",
       "      <td>NaN</td>\n",
       "      <td>99.0</td>\n",
       "    </tr>\n",
       "  </tbody>\n",
       "</table>\n",
       "<p>5 rows × 170 columns</p>\n",
       "</div>"
      ],
      "text/plain": [
       "                                   SMILES r_max_inhibition_reading_x  \\\n",
       "24        N#Cc1cccc(NC(=O)Nc2cncc(N)c2)c1                        NaN   \n",
       "27   N#Cc1cccc(NC(=O)Nc2c[nH]c3ncccc23)c1                        NaN   \n",
       "35     N#Cc1cccc(NC(=O)Cc2cncc3ccccc23)c1                    [100.0]   \n",
       "36          O=C(Cc1cncc2ccccc12)Nc1ccccc1                    [100.0]   \n",
       "107      N#Cc1cc(Cl)cc(NC(=O)Nc2cccnc2)c1                        NaN   \n",
       "\n",
       "    r_min_inhibition_reading_x        r_hill_slope_x                r_R2_x  \\\n",
       "24                         NaN                   NaN                   NaN   \n",
       "27                         NaN                   NaN                   NaN   \n",
       "35                       [0.0]   [1.342001607404534]  [0.9584303066575189]   \n",
       "36                       [0.0]  [1.4978014037010325]  [0.9715456451982201]   \n",
       "107                        NaN                   NaN                   NaN   \n",
       "\n",
       "                                  r_concentration_uM_x  \\\n",
       "24                                                 NaN   \n",
       "27                                                 NaN   \n",
       "35   [100.0, 33.333333333333336, 11.111111111111112...   \n",
       "36   [100.0, 33.333333333333336, 11.111111111111112...   \n",
       "107                                                NaN   \n",
       "\n",
       "                                   r_inhibition_list_x  \\\n",
       "24                                                 NaN   \n",
       "27                                                 NaN   \n",
       "35   [87.13432893410572, 70.99683314259158, 44.1865...   \n",
       "36   [75.57385484282172, 40.76427177018337, 12.2779...   \n",
       "107                                                NaN   \n",
       "\n",
       "         f_max_inhibition_reading_x       f_min_inhibition_reading_x  \\\n",
       "24                       [63.23729]                      [1.3849385]   \n",
       "27             [59.787310000000005]            [-4.0929875000000004]   \n",
       "35           [77.520905, 79.352675]  [-0.5902604999999999, 2.566964]   \n",
       "36   [61.19036, 63.504459999999995]        [-1.86915885, -26.227678]   \n",
       "107                      [37.82614]                     [-14.838629]   \n",
       "\n",
       "                               f_hill_slope_x  ... f_avg_pIC50  \\\n",
       "24                       [0.9450030604115591]  ...         NaN   \n",
       "27                         [1.02447223384785]  ...         NaN   \n",
       "35   [1.0815871336141434, 1.0374295245771263]  ...         NaN   \n",
       "36   [1.1054212367637406, 1.1573037197165452]  ...         NaN   \n",
       "107                      [1.0537926850550778]  ...         NaN   \n",
       "\n",
       "           f_max_inhibition_reading         f_min_inhibition_reading  \\\n",
       "24                       [63.23729]                      [1.3849385]   \n",
       "27             [59.787310000000005]            [-4.0929875000000004]   \n",
       "35           [77.520905, 79.352675]  [-0.5902604999999999, 2.566964]   \n",
       "36   [61.19036, 63.504459999999995]        [-1.86915885, -26.227678]   \n",
       "107                      [37.82614]                     [-14.838629]   \n",
       "\n",
       "                                 f_hill_slope  \\\n",
       "24                       [0.9450030604115591]   \n",
       "27                         [1.02447223384785]   \n",
       "35   [1.0815871336141434, 1.0374295245771263]   \n",
       "36   [1.1054212367637406, 1.1573037197165452]   \n",
       "107                      [1.0537926850550778]   \n",
       "\n",
       "                                         f_R2  \\\n",
       "24                       [0.9369452093357596]   \n",
       "27                       [0.9166699422345314]   \n",
       "35   [0.9893602593326579, 0.9840925064731559]   \n",
       "36   [0.9865462759438266, 0.7500287729985904]   \n",
       "107                      [0.7316094759097787]   \n",
       "\n",
       "                                    f_concentration_uM  \\\n",
       "24   [99.03, 49.52, 24.76, 12.38, 7.428, 2.476, 1.5...   \n",
       "27   [99.03, 49.52, 24.76, 12.38, 7.428, 2.476, 1.5...   \n",
       "35   [99.0, 49.5, 24.8, 12.4, 6.19, 3.71, 1.24, 0.7...   \n",
       "36   [99.0, 49.5, 24.8, 12.4, 6.19, 3.71, 1.24, 0.7...   \n",
       "107  [99.01, 49.5, 24.75, 12.38, 6.188, 3.713, 1.23...   \n",
       "\n",
       "                                     f_inhibition_list  \\\n",
       "24   [60.13354, 46.33362, 26.42513, 22.7402, 13.317...   \n",
       "27   [58.60022, 42.20354, 23.21009, 14.60368, 3.870...   \n",
       "35   [78.45548, 63.89572, 46.28627, 32.12002, 15.10...   \n",
       "36   [61.82981, 43.82685, 27.29956, 16.67486, 6.050...   \n",
       "107  [34.48745, 27.38964, 8.767157, 10.25102, -4.38...   \n",
       "\n",
       "    relative_solubility_at_20_uM relative_solubility_at_100_uM trypsin_IC50  \n",
       "24                           NaN                           NaN         99.0  \n",
       "27                           NaN                           NaN         99.0  \n",
       "35                           NaN                           NaN          NaN  \n",
       "36                           NaN                           NaN         99.0  \n",
       "107                          NaN                           NaN         99.0  \n",
       "\n",
       "[5 rows x 170 columns]"
      ]
     },
     "execution_count": 178,
     "metadata": {},
     "output_type": "execute_result"
    }
   ],
   "source": [
    "# remove lists of nans\n",
    "\n",
    "def remove_nans_from_list(lst):\n",
    "    if isinstance(lst, list):\n",
    "        return [item for item in lst if pd.notnull(item)]\n",
    "    return lst\n",
    "\n",
    "# Remove NaNs from lists\n",
    "fixed_df = fixed_df.map(remove_nans_from_list)\n",
    "\n",
    "fixed_df.head()"
   ]
  },
  {
   "cell_type": "code",
   "execution_count": 196,
   "metadata": {},
   "outputs": [
    {
     "name": "stdout",
     "output_type": "stream",
     "text": [
      "SMILES\n",
      "0.0020218358269308533\n",
      "r_inhibition_list_x\n",
      "0.005580357142857143\n",
      "f_inhibition_list_x\n",
      "0.0030864197530864196\n",
      "fragments.1\n",
      "[]\n",
      "r_inhibition_list_y\n",
      "0.005580357142857143\n",
      "f_inhibition_list_y\n",
      "0.002279981760145919\n",
      "fragments.1.1\n",
      "[]\n",
      "r_inhibition_list_x.1\n",
      "0.005580357142857143\n",
      "f_inhibition_list_x.1\n",
      "0.0022644927536231885\n",
      "fragments.1.1.1\n",
      "[]\n",
      "r_inhibition_list_y.1\n",
      "0.005580357142857143\n",
      "f_inhibition_list_y.1\n",
      "0.0022644927536231885\n",
      "fragments.1.1.1.1\n",
      "[]\n",
      "r_inhibition_list_x.1.1\n",
      "0.005580357142857143\n",
      "f_inhibition_list_x.1.1\n",
      "0.002240143369175627\n",
      "fragments.1.1.1.1.1\n",
      "[]\n",
      "r_inhibition_list_y.1.1\n",
      "0.005580357142857143\n",
      "f_inhibition_list_y.1.1\n",
      "0.002224199288256228\n",
      "fragments.1.1.1.1.1.1\n",
      "[]\n",
      "r_inhibition_list_x.1.1.1\n",
      "0.005580357142857143\n",
      "f_inhibition_list_x.1.1.1\n",
      "0.002224199288256228\n",
      "fragments.1.1.1.1.1.1.1\n",
      "[]\n",
      "r_inhibition_list_y.1.1.1\n",
      "0.005580357142857143\n",
      "f_inhibition_list_y.1.1.1\n",
      "0.002215330084182543\n",
      "fragments.1.1.1.1.1.1.1.1\n",
      "[]\n",
      "r_inhibition_list_x.1.1.1.1\n",
      "0.005580357142857143\n",
      "f_inhibition_list_x.1.1.1.1\n",
      "0.002215330084182543\n",
      "fragments.1.1.1.1.1.1.1.1.1\n",
      "[]\n",
      "r_inhibition_list_y.1.1.1.1\n",
      "0.005580357142857143\n",
      "f_inhibition_list_y.1.1.1.1\n",
      "0.002215330084182543\n",
      "r_inhibition_at_20_uM\n",
      "[]\n",
      "r_inhibition_at_50_uM\n",
      "[]\n",
      "r_avg_IC50\n",
      "0.3721461187214612\n",
      "r_avg_IC50\n",
      "99.000000    0.372146\n",
      "72.548152    0.005708\n",
      "48.018184    0.004566\n",
      "29.429970    0.004566\n",
      "1.623369     0.004566\n",
      "               ...   \n",
      "1.039082     0.001142\n",
      "0.826041     0.001142\n",
      "5.368832     0.001142\n",
      "15.969428    0.001142\n",
      "79.742781    0.001142\n",
      "Name: proportion, Length: 416, dtype: float64\n",
      "r_inhibition_list\n",
      "0.005580357142857143\n",
      "f_inhibition_at_20_uM\n",
      "[]\n",
      "f_inhibition_at_50_uM\n",
      "[]\n",
      "f_avg_IC50\n",
      "0.27059344552701503\n",
      "f_avg_IC50\n",
      "99.500000    0.270593\n",
      "99.000000    0.021258\n",
      "99.010002    0.005757\n",
      "0.050000     0.003100\n",
      "75.575041    0.002214\n",
      "               ...   \n",
      "9.334129     0.000443\n",
      "4.021991     0.000443\n",
      "12.413891    0.000443\n",
      "5.098336     0.000443\n",
      "0.202767     0.000443\n",
      "Name: proportion, Length: 1314, dtype: float64\n",
      "f_avg_pIC50\n",
      "[]\n",
      "f_inhibition_list\n",
      "0.0022026431718061676\n",
      "trypsin_IC50\n",
      "1.0\n",
      "trypsin_IC50\n",
      "99.0    1.0\n",
      "Name: proportion, dtype: float64\n"
     ]
    }
   ],
   "source": [
    "max_value_counts = []\n",
    "columns = []\n",
    "\n",
    "threshold = 0.05\n",
    "\n",
    "phrases_to_skip = [\n",
    "                   \"concentration_uM\", # many assays use the same concentrations so we want to keep this to rebuild the data\n",
    "\n",
    "                   ]\n",
    "\n",
    "phrases_to_remove = [\"max_inhibition\", \n",
    "                   \"min_inhibition\", \n",
    "                   \"hill_slope\", \n",
    "                   \"R2\", \n",
    "                       \"creator\",\n",
    "                   \"rationale\",\n",
    "                   \"solubility\",\n",
    "]\n",
    "\n",
    "for column in fixed_df.columns.to_list():\n",
    "\n",
    "    if any (phrase in column for phrase in phrases_to_skip):\n",
    "        continue\n",
    "\n",
    "    if any (phrase in column for phrase in phrases_to_remove):\n",
    "        continue\n",
    "\n",
    "    print(column)\n",
    "    try:\n",
    "        print(fixed_df[column].value_counts(normalize=True,ascending=False).values[0]) \n",
    "        max_value_counts.append(fixed_df[column].value_counts(normalize=True,ascending=False).values[0])\n",
    "        columns.append(column)\n",
    "        if fixed_df[column].value_counts(normalize=True,ascending=False).values[0] > threshold:\n",
    "            print(fixed_df[column].value_counts(normalize=True,ascending=False))\n",
    "\n",
    "    except:\n",
    "        print(fixed_df[column].value_counts(normalize=True,ascending=False).values) \n",
    "        max_value_counts.append(0)\n",
    "        columns.append(column)\n",
    "\n"
   ]
  },
  {
   "cell_type": "code",
   "execution_count": 197,
   "metadata": {},
   "outputs": [
    {
     "data": {
      "application/vnd.plotly.v1+json": {
       "config": {
        "plotlyServerURL": "https://plot.ly"
       },
       "data": [
        {
         "type": "bar",
         "x": [
          "SMILES",
          "r_inhibition_list_x",
          "f_inhibition_list_x",
          "fragments.1",
          "r_inhibition_list_y",
          "f_inhibition_list_y",
          "fragments.1.1",
          "r_inhibition_list_x.1",
          "f_inhibition_list_x.1",
          "fragments.1.1.1",
          "r_inhibition_list_y.1",
          "f_inhibition_list_y.1",
          "fragments.1.1.1.1",
          "r_inhibition_list_x.1.1",
          "f_inhibition_list_x.1.1",
          "fragments.1.1.1.1.1",
          "r_inhibition_list_y.1.1",
          "f_inhibition_list_y.1.1",
          "fragments.1.1.1.1.1.1",
          "r_inhibition_list_x.1.1.1",
          "f_inhibition_list_x.1.1.1",
          "fragments.1.1.1.1.1.1.1",
          "r_inhibition_list_y.1.1.1",
          "f_inhibition_list_y.1.1.1",
          "fragments.1.1.1.1.1.1.1.1",
          "r_inhibition_list_x.1.1.1.1",
          "f_inhibition_list_x.1.1.1.1",
          "fragments.1.1.1.1.1.1.1.1.1",
          "r_inhibition_list_y.1.1.1.1",
          "f_inhibition_list_y.1.1.1.1",
          "r_inhibition_at_20_uM",
          "r_inhibition_at_50_uM",
          "r_avg_IC50",
          "r_inhibition_list",
          "f_inhibition_at_20_uM",
          "f_inhibition_at_50_uM",
          "f_avg_IC50",
          "f_avg_pIC50",
          "f_inhibition_list",
          "trypsin_IC50"
         ],
         "y": [
          0.0020218358269308533,
          0.005580357142857143,
          0.0030864197530864196,
          0,
          0.005580357142857143,
          0.002279981760145919,
          0,
          0.005580357142857143,
          0.0022644927536231885,
          0,
          0.005580357142857143,
          0.0022644927536231885,
          0,
          0.005580357142857143,
          0.002240143369175627,
          0,
          0.005580357142857143,
          0.002224199288256228,
          0,
          0.005580357142857143,
          0.002224199288256228,
          0,
          0.005580357142857143,
          0.002215330084182543,
          0,
          0.005580357142857143,
          0.002215330084182543,
          0,
          0.005580357142857143,
          0.002215330084182543,
          0,
          0,
          0.3721461187214612,
          0.005580357142857143,
          0,
          0,
          0.27059344552701503,
          0,
          0.0022026431718061676,
          1
         ]
        }
       ],
       "layout": {
        "template": {
         "data": {
          "bar": [
           {
            "error_x": {
             "color": "#2a3f5f"
            },
            "error_y": {
             "color": "#2a3f5f"
            },
            "marker": {
             "line": {
              "color": "#E5ECF6",
              "width": 0.5
             },
             "pattern": {
              "fillmode": "overlay",
              "size": 10,
              "solidity": 0.2
             }
            },
            "type": "bar"
           }
          ],
          "barpolar": [
           {
            "marker": {
             "line": {
              "color": "#E5ECF6",
              "width": 0.5
             },
             "pattern": {
              "fillmode": "overlay",
              "size": 10,
              "solidity": 0.2
             }
            },
            "type": "barpolar"
           }
          ],
          "carpet": [
           {
            "aaxis": {
             "endlinecolor": "#2a3f5f",
             "gridcolor": "white",
             "linecolor": "white",
             "minorgridcolor": "white",
             "startlinecolor": "#2a3f5f"
            },
            "baxis": {
             "endlinecolor": "#2a3f5f",
             "gridcolor": "white",
             "linecolor": "white",
             "minorgridcolor": "white",
             "startlinecolor": "#2a3f5f"
            },
            "type": "carpet"
           }
          ],
          "choropleth": [
           {
            "colorbar": {
             "outlinewidth": 0,
             "ticks": ""
            },
            "type": "choropleth"
           }
          ],
          "contour": [
           {
            "colorbar": {
             "outlinewidth": 0,
             "ticks": ""
            },
            "colorscale": [
             [
              0,
              "#0d0887"
             ],
             [
              0.1111111111111111,
              "#46039f"
             ],
             [
              0.2222222222222222,
              "#7201a8"
             ],
             [
              0.3333333333333333,
              "#9c179e"
             ],
             [
              0.4444444444444444,
              "#bd3786"
             ],
             [
              0.5555555555555556,
              "#d8576b"
             ],
             [
              0.6666666666666666,
              "#ed7953"
             ],
             [
              0.7777777777777778,
              "#fb9f3a"
             ],
             [
              0.8888888888888888,
              "#fdca26"
             ],
             [
              1,
              "#f0f921"
             ]
            ],
            "type": "contour"
           }
          ],
          "contourcarpet": [
           {
            "colorbar": {
             "outlinewidth": 0,
             "ticks": ""
            },
            "type": "contourcarpet"
           }
          ],
          "heatmap": [
           {
            "colorbar": {
             "outlinewidth": 0,
             "ticks": ""
            },
            "colorscale": [
             [
              0,
              "#0d0887"
             ],
             [
              0.1111111111111111,
              "#46039f"
             ],
             [
              0.2222222222222222,
              "#7201a8"
             ],
             [
              0.3333333333333333,
              "#9c179e"
             ],
             [
              0.4444444444444444,
              "#bd3786"
             ],
             [
              0.5555555555555556,
              "#d8576b"
             ],
             [
              0.6666666666666666,
              "#ed7953"
             ],
             [
              0.7777777777777778,
              "#fb9f3a"
             ],
             [
              0.8888888888888888,
              "#fdca26"
             ],
             [
              1,
              "#f0f921"
             ]
            ],
            "type": "heatmap"
           }
          ],
          "heatmapgl": [
           {
            "colorbar": {
             "outlinewidth": 0,
             "ticks": ""
            },
            "colorscale": [
             [
              0,
              "#0d0887"
             ],
             [
              0.1111111111111111,
              "#46039f"
             ],
             [
              0.2222222222222222,
              "#7201a8"
             ],
             [
              0.3333333333333333,
              "#9c179e"
             ],
             [
              0.4444444444444444,
              "#bd3786"
             ],
             [
              0.5555555555555556,
              "#d8576b"
             ],
             [
              0.6666666666666666,
              "#ed7953"
             ],
             [
              0.7777777777777778,
              "#fb9f3a"
             ],
             [
              0.8888888888888888,
              "#fdca26"
             ],
             [
              1,
              "#f0f921"
             ]
            ],
            "type": "heatmapgl"
           }
          ],
          "histogram": [
           {
            "marker": {
             "pattern": {
              "fillmode": "overlay",
              "size": 10,
              "solidity": 0.2
             }
            },
            "type": "histogram"
           }
          ],
          "histogram2d": [
           {
            "colorbar": {
             "outlinewidth": 0,
             "ticks": ""
            },
            "colorscale": [
             [
              0,
              "#0d0887"
             ],
             [
              0.1111111111111111,
              "#46039f"
             ],
             [
              0.2222222222222222,
              "#7201a8"
             ],
             [
              0.3333333333333333,
              "#9c179e"
             ],
             [
              0.4444444444444444,
              "#bd3786"
             ],
             [
              0.5555555555555556,
              "#d8576b"
             ],
             [
              0.6666666666666666,
              "#ed7953"
             ],
             [
              0.7777777777777778,
              "#fb9f3a"
             ],
             [
              0.8888888888888888,
              "#fdca26"
             ],
             [
              1,
              "#f0f921"
             ]
            ],
            "type": "histogram2d"
           }
          ],
          "histogram2dcontour": [
           {
            "colorbar": {
             "outlinewidth": 0,
             "ticks": ""
            },
            "colorscale": [
             [
              0,
              "#0d0887"
             ],
             [
              0.1111111111111111,
              "#46039f"
             ],
             [
              0.2222222222222222,
              "#7201a8"
             ],
             [
              0.3333333333333333,
              "#9c179e"
             ],
             [
              0.4444444444444444,
              "#bd3786"
             ],
             [
              0.5555555555555556,
              "#d8576b"
             ],
             [
              0.6666666666666666,
              "#ed7953"
             ],
             [
              0.7777777777777778,
              "#fb9f3a"
             ],
             [
              0.8888888888888888,
              "#fdca26"
             ],
             [
              1,
              "#f0f921"
             ]
            ],
            "type": "histogram2dcontour"
           }
          ],
          "mesh3d": [
           {
            "colorbar": {
             "outlinewidth": 0,
             "ticks": ""
            },
            "type": "mesh3d"
           }
          ],
          "parcoords": [
           {
            "line": {
             "colorbar": {
              "outlinewidth": 0,
              "ticks": ""
             }
            },
            "type": "parcoords"
           }
          ],
          "pie": [
           {
            "automargin": true,
            "type": "pie"
           }
          ],
          "scatter": [
           {
            "fillpattern": {
             "fillmode": "overlay",
             "size": 10,
             "solidity": 0.2
            },
            "type": "scatter"
           }
          ],
          "scatter3d": [
           {
            "line": {
             "colorbar": {
              "outlinewidth": 0,
              "ticks": ""
             }
            },
            "marker": {
             "colorbar": {
              "outlinewidth": 0,
              "ticks": ""
             }
            },
            "type": "scatter3d"
           }
          ],
          "scattercarpet": [
           {
            "marker": {
             "colorbar": {
              "outlinewidth": 0,
              "ticks": ""
             }
            },
            "type": "scattercarpet"
           }
          ],
          "scattergeo": [
           {
            "marker": {
             "colorbar": {
              "outlinewidth": 0,
              "ticks": ""
             }
            },
            "type": "scattergeo"
           }
          ],
          "scattergl": [
           {
            "marker": {
             "colorbar": {
              "outlinewidth": 0,
              "ticks": ""
             }
            },
            "type": "scattergl"
           }
          ],
          "scattermapbox": [
           {
            "marker": {
             "colorbar": {
              "outlinewidth": 0,
              "ticks": ""
             }
            },
            "type": "scattermapbox"
           }
          ],
          "scatterpolar": [
           {
            "marker": {
             "colorbar": {
              "outlinewidth": 0,
              "ticks": ""
             }
            },
            "type": "scatterpolar"
           }
          ],
          "scatterpolargl": [
           {
            "marker": {
             "colorbar": {
              "outlinewidth": 0,
              "ticks": ""
             }
            },
            "type": "scatterpolargl"
           }
          ],
          "scatterternary": [
           {
            "marker": {
             "colorbar": {
              "outlinewidth": 0,
              "ticks": ""
             }
            },
            "type": "scatterternary"
           }
          ],
          "surface": [
           {
            "colorbar": {
             "outlinewidth": 0,
             "ticks": ""
            },
            "colorscale": [
             [
              0,
              "#0d0887"
             ],
             [
              0.1111111111111111,
              "#46039f"
             ],
             [
              0.2222222222222222,
              "#7201a8"
             ],
             [
              0.3333333333333333,
              "#9c179e"
             ],
             [
              0.4444444444444444,
              "#bd3786"
             ],
             [
              0.5555555555555556,
              "#d8576b"
             ],
             [
              0.6666666666666666,
              "#ed7953"
             ],
             [
              0.7777777777777778,
              "#fb9f3a"
             ],
             [
              0.8888888888888888,
              "#fdca26"
             ],
             [
              1,
              "#f0f921"
             ]
            ],
            "type": "surface"
           }
          ],
          "table": [
           {
            "cells": {
             "fill": {
              "color": "#EBF0F8"
             },
             "line": {
              "color": "white"
             }
            },
            "header": {
             "fill": {
              "color": "#C8D4E3"
             },
             "line": {
              "color": "white"
             }
            },
            "type": "table"
           }
          ]
         },
         "layout": {
          "annotationdefaults": {
           "arrowcolor": "#2a3f5f",
           "arrowhead": 0,
           "arrowwidth": 1
          },
          "autotypenumbers": "strict",
          "coloraxis": {
           "colorbar": {
            "outlinewidth": 0,
            "ticks": ""
           }
          },
          "colorscale": {
           "diverging": [
            [
             0,
             "#8e0152"
            ],
            [
             0.1,
             "#c51b7d"
            ],
            [
             0.2,
             "#de77ae"
            ],
            [
             0.3,
             "#f1b6da"
            ],
            [
             0.4,
             "#fde0ef"
            ],
            [
             0.5,
             "#f7f7f7"
            ],
            [
             0.6,
             "#e6f5d0"
            ],
            [
             0.7,
             "#b8e186"
            ],
            [
             0.8,
             "#7fbc41"
            ],
            [
             0.9,
             "#4d9221"
            ],
            [
             1,
             "#276419"
            ]
           ],
           "sequential": [
            [
             0,
             "#0d0887"
            ],
            [
             0.1111111111111111,
             "#46039f"
            ],
            [
             0.2222222222222222,
             "#7201a8"
            ],
            [
             0.3333333333333333,
             "#9c179e"
            ],
            [
             0.4444444444444444,
             "#bd3786"
            ],
            [
             0.5555555555555556,
             "#d8576b"
            ],
            [
             0.6666666666666666,
             "#ed7953"
            ],
            [
             0.7777777777777778,
             "#fb9f3a"
            ],
            [
             0.8888888888888888,
             "#fdca26"
            ],
            [
             1,
             "#f0f921"
            ]
           ],
           "sequentialminus": [
            [
             0,
             "#0d0887"
            ],
            [
             0.1111111111111111,
             "#46039f"
            ],
            [
             0.2222222222222222,
             "#7201a8"
            ],
            [
             0.3333333333333333,
             "#9c179e"
            ],
            [
             0.4444444444444444,
             "#bd3786"
            ],
            [
             0.5555555555555556,
             "#d8576b"
            ],
            [
             0.6666666666666666,
             "#ed7953"
            ],
            [
             0.7777777777777778,
             "#fb9f3a"
            ],
            [
             0.8888888888888888,
             "#fdca26"
            ],
            [
             1,
             "#f0f921"
            ]
           ]
          },
          "colorway": [
           "#636efa",
           "#EF553B",
           "#00cc96",
           "#ab63fa",
           "#FFA15A",
           "#19d3f3",
           "#FF6692",
           "#B6E880",
           "#FF97FF",
           "#FECB52"
          ],
          "font": {
           "color": "#2a3f5f"
          },
          "geo": {
           "bgcolor": "white",
           "lakecolor": "white",
           "landcolor": "#E5ECF6",
           "showlakes": true,
           "showland": true,
           "subunitcolor": "white"
          },
          "hoverlabel": {
           "align": "left"
          },
          "hovermode": "closest",
          "mapbox": {
           "style": "light"
          },
          "paper_bgcolor": "white",
          "plot_bgcolor": "#E5ECF6",
          "polar": {
           "angularaxis": {
            "gridcolor": "white",
            "linecolor": "white",
            "ticks": ""
           },
           "bgcolor": "#E5ECF6",
           "radialaxis": {
            "gridcolor": "white",
            "linecolor": "white",
            "ticks": ""
           }
          },
          "scene": {
           "xaxis": {
            "backgroundcolor": "#E5ECF6",
            "gridcolor": "white",
            "gridwidth": 2,
            "linecolor": "white",
            "showbackground": true,
            "ticks": "",
            "zerolinecolor": "white"
           },
           "yaxis": {
            "backgroundcolor": "#E5ECF6",
            "gridcolor": "white",
            "gridwidth": 2,
            "linecolor": "white",
            "showbackground": true,
            "ticks": "",
            "zerolinecolor": "white"
           },
           "zaxis": {
            "backgroundcolor": "#E5ECF6",
            "gridcolor": "white",
            "gridwidth": 2,
            "linecolor": "white",
            "showbackground": true,
            "ticks": "",
            "zerolinecolor": "white"
           }
          },
          "shapedefaults": {
           "line": {
            "color": "#2a3f5f"
           }
          },
          "ternary": {
           "aaxis": {
            "gridcolor": "white",
            "linecolor": "white",
            "ticks": ""
           },
           "baxis": {
            "gridcolor": "white",
            "linecolor": "white",
            "ticks": ""
           },
           "bgcolor": "#E5ECF6",
           "caxis": {
            "gridcolor": "white",
            "linecolor": "white",
            "ticks": ""
           }
          },
          "title": {
           "x": 0.05
          },
          "xaxis": {
           "automargin": true,
           "gridcolor": "white",
           "linecolor": "white",
           "ticks": "",
           "title": {
            "standoff": 15
           },
           "zerolinecolor": "white",
           "zerolinewidth": 2
          },
          "yaxis": {
           "automargin": true,
           "gridcolor": "white",
           "linecolor": "white",
           "ticks": "",
           "title": {
            "standoff": 15
           },
           "zerolinecolor": "white",
           "zerolinewidth": 2
          }
         }
        },
        "title": {
         "text": "Max value counts for each column"
        }
       }
      }
     },
     "metadata": {},
     "output_type": "display_data"
    }
   ],
   "source": [
    "#plot max value counts and column names\n",
    "\n",
    "fig = go.Figure(data=[go.Bar(\n",
    "    x=columns,\n",
    "    y=max_value_counts\n",
    ")])\n",
    "\n",
    "fig.update_layout(title_text='Max value counts for each column')\n",
    "\n",
    "fig.show()"
   ]
  },
  {
   "cell_type": "code",
   "execution_count": 198,
   "metadata": {},
   "outputs": [
    {
     "name": "stdout",
     "output_type": "stream",
     "text": [
      "r_max_inhibition_reading_x\n",
      "r_min_inhibition_reading_x\n",
      "r_hill_slope_x\n",
      "r_R2_x\n",
      "f_max_inhibition_reading_x\n",
      "f_min_inhibition_reading_x\n",
      "f_hill_slope_x\n",
      "f_R2_x\n",
      "creator.1\n",
      "rationale.1\n",
      "r_max_inhibition_reading_y\n",
      "r_min_inhibition_reading_y\n",
      "r_hill_slope_y\n",
      "r_R2_y\n",
      "f_max_inhibition_reading_y\n",
      "f_min_inhibition_reading_y\n",
      "f_hill_slope_y\n",
      "f_R2_y\n",
      "creator.1.1\n",
      "rationale.1.1\n",
      "r_max_inhibition_reading_x.1\n",
      "r_min_inhibition_reading_x.1\n",
      "r_hill_slope_x.1\n",
      "r_R2_x.1\n",
      "f_max_inhibition_reading_x.1\n",
      "f_min_inhibition_reading_x.1\n",
      "f_hill_slope_x.1\n",
      "f_R2_x.1\n",
      "creator.1.1.1\n",
      "rationale.1.1.1\n",
      "r_max_inhibition_reading_y.1\n",
      "r_min_inhibition_reading_y.1\n",
      "r_hill_slope_y.1\n",
      "r_R2_y.1\n",
      "f_max_inhibition_reading_y.1\n",
      "f_min_inhibition_reading_y.1\n",
      "f_hill_slope_y.1\n",
      "f_R2_y.1\n",
      "creator.1.1.1.1\n",
      "rationale.1.1.1.1\n",
      "r_max_inhibition_reading_x.1.1\n",
      "r_min_inhibition_reading_x.1.1\n",
      "r_hill_slope_x.1.1\n",
      "r_R2_x.1.1\n",
      "f_max_inhibition_reading_x.1.1\n",
      "f_min_inhibition_reading_x.1.1\n",
      "f_hill_slope_x.1.1\n",
      "f_R2_x.1.1\n",
      "creator.1.1.1.1.1\n",
      "rationale.1.1.1.1.1\n",
      "r_max_inhibition_reading_y.1.1\n",
      "r_min_inhibition_reading_y.1.1\n",
      "r_hill_slope_y.1.1\n",
      "r_R2_y.1.1\n",
      "f_max_inhibition_reading_y.1.1\n",
      "f_min_inhibition_reading_y.1.1\n",
      "f_hill_slope_y.1.1\n",
      "f_R2_y.1.1\n",
      "creator.1.1.1.1.1.1\n",
      "rationale.1.1.1.1.1.1\n",
      "r_max_inhibition_reading_x.1.1.1\n",
      "r_min_inhibition_reading_x.1.1.1\n",
      "r_hill_slope_x.1.1.1\n",
      "r_R2_x.1.1.1\n",
      "f_max_inhibition_reading_x.1.1.1\n",
      "f_min_inhibition_reading_x.1.1.1\n",
      "f_hill_slope_x.1.1.1\n",
      "f_R2_x.1.1.1\n",
      "creator.1.1.1.1.1.1.1\n",
      "rationale.1.1.1.1.1.1.1\n",
      "r_max_inhibition_reading_y.1.1.1\n",
      "r_min_inhibition_reading_y.1.1.1\n",
      "r_hill_slope_y.1.1.1\n",
      "r_R2_y.1.1.1\n",
      "f_max_inhibition_reading_y.1.1.1\n",
      "f_min_inhibition_reading_y.1.1.1\n",
      "f_hill_slope_y.1.1.1\n",
      "f_R2_y.1.1.1\n",
      "creator.1.1.1.1.1.1.1.1\n",
      "rationale.1.1.1.1.1.1.1.1\n",
      "r_max_inhibition_reading_x.1.1.1.1\n",
      "r_min_inhibition_reading_x.1.1.1.1\n",
      "r_hill_slope_x.1.1.1.1\n",
      "r_R2_x.1.1.1.1\n",
      "f_max_inhibition_reading_x.1.1.1.1\n",
      "f_min_inhibition_reading_x.1.1.1.1\n",
      "f_hill_slope_x.1.1.1.1\n",
      "f_R2_x.1.1.1.1\n",
      "creator.1.1.1.1.1.1.1.1.1\n",
      "rationale.1.1.1.1.1.1.1.1.1\n",
      "r_max_inhibition_reading_y.1.1.1.1\n",
      "r_min_inhibition_reading_y.1.1.1.1\n",
      "r_hill_slope_y.1.1.1.1\n",
      "r_R2_y.1.1.1.1\n",
      "f_max_inhibition_reading_y.1.1.1.1\n",
      "f_min_inhibition_reading_y.1.1.1.1\n",
      "f_hill_slope_y.1.1.1.1\n",
      "f_R2_y.1.1.1.1\n",
      "r_max_inhibition_reading\n",
      "r_min_inhibition_reading\n",
      "r_hill_slope\n",
      "r_R2\n",
      "f_max_inhibition_reading\n",
      "f_min_inhibition_reading\n",
      "f_hill_slope\n",
      "f_R2\n",
      "relative_solubility_at_20_uM\n",
      "relative_solubility_at_100_uM\n"
     ]
    }
   ],
   "source": [
    "# if column in phrases_to_remove remove it\n",
    "\n",
    "for column in fixed_df.columns.to_list():\n",
    "        if any (phrase in column for phrase in phrases_to_remove):\n",
    "            print(column)\n",
    "            fixed_df = fixed_df.drop(columns=column)\n",
    "\n",
    "\n",
    "\n",
    "# save CSV\n",
    "fixed_df.to_csv(\"fixed_df.csv\", index=False)"
   ]
  },
  {
   "cell_type": "code",
   "execution_count": 182,
   "metadata": {},
   "outputs": [
    {
     "ename": "SyntaxError",
     "evalue": "invalid syntax (2174354972.py, line 1)",
     "output_type": "error",
     "traceback": [
      "\u001b[0;36m  Cell \u001b[0;32mIn[182], line 1\u001b[0;36m\u001b[0m\n\u001b[0;31m    def remove_duplicate_columns_\u001b[0m\n\u001b[0m                                 ^\u001b[0m\n\u001b[0;31mSyntaxError\u001b[0m\u001b[0;31m:\u001b[0m invalid syntax\n"
     ]
    }
   ],
   "source": []
  }
 ],
 "metadata": {
  "kernelspec": {
   "display_name": "Python 3",
   "language": "python",
   "name": "python3"
  },
  "language_info": {
   "codemirror_mode": {
    "name": "ipython",
    "version": 3
   },
   "file_extension": ".py",
   "mimetype": "text/x-python",
   "name": "python",
   "nbconvert_exporter": "python",
   "pygments_lexer": "ipython3",
   "version": "3.10.13"
  }
 },
 "nbformat": 4,
 "nbformat_minor": 2
}
